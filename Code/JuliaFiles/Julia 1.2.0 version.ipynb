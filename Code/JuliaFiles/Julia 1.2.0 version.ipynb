{
 "cells": [
  {
   "cell_type": "code",
   "execution_count": 6,
   "metadata": {},
   "outputs": [
    {
     "name": "stderr",
     "output_type": "stream",
     "text": [
      "┌ Info: Precompiling Ipopt [b6b21f68-93f8-5de0-b562-5493be1d77c9]\n",
      "└ @ Base loading.jl:1242\n",
      "ERROR: LoadError: Ipopt not properly installed. Please run import Pkg; Pkg.build(\"Ipopt\")\n",
      "Stacktrace:\n",
      " [1] error(::String) at .\\error.jl:33\n",
      " [2] top-level scope at C:\\Users\\Admin\\.julia\\packages\\Ipopt\\vtrOr\\src\\Ipopt.jl:12\n",
      " [3] include at .\\boot.jl:328 [inlined]\n",
      " [4] include_relative(::Module, ::String) at .\\loading.jl:1094\n",
      " [5] include(::Module, ::String) at .\\Base.jl:31\n",
      " [6] top-level scope at none:2\n",
      " [7] eval at .\\boot.jl:330 [inlined]\n",
      " [8] eval(::Expr) at .\\client.jl:432\n",
      " [9] top-level scope at .\\none:3\n",
      "in expression starting at C:\\Users\\Admin\\.julia\\packages\\Ipopt\\vtrOr\\src\\Ipopt.jl:6\n"
     ]
    },
    {
     "ename": "LoadError",
     "evalue": "Failed to precompile Ipopt [b6b21f68-93f8-5de0-b562-5493be1d77c9] to C:\\Users\\Admin\\.julia\\compiled\\v1.2\\Ipopt\\yMQMo.ji.",
     "output_type": "error",
     "traceback": [
      "Failed to precompile Ipopt [b6b21f68-93f8-5de0-b562-5493be1d77c9] to C:\\Users\\Admin\\.julia\\compiled\\v1.2\\Ipopt\\yMQMo.ji.",
      "",
      "Stacktrace:",
      " [1] error(::String) at .\\error.jl:33",
      " [2] compilecache(::Base.PkgId, ::String) at .\\loading.jl:1253",
      " [3] _require(::Base.PkgId) at .\\loading.jl:1013",
      " [4] require(::Base.PkgId) at .\\loading.jl:911",
      " [5] require(::Module, ::Symbol) at .\\loading.jl:906",
      " [6] include at .\\boot.jl:328 [inlined]",
      " [7] include_relative(::Module, ::String) at .\\loading.jl:1094",
      " [8] include(::Module, ::String) at .\\Base.jl:31",
      " [9] include(::String) at .\\client.jl:431",
      " [10] top-level scope at In[6]:1"
     ]
    }
   ],
   "source": [
    "include(\"MasterAnalysis.jl\")"
   ]
  },
  {
   "cell_type": "code",
   "execution_count": 2,
   "metadata": {},
   "outputs": [],
   "source": [
    "using Pkg"
   ]
  },
  {
   "cell_type": "code",
   "execution_count": 5,
   "metadata": {},
   "outputs": [
    {
     "name": "stdout",
     "output_type": "stream",
     "text": [
      "\u001b[32m\u001b[1m Resolving\u001b[22m\u001b[39m package versions...\n",
      "\u001b[32m\u001b[1m Installed\u001b[22m\u001b[39m OpenBLAS32_jll ─────────────── v0.3.9+4\n",
      "\u001b[32m\u001b[1m Installed\u001b[22m\u001b[39m CompilerSupportLibraries_jll ─ v0.3.4+0\n",
      "\u001b[32m\u001b[1m Installed\u001b[22m\u001b[39m MutableArithmetics ─────────── v0.1.1\n",
      "\u001b[32m\u001b[1m Installed\u001b[22m\u001b[39m MathOptInterface ───────────── v0.9.8\n",
      "\u001b[32m\u001b[1m  Updating\u001b[22m\u001b[39m `C:\\Users\\Admin\\.julia\\environments\\v1.2\\Project.toml`\n",
      " \u001b[90m [b6b21f68]\u001b[39m\u001b[92m + Ipopt v0.7.0\u001b[39m\n",
      "\u001b[32m\u001b[1m  Updating\u001b[22m\u001b[39m `C:\\Users\\Admin\\.julia\\environments\\v1.2\\Manifest.toml`\n",
      " \u001b[90m [ae81ac8f]\u001b[39m\u001b[92m + ASL_jll v0.1.2+0\u001b[39m\n",
      " \u001b[90m [56f22d72]\u001b[39m\u001b[92m + Artifacts v1.3.0\u001b[39m\n",
      " \u001b[90m [6e4b80f9]\u001b[39m\u001b[92m + BenchmarkTools v0.4.3\u001b[39m\n",
      " \u001b[90m [e66e0078]\u001b[39m\u001b[92m + CompilerSupportLibraries_jll v0.3.4+0\u001b[39m\n",
      " \u001b[90m [b6b21f68]\u001b[39m\u001b[92m + Ipopt v0.7.0\u001b[39m\n",
      " \u001b[90m [9cc047cb]\u001b[39m\u001b[92m + Ipopt_jll v3.13.4+2\u001b[39m\n",
      " \u001b[90m [692b3bcd]\u001b[39m\u001b[92m + JLLWrappers v1.3.0\u001b[39m\n",
      " \u001b[90m [d00139f3]\u001b[39m\u001b[92m + METIS_jll v5.1.0+5\u001b[39m\n",
      " \u001b[90m [d7ed1dd3]\u001b[39m\u001b[92m + MUMPS_seq_jll v5.2.1+4\u001b[39m\n",
      " \u001b[90m [b8f27783]\u001b[39m\u001b[92m + MathOptInterface v0.9.8\u001b[39m\n",
      " \u001b[90m [d8a4904e]\u001b[39m\u001b[92m + MutableArithmetics v0.1.1\u001b[39m\n",
      " \u001b[90m [656ef2d0]\u001b[39m\u001b[92m + OpenBLAS32_jll v0.3.9+4\u001b[39m\n",
      " \u001b[90m [21216c6a]\u001b[39m\u001b[92m + Preferences v1.2.2\u001b[39m\n",
      " \u001b[90m [fa267f1f]\u001b[39m\u001b[92m + TOML v1.0.3\u001b[39m\n"
     ]
    }
   ],
   "source": [
    "Pkg.add(\"Ipopt\")"
   ]
  },
  {
   "cell_type": "code",
   "execution_count": null,
   "metadata": {},
   "outputs": [],
   "source": []
  }
 ],
 "metadata": {
  "kernelspec": {
   "display_name": "Julia 1.2.0",
   "language": "julia",
   "name": "julia-1.2"
  },
  "language_info": {
   "file_extension": ".jl",
   "mimetype": "application/julia",
   "name": "julia",
   "version": "1.2.0"
  }
 },
 "nbformat": 4,
 "nbformat_minor": 2
}
