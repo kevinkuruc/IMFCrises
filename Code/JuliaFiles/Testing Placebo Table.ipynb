{
 "cells": [
  {
   "cell_type": "code",
   "execution_count": null,
   "metadata": {},
   "outputs": [
    {
     "name": "stdout",
     "output_type": "stream",
     "text": [
      "Checkpoint 1\n"
     ]
    },
    {
     "name": "stderr",
     "output_type": "stream",
     "text": [
      "┌ Warning: indexing with colon as row will create a copy in the future use df[col_inds] to get the columns without copying\n",
      "│   caller = top-level scope at none:0\n",
      "└ @ Core none:0\n"
     ]
    },
    {
     "name": "stdout",
     "output_type": "stream",
     "text": [
      "This function takes: matching variables, weights on these matches, outcomes to predict, and Pool DataFrame as arguments and returns two DataFrames: placebos that have matches and then their synthetic controls.\n"
     ]
    },
    {
     "name": "stderr",
     "output_type": "stream",
     "text": [
      "┌ Warning: indexing with colon as row will create a copy in the future use df[col_inds] to get the columns without copying\n",
      "│   caller = RunningPlacebos(::Array{Symbol,1}, ::Array{Float64,2}, ::Array{Float64,1}, ::Array{Symbol,1}, ::DataFrame) at RunningPlacebosFunction.jl:18\n",
      "└ @ Main C:\\Users\\kevin\\Desktop\\IMF\\AERInsights\\Code\\RunningPlacebosFunction.jl:18\n",
      "┌ Warning: indexing with colon as row will create a copy in the future use df[col_inds] to get the columns without copying\n",
      "│   caller = RunningPlacebos(::Array{Symbol,1}, ::Array{Float64,2}, ::Array{Float64,1}, ::Array{Symbol,1}, ::DataFrame) at RunningPlacebosFunction.jl:23\n",
      "└ @ Main C:\\Users\\kevin\\Desktop\\IMF\\AERInsights\\Code\\RunningPlacebosFunction.jl:23\n",
      "┌ Warning: indexing with colon as row will create a copy in the future use df[col_inds] to get the columns without copying\n",
      "│   caller = #GenSynthetics#9(::Float64, ::Array{Float64,1}, ::Array{Float64,2}, ::Function, ::DataFrame, ::DataFrame, ::Array{Symbol,1}, ::Array{Symbol,1}) at GenSynthetics_NLopt.jl:24\n",
      "└ @ Main C:\\Users\\kevin\\Desktop\\IMF\\AERInsights\\Code\\GenSynthetics_NLopt.jl:24\n",
      "┌ Warning: indexing with colon as row will create a copy in the future use df[col_inds] to get the columns without copying\n",
      "│   caller = #GenSynthetics#9(::Float64, ::Array{Float64,1}, ::Array{Float64,2}, ::Function, ::DataFrame, ::DataFrame, ::Array{Symbol,1}, ::Array{Symbol,1}) at GenSynthetics_NLopt.jl:25\n",
      "└ @ Main C:\\Users\\kevin\\Desktop\\IMF\\AERInsights\\Code\\GenSynthetics_NLopt.jl:25\n",
      "┌ Warning: indexing with colon as row will create a copy in the future use df[col_inds] to get the columns without copying\n",
      "│   caller = #GenSynthetics#9(::Float64, ::Array{Float64,1}, ::Array{Float64,2}, ::Function, ::DataFrame, ::DataFrame, ::Array{Symbol,1}, ::Array{Symbol,1}) at GenSynthetics_NLopt.jl:41\n",
      "└ @ Main C:\\Users\\kevin\\Desktop\\IMF\\AERInsights\\Code\\GenSynthetics_NLopt.jl:41\n",
      "┌ Warning: indexing with colon as row will create a copy in the future use df[col_inds] to get the columns without copying\n",
      "│   caller = #GenSynthetics#9(::Float64, ::Array{Float64,1}, ::Array{Float64,2}, ::Function, ::DataFrame, ::DataFrame, ::Array{Symbol,1}, ::Array{Symbol,1}) at GenSynthetics_NLopt.jl:70\n",
      "└ @ Main C:\\Users\\kevin\\Desktop\\IMF\\AERInsights\\Code\\GenSynthetics_NLopt.jl:70\n",
      "┌ Warning: indexing with colon as row will create a copy in the future use df[col_inds] to get the columns without copying\n",
      "│   caller = #GenSynthetics#9(::Float64, ::Array{Float64,1}, ::Array{Float64,2}, ::Function, ::DataFrame, ::DataFrame, ::Array{Symbol,1}, ::Array{Symbol,1}) at GenSynthetics_NLopt.jl:99\n",
      "└ @ Main C:\\Users\\kevin\\Desktop\\IMF\\AERInsights\\Code\\GenSynthetics_NLopt.jl:99\n"
     ]
    },
    {
     "name": "stdout",
     "output_type": "stream",
     "text": [
      "ANGOLA       1996 has no local matches\n",
      "Albania 1990 has no local matches\n",
      "Albania 1994 has no local matches\n",
      "BANGLADESH   1976 has no local matches\n",
      "Belarus 1999 has no local matches\n",
      "BOLIVIA      1973 has no local matches\n",
      "Brazil 1976 has no local matches\n",
      "Botswana 1984 has no local matches\n",
      "Chile 1976 has no local matches\n",
      "CAMEROON     1989 has no local matches\n",
      "CONGO, DEM. REP. 1994 has no local matches\n",
      "COMOROS      1994 has no local matches\n",
      "Czech Republic 1996 has no local matches\n",
      "Egypt 1979 has no local matches\n",
      "ETHIOPIA     1993 has no local matches\n",
      "Gabon 2002 has no local matches\n",
      "GEORGIA      1991 has no local matches\n",
      "GUINEA-BISSAU 1980 has no local matches\n",
      "Equatorial Guinea 1994 has no local matches\n",
      "GUYANA       1982 has no local matches\n",
      "GUYANA       1987 has no local matches\n",
      "Iran 1985 has no local matches\n",
      "Iran 1992 has no local matches\n",
      "LIBERIA 1991 has no local matches\n",
      "Myanmar 2001 has no local matches\n",
      "NIGERIA      1983 has no local matches\n",
      "NIGERIA      2009 has no local matches\n",
      "Panama 1988 has no local matches\n",
      "Peru 1988 has no local matches\n",
      "Paraguay 1982 has no local matches\n",
      "Paraguay 1984 has no local matches\n",
      "SUDAN        1988 has no local matches\n",
      "SUDAN        1994 has no local matches\n",
      "SIERRA LEONE 1989 has no local matches\n",
      "El Salvador 1986 has no local matches\n",
      "Suriname 1990 has no local matches\n",
      "[6.0 7.0 8.0 9.0 10.0 11.0 Inf; 71.149 0.0 0.0 0.0 0.0 0.0 0.0; 0.0 0.0 0.0 0.0 0.0 0.0 0.0; 0.0 0.0 0.0 0.0 0.0 0.0 0.0; 0.0 0.0 0.0 0.0 0.0 0.0 0.0; 0.0 0.0 0.0 0.0 0.0 0.0 0.0; 0.0 0.0 0.0 0.0 0.0 0.0 0.0]This function takes: matching variables, weights on these matches, outcomes to predict, and Pool DataFrame as arguments and returns two DataFrames: placebos that have matches and then their synthetic controls.\n"
     ]
    },
    {
     "name": "stderr",
     "output_type": "stream",
     "text": [
      "┌ Warning: indexing with colon as row will create a copy in the future use df[col_inds] to get the columns without copying\n",
      "│   caller = RunningPlacebos(::Array{Symbol,1}, ::Array{Float64,2}, ::Array{Float64,1}, ::Array{Symbol,1}, ::DataFrame) at RunningPlacebosFunction.jl:18\n",
      "└ @ Main C:\\Users\\kevin\\Desktop\\IMF\\AERInsights\\Code\\RunningPlacebosFunction.jl:18\n",
      "┌ Warning: indexing with colon as row will create a copy in the future use df[col_inds] to get the columns without copying\n",
      "│   caller = RunningPlacebos(::Array{Symbol,1}, ::Array{Float64,2}, ::Array{Float64,1}, ::Array{Symbol,1}, ::DataFrame) at RunningPlacebosFunction.jl:23\n",
      "└ @ Main C:\\Users\\kevin\\Desktop\\IMF\\AERInsights\\Code\\RunningPlacebosFunction.jl:23\n",
      "┌ Warning: indexing with colon as row will create a copy in the future use df[col_inds] to get the columns without copying\n",
      "│   caller = #GenSynthetics#28(::Float64, ::Array{Float64,1}, ::Array{Float64,2}, ::Function, ::DataFrame, ::DataFrame, ::Array{Symbol,1}, ::Array{Symbol,1}) at GenSynthetics_NLopt.jl:24\n",
      "└ @ Main C:\\Users\\kevin\\Desktop\\IMF\\AERInsights\\Code\\GenSynthetics_NLopt.jl:24\n",
      "┌ Warning: indexing with colon as row will create a copy in the future use df[col_inds] to get the columns without copying\n",
      "│   caller = #GenSynthetics#28(::Float64, ::Array{Float64,1}, ::Array{Float64,2}, ::Function, ::DataFrame, ::DataFrame, ::Array{Symbol,1}, ::Array{Symbol,1}) at GenSynthetics_NLopt.jl:25\n",
      "└ @ Main C:\\Users\\kevin\\Desktop\\IMF\\AERInsights\\Code\\GenSynthetics_NLopt.jl:25\n",
      "┌ Warning: indexing with colon as row will create a copy in the future use df[col_inds] to get the columns without copying\n",
      "│   caller = #GenSynthetics#28(::Float64, ::Array{Float64,1}, ::Array{Float64,2}, ::Function, ::DataFrame, ::DataFrame, ::Array{Symbol,1}, ::Array{Symbol,1}) at GenSynthetics_NLopt.jl:41\n",
      "└ @ Main C:\\Users\\kevin\\Desktop\\IMF\\AERInsights\\Code\\GenSynthetics_NLopt.jl:41\n",
      "┌ Warning: indexing with colon as row will create a copy in the future use df[col_inds] to get the columns without copying\n",
      "│   caller = #GenSynthetics#28(::Float64, ::Array{Float64,1}, ::Array{Float64,2}, ::Function, ::DataFrame, ::DataFrame, ::Array{Symbol,1}, ::Array{Symbol,1}) at GenSynthetics_NLopt.jl:70\n",
      "└ @ Main C:\\Users\\kevin\\Desktop\\IMF\\AERInsights\\Code\\GenSynthetics_NLopt.jl:70\n"
     ]
    },
    {
     "name": "stdout",
     "output_type": "stream",
     "text": [
      "ANGOLA       1996 has no local matches\n",
      "Albania 1990 has no local matches\n",
      "Albania 1994 has no local matches\n"
     ]
    },
    {
     "name": "stderr",
     "output_type": "stream",
     "text": [
      "┌ Warning: indexing with colon as row will create a copy in the future use df[col_inds] to get the columns without copying\n",
      "│   caller = #GenSynthetics#28(::Float64, ::Array{Float64,1}, ::Array{Float64,2}, ::Function, ::DataFrame, ::DataFrame, ::Array{Symbol,1}, ::Array{Symbol,1}) at GenSynthetics_NLopt.jl:99\n",
      "└ @ Main C:\\Users\\kevin\\Desktop\\IMF\\AERInsights\\Code\\GenSynthetics_NLopt.jl:99\n"
     ]
    },
    {
     "name": "stdout",
     "output_type": "stream",
     "text": [
      "BANGLADESH   1976 has no local matches\n",
      "Belarus 1999 has no local matches\n",
      "BOLIVIA      1973 has no local matches\n",
      "Brazil 1976 has no local matches\n",
      "Chile 1976 has no local matches\n",
      "CAMEROON     1989 has no local matches\n",
      "CONGO, DEM. REP. 1994 has no local matches\n",
      "Czech Republic 1996 has no local matches\n",
      "Egypt 1979 has no local matches\n",
      "ETHIOPIA     1993 has no local matches\n",
      "Gabon 2002 has no local matches\n",
      "GEORGIA      1991 has no local matches\n",
      "GUINEA-BISSAU 1980 has no local matches\n",
      "Equatorial Guinea 1994 has no local matches\n",
      "GUYANA       1982 has no local matches\n",
      "Iran 1985 has no local matches\n",
      "Iran 1992 has no local matches\n",
      "LIBERIA 1991 has no local matches\n",
      "NIGERIA      1983 has no local matches\n",
      "NIGERIA      2009 has no local matches\n",
      "Panama 1988 has no local matches\n",
      "Peru 1988 has no local matches\n",
      "Paraguay 1982 has no local matches\n",
      "SUDAN        1988 has no local matches\n",
      "Suriname 1990 has no local matches\n",
      "[6.0 7.0 8.0 9.0 10.0 11.0 Inf; 71.149 69.6122 0.0 0.0 0.0 0.0 0.0; 0.0 0.0 0.0 0.0 0.0 0.0 0.0; 0.0 0.0 0.0 0.0 0.0 0.0 0.0; 0.0 0.0 0.0 0.0 0.0 0.0 0.0; 0.0 0.0 0.0 0.0 0.0 0.0 0.0; 0.0 0.0 0.0 0.0 0.0 0.0 0.0]This function takes: matching variables, weights on these matches, outcomes to predict, and Pool DataFrame as arguments and returns two DataFrames: placebos that have matches and then their synthetic controls.\n"
     ]
    },
    {
     "name": "stderr",
     "output_type": "stream",
     "text": [
      "┌ Warning: indexing with colon as row will create a copy in the future use df[col_inds] to get the columns without copying\n",
      "│   caller = RunningPlacebos(::Array{Symbol,1}, ::Array{Float64,2}, ::Array{Float64,1}, ::Array{Symbol,1}, ::DataFrame) at RunningPlacebosFunction.jl:18\n",
      "└ @ Main C:\\Users\\kevin\\Desktop\\IMF\\AERInsights\\Code\\RunningPlacebosFunction.jl:18\n",
      "┌ Warning: indexing with colon as row will create a copy in the future use df[col_inds] to get the columns without copying\n",
      "│   caller = RunningPlacebos(::Array{Symbol,1}, ::Array{Float64,2}, ::Array{Float64,1}, ::Array{Symbol,1}, ::DataFrame) at RunningPlacebosFunction.jl:23\n",
      "└ @ Main C:\\Users\\kevin\\Desktop\\IMF\\AERInsights\\Code\\RunningPlacebosFunction.jl:23\n",
      "┌ Warning: indexing with colon as row will create a copy in the future use df[col_inds] to get the columns without copying\n",
      "│   caller = #GenSynthetics#47(::Float64, ::Array{Float64,1}, ::Array{Float64,2}, ::Function, ::DataFrame, ::DataFrame, ::Array{Symbol,1}, ::Array{Symbol,1}) at GenSynthetics_NLopt.jl:24\n",
      "└ @ Main C:\\Users\\kevin\\Desktop\\IMF\\AERInsights\\Code\\GenSynthetics_NLopt.jl:24\n",
      "┌ Warning: indexing with colon as row will create a copy in the future use df[col_inds] to get the columns without copying\n",
      "│   caller = #GenSynthetics#47(::Float64, ::Array{Float64,1}, ::Array{Float64,2}, ::Function, ::DataFrame, ::DataFrame, ::Array{Symbol,1}, ::Array{Symbol,1}) at GenSynthetics_NLopt.jl:25\n",
      "└ @ Main C:\\Users\\kevin\\Desktop\\IMF\\AERInsights\\Code\\GenSynthetics_NLopt.jl:25\n",
      "┌ Warning: indexing with colon as row will create a copy in the future use df[col_inds] to get the columns without copying\n",
      "│   caller = #GenSynthetics#47(::Float64, ::Array{Float64,1}, ::Array{Float64,2}, ::Function, ::DataFrame, ::DataFrame, ::Array{Symbol,1}, ::Array{Symbol,1}) at GenSynthetics_NLopt.jl:41\n",
      "└ @ Main C:\\Users\\kevin\\Desktop\\IMF\\AERInsights\\Code\\GenSynthetics_NLopt.jl:41\n",
      "┌ Warning: indexing with colon as row will create a copy in the future use df[col_inds] to get the columns without copying\n",
      "│   caller = #GenSynthetics#47(::Float64, ::Array{Float64,1}, ::Array{Float64,2}, ::Function, ::DataFrame, ::DataFrame, ::Array{Symbol,1}, ::Array{Symbol,1}) at GenSynthetics_NLopt.jl:70\n",
      "└ @ Main C:\\Users\\kevin\\Desktop\\IMF\\AERInsights\\Code\\GenSynthetics_NLopt.jl:70\n"
     ]
    },
    {
     "name": "stdout",
     "output_type": "stream",
     "text": [
      "ANGOLA       1996 has no local matches\n",
      "Albania 1990 has no local matches\n",
      "Albania 1994 has no local matches"
     ]
    },
    {
     "name": "stderr",
     "output_type": "stream",
     "text": [
      "┌ Warning: indexing with colon as row will create a copy in the future use df[col_inds] to get the columns without copying\n",
      "│   caller = #GenSynthetics#47(::Float64, ::Array{Float64,1}, ::Array{Float64,2}, ::Function, ::DataFrame, ::DataFrame, ::Array{Symbol,1}, ::Array{Symbol,1}) at GenSynthetics_NLopt.jl:99\n",
      "└ @ Main C:\\Users\\kevin\\Desktop\\IMF\\AERInsights\\Code\\GenSynthetics_NLopt.jl:99\n"
     ]
    },
    {
     "name": "stdout",
     "output_type": "stream",
     "text": [
      "\n",
      "BANGLADESH   1976 has no local matches\n",
      "Belarus 1999 has no local matches\n",
      "BOLIVIA      1973 has no local matches\n",
      "Chile 1976 has no local matches\n",
      "CONGO, DEM. REP. 1994 has no local matches\n",
      "Czech Republic 1996 has no local matches\n",
      "ETHIOPIA     1993 has no local matches\n",
      "Gabon 2002 has no local matches\n",
      "GEORGIA      1991 has no local matches\n",
      "GUINEA-BISSAU 1980 has no local matches\n",
      "Equatorial Guinea 1994 has no local matches\n",
      "GUYANA       1982 has no local matches\n",
      "Iran 1985 has no local matches\n",
      "Iran 1992 has no local matches\n",
      "LIBERIA 1991 has no local matches\n",
      "NIGERIA      1983 has no local matches\n",
      "NIGERIA      2009 has no local matches\n",
      "Paraguay 1982 has no local matches\n",
      "[6.0 7.0 8.0 9.0 10.0 11.0 Inf; 71.149 69.6122 71.2296 0.0 0.0 0.0 0.0; 0.0 0.0 0.0 0.0 0.0 0.0 0.0; 0.0 0.0 0.0 0.0 0.0 0.0 0.0; 0.0 0.0 0.0 0.0 0.0 0.0 0.0; 0.0 0.0 0.0 0.0 0.0 0.0 0.0; 0.0 0.0 0.0 0.0 0.0 0.0 0.0]This function takes: matching variables, weights on these matches, outcomes to predict, and Pool DataFrame as arguments and returns two DataFrames: placebos that have matches and then their synthetic controls.\n"
     ]
    },
    {
     "name": "stderr",
     "output_type": "stream",
     "text": [
      "┌ Warning: indexing with colon as row will create a copy in the future use df[col_inds] to get the columns without copying\n",
      "│   caller = RunningPlacebos(::Array{Symbol,1}, ::Array{Float64,2}, ::Array{Float64,1}, ::Array{Symbol,1}, ::DataFrame) at RunningPlacebosFunction.jl:18\n",
      "└ @ Main C:\\Users\\kevin\\Desktop\\IMF\\AERInsights\\Code\\RunningPlacebosFunction.jl:18\n",
      "┌ Warning: indexing with colon as row will create a copy in the future use df[col_inds] to get the columns without copying\n",
      "│   caller = RunningPlacebos(::Array{Symbol,1}, ::Array{Float64,2}, ::Array{Float64,1}, ::Array{Symbol,1}, ::DataFrame) at RunningPlacebosFunction.jl:23\n",
      "└ @ Main C:\\Users\\kevin\\Desktop\\IMF\\AERInsights\\Code\\RunningPlacebosFunction.jl:23\n",
      "┌ Warning: indexing with colon as row will create a copy in the future use df[col_inds] to get the columns without copying\n",
      "│   caller = #GenSynthetics#66(::Float64, ::Array{Float64,1}, ::Array{Float64,2}, ::Function, ::DataFrame, ::DataFrame, ::Array{Symbol,1}, ::Array{Symbol,1}) at GenSynthetics_NLopt.jl:24\n",
      "└ @ Main C:\\Users\\kevin\\Desktop\\IMF\\AERInsights\\Code\\GenSynthetics_NLopt.jl:24\n",
      "┌ Warning: indexing with colon as row will create a copy in the future use df[col_inds] to get the columns without copying\n",
      "│   caller = #GenSynthetics#66(::Float64, ::Array{Float64,1}, ::Array{Float64,2}, ::Function, ::DataFrame, ::DataFrame, ::Array{Symbol,1}, ::Array{Symbol,1}) at GenSynthetics_NLopt.jl:25\n",
      "└ @ Main C:\\Users\\kevin\\Desktop\\IMF\\AERInsights\\Code\\GenSynthetics_NLopt.jl:25\n",
      "┌ Warning: indexing with colon as row will create a copy in the future use df[col_inds] to get the columns without copying\n",
      "│   caller = #GenSynthetics#66(::Float64, ::Array{Float64,1}, ::Array{Float64,2}, ::Function, ::DataFrame, ::DataFrame, ::Array{Symbol,1}, ::Array{Symbol,1}) at GenSynthetics_NLopt.jl:41\n",
      "└ @ Main C:\\Users\\kevin\\Desktop\\IMF\\AERInsights\\Code\\GenSynthetics_NLopt.jl:41\n",
      "┌ Warning: indexing with colon as row will create a copy in the future use df[col_inds] to get the columns without copying\n",
      "│   caller = #GenSynthetics#66(::Float64, ::Array{Float64,1}, ::Array{Float64,2}, ::Function, ::DataFrame, ::DataFrame, ::Array{Symbol,1}, ::Array{Symbol,1}) at GenSynthetics_NLopt.jl:70\n",
      "└ @ Main C:\\Users\\kevin\\Desktop\\IMF\\AERInsights\\Code\\GenSynthetics_NLopt.jl:70\n"
     ]
    },
    {
     "name": "stdout",
     "output_type": "stream",
     "text": [
      "ANGOLA       1996 has no local matches\n",
      "Albania 1994 has no local matches\n"
     ]
    },
    {
     "name": "stderr",
     "output_type": "stream",
     "text": [
      "┌ Warning: indexing with colon as row will create a copy in the future use df[col_inds] to get the columns without copying\n",
      "│   caller = #GenSynthetics#66(::Float64, ::Array{Float64,1}, ::Array{Float64,2}, ::Function, ::DataFrame, ::DataFrame, ::Array{Symbol,1}, ::Array{Symbol,1}) at GenSynthetics_NLopt.jl:99\n",
      "└ @ Main C:\\Users\\kevin\\Desktop\\IMF\\AERInsights\\Code\\GenSynthetics_NLopt.jl:99\n"
     ]
    },
    {
     "name": "stdout",
     "output_type": "stream",
     "text": [
      "Belarus 1999 has no local matches\n",
      "Chile 1976 has no local matches\n",
      "CONGO, DEM. REP. 1994 has no local matches\n",
      "Czech Republic 1996 has no local matches\n",
      "Gabon 2002 has no local matches\n",
      "GEORGIA      1991 has no local matches\n",
      "GUINEA-BISSAU 1980 has no local matches\n",
      "Equatorial Guinea 1994 has no local matches\n",
      "Iran 1985 has no local matches\n",
      "Iran 1992 has no local matches\n",
      "LIBERIA 1991 has no local matches\n",
      "NIGERIA      1983 has no local matches\n",
      "NIGERIA      2009 has no local matches\n",
      "[6.0 7.0 8.0 9.0 10.0 11.0 Inf; 71.149 69.6122 71.2296 77.8672 0.0 0.0 0.0; 0.0 0.0 0.0 0.0 0.0 0.0 0.0; 0.0 0.0 0.0 0.0 0.0 0.0 0.0; 0.0 0.0 0.0 0.0 0.0 0.0 0.0; 0.0 0.0 0.0 0.0 0.0 0.0 0.0; 0.0 0.0 0.0 0.0 0.0 0.0 0.0]This function takes: matching variables, weights on these matches, outcomes to predict, and Pool DataFrame as arguments and returns two DataFrames: placebos that have matches and then their synthetic controls.\n"
     ]
    },
    {
     "name": "stderr",
     "output_type": "stream",
     "text": [
      "┌ Warning: indexing with colon as row will create a copy in the future use df[col_inds] to get the columns without copying\n",
      "│   caller = RunningPlacebos(::Array{Symbol,1}, ::Array{Float64,2}, ::Array{Float64,1}, ::Array{Symbol,1}, ::DataFrame) at RunningPlacebosFunction.jl:18\n",
      "└ @ Main C:\\Users\\kevin\\Desktop\\IMF\\AERInsights\\Code\\RunningPlacebosFunction.jl:18\n",
      "┌ Warning: indexing with colon as row will create a copy in the future use df[col_inds] to get the columns without copying\n",
      "│   caller = RunningPlacebos(::Array{Symbol,1}, ::Array{Float64,2}, ::Array{Float64,1}, ::Array{Symbol,1}, ::DataFrame) at RunningPlacebosFunction.jl:23\n",
      "└ @ Main C:\\Users\\kevin\\Desktop\\IMF\\AERInsights\\Code\\RunningPlacebosFunction.jl:23\n",
      "┌ Warning: indexing with colon as row will create a copy in the future use df[col_inds] to get the columns without copying\n",
      "│   caller = #GenSynthetics#85(::Float64, ::Array{Float64,1}, ::Array{Float64,2}, ::Function, ::DataFrame, ::DataFrame, ::Array{Symbol,1}, ::Array{Symbol,1}) at GenSynthetics_NLopt.jl:24\n",
      "└ @ Main C:\\Users\\kevin\\Desktop\\IMF\\AERInsights\\Code\\GenSynthetics_NLopt.jl:24\n",
      "┌ Warning: indexing with colon as row will create a copy in the future use df[col_inds] to get the columns without copying\n",
      "│   caller = #GenSynthetics#85(::Float64, ::Array{Float64,1}, ::Array{Float64,2}, ::Function, ::DataFrame, ::DataFrame, ::Array{Symbol,1}, ::Array{Symbol,1}) at GenSynthetics_NLopt.jl:25\n",
      "└ @ Main C:\\Users\\kevin\\Desktop\\IMF\\AERInsights\\Code\\GenSynthetics_NLopt.jl:25\n",
      "┌ Warning: indexing with colon as row will create a copy in the future use df[col_inds] to get the columns without copying\n",
      "│   caller = #GenSynthetics#85(::Float64, ::Array{Float64,1}, ::Array{Float64,2}, ::Function, ::DataFrame, ::DataFrame, ::Array{Symbol,1}, ::Array{Symbol,1}) at GenSynthetics_NLopt.jl:41\n",
      "└ @ Main C:\\Users\\kevin\\Desktop\\IMF\\AERInsights\\Code\\GenSynthetics_NLopt.jl:41\n",
      "┌ Warning: indexing with colon as row will create a copy in the future use df[col_inds] to get the columns without copying\n",
      "│   caller = #GenSynthetics#85(::Float64, ::Array{Float64,1}, ::Array{Float64,2}, ::Function, ::DataFrame, ::DataFrame, ::Array{Symbol,1}, ::Array{Symbol,1}) at GenSynthetics_NLopt.jl:70\n",
      "└ @ Main C:\\Users\\kevin\\Desktop\\IMF\\AERInsights\\Code\\GenSynthetics_NLopt.jl:70\n"
     ]
    },
    {
     "name": "stdout",
     "output_type": "stream",
     "text": [
      "ANGOLA       1996 has no local matches\n",
      "Albania 1994 has no local matches"
     ]
    },
    {
     "name": "stderr",
     "output_type": "stream",
     "text": [
      "┌ Warning: indexing with colon as row will create a copy in the future use df[col_inds] to get the columns without copying\n",
      "│   caller = #GenSynthetics#85(::Float64, ::Array{Float64,1}, ::Array{Float64,2}, ::Function, ::DataFrame, ::DataFrame, ::Array{Symbol,1}, ::Array{Symbol,1}) at GenSynthetics_NLopt.jl:99\n",
      "└ @ Main C:\\Users\\kevin\\Desktop\\IMF\\AERInsights\\Code\\GenSynthetics_NLopt.jl:99\n"
     ]
    },
    {
     "name": "stdout",
     "output_type": "stream",
     "text": [
      "\n",
      "Chile 1976 has no local matches\n",
      "CONGO, DEM. REP. 1994 has no local matches\n",
      "Czech Republic 1996 has no local matches\n",
      "GEORGIA      1991 has no local matches\n",
      "Equatorial Guinea 1994 has no local matches\n",
      "Iran 1985 has no local matches\n",
      "Iran 1992 has no local matches\n",
      "LIBERIA 1991 has no local matches\n",
      "NIGERIA      1983 has no local matches\n",
      "NIGERIA      2009 has no local matches\n",
      "[6.0 7.0 8.0 9.0 10.0 11.0 Inf; 71.149 69.6122 71.2296 77.8672 92.0512 0.0 0.0; 0.0 0.0 0.0 0.0 0.0 0.0 0.0; 0.0 0.0 0.0 0.0 0.0 0.0 0.0; 0.0 0.0 0.0 0.0 0.0 0.0 0.0; 0.0 0.0 0.0 0.0 0.0 0.0 0.0; 0.0 0.0 0.0 0.0 0.0 0.0 0.0]This function takes: matching variables, weights on these matches, outcomes to predict, and Pool DataFrame as arguments and returns two DataFrames: placebos that have matches and then their synthetic controls.\n"
     ]
    },
    {
     "name": "stderr",
     "output_type": "stream",
     "text": [
      "┌ Warning: indexing with colon as row will create a copy in the future use df[col_inds] to get the columns without copying\n",
      "│   caller = RunningPlacebos(::Array{Symbol,1}, ::Array{Float64,2}, ::Array{Float64,1}, ::Array{Symbol,1}, ::DataFrame) at RunningPlacebosFunction.jl:18\n",
      "└ @ Main C:\\Users\\kevin\\Desktop\\IMF\\AERInsights\\Code\\RunningPlacebosFunction.jl:18\n",
      "┌ Warning: indexing with colon as row will create a copy in the future use df[col_inds] to get the columns without copying\n",
      "│   caller = RunningPlacebos(::Array{Symbol,1}, ::Array{Float64,2}, ::Array{Float64,1}, ::Array{Symbol,1}, ::DataFrame) at RunningPlacebosFunction.jl:23\n",
      "└ @ Main C:\\Users\\kevin\\Desktop\\IMF\\AERInsights\\Code\\RunningPlacebosFunction.jl:23\n",
      "┌ Warning: indexing with colon as row will create a copy in the future use df[col_inds] to get the columns without copying\n",
      "│   caller = #GenSynthetics#104(::Float64, ::Array{Float64,1}, ::Array{Float64,2}, ::Function, ::DataFrame, ::DataFrame, ::Array{Symbol,1}, ::Array{Symbol,1}) at GenSynthetics_NLopt.jl:24\n",
      "└ @ Main C:\\Users\\kevin\\Desktop\\IMF\\AERInsights\\Code\\GenSynthetics_NLopt.jl:24\n",
      "┌ Warning: indexing with colon as row will create a copy in the future use df[col_inds] to get the columns without copying\n",
      "│   caller = #GenSynthetics#104(::Float64, ::Array{Float64,1}, ::Array{Float64,2}, ::Function, ::DataFrame, ::DataFrame, ::Array{Symbol,1}, ::Array{Symbol,1}) at GenSynthetics_NLopt.jl:25\n",
      "└ @ Main C:\\Users\\kevin\\Desktop\\IMF\\AERInsights\\Code\\GenSynthetics_NLopt.jl:25\n",
      "┌ Warning: indexing with colon as row will create a copy in the future use df[col_inds] to get the columns without copying\n",
      "│   caller = #GenSynthetics#104(::Float64, ::Array{Float64,1}, ::Array{Float64,2}, ::Function, ::DataFrame, ::DataFrame, ::Array{Symbol,1}, ::Array{Symbol,1}) at GenSynthetics_NLopt.jl:41\n",
      "└ @ Main C:\\Users\\kevin\\Desktop\\IMF\\AERInsights\\Code\\GenSynthetics_NLopt.jl:41\n",
      "┌ Warning: indexing with colon as row will create a copy in the future use df[col_inds] to get the columns without copying\n",
      "│   caller = #GenSynthetics#104(::Float64, ::Array{Float64,1}, ::Array{Float64,2}, ::Function, ::DataFrame, ::DataFrame, ::Array{Symbol,1}, ::Array{Symbol,1}) at GenSynthetics_NLopt.jl:70\n",
      "└ @ Main C:\\Users\\kevin\\Desktop\\IMF\\AERInsights\\Code\\GenSynthetics_NLopt.jl:70\n"
     ]
    },
    {
     "name": "stdout",
     "output_type": "stream",
     "text": [
      "ANGOLA       1996 has no local matches\n",
      "Albania 1994 has no local matches\n"
     ]
    },
    {
     "name": "stderr",
     "output_type": "stream",
     "text": [
      "┌ Warning: indexing with colon as row will create a copy in the future use df[col_inds] to get the columns without copying\n",
      "│   caller = #GenSynthetics#104(::Float64, ::Array{Float64,1}, ::Array{Float64,2}, ::Function, ::DataFrame, ::DataFrame, ::Array{Symbol,1}, ::Array{Symbol,1}) at GenSynthetics_NLopt.jl:99\n",
      "└ @ Main C:\\Users\\kevin\\Desktop\\IMF\\AERInsights\\Code\\GenSynthetics_NLopt.jl:99\n"
     ]
    },
    {
     "name": "stdout",
     "output_type": "stream",
     "text": [
      "CONGO, DEM. REP. 1994 has no local matches\n",
      "GEORGIA      1991 has no local matches\n",
      "Equatorial Guinea 1994 has no local matches\n",
      "Iran 1985 has no local matches\n",
      "Iran 1992 has no local matches\n",
      "LIBERIA 1991 has no local matches\n",
      "NIGERIA      1983 has no local matches\n",
      "NIGERIA      2009 has no local matches\n",
      "[6.0 7.0 8.0 9.0 10.0 11.0 Inf; 71.149 69.6122 71.2296 77.8672 92.0512 102.279 0.0; 0.0 0.0 0.0 0.0 0.0 0.0 0.0; 0.0 0.0 0.0 0.0 0.0 0.0 0.0; 0.0 0.0 0.0 0.0 0.0 0.0 0.0; 0.0 0.0 0.0 0.0 0.0 0.0 0.0; 0.0 0.0 0.0 0.0 0.0 0.0 0.0]This function takes: matching variables, weights on these matches, outcomes to predict, and Pool DataFrame as arguments and returns two DataFrames: placebos that have matches and then their synthetic controls.\n"
     ]
    },
    {
     "name": "stderr",
     "output_type": "stream",
     "text": [
      "┌ Warning: indexing with colon as row will create a copy in the future use df[col_inds] to get the columns without copying\n",
      "│   caller = RunningPlacebos(::Array{Symbol,1}, ::Array{Float64,2}, ::Array{Float64,1}, ::Array{Symbol,1}, ::DataFrame) at RunningPlacebosFunction.jl:18\n",
      "└ @ Main C:\\Users\\kevin\\Desktop\\IMF\\AERInsights\\Code\\RunningPlacebosFunction.jl:18\n",
      "┌ Warning: indexing with colon as row will create a copy in the future use df[col_inds] to get the columns without copying\n",
      "│   caller = RunningPlacebos(::Array{Symbol,1}, ::Array{Float64,2}, ::Array{Float64,1}, ::Array{Symbol,1}, ::DataFrame) at RunningPlacebosFunction.jl:23\n",
      "└ @ Main C:\\Users\\kevin\\Desktop\\IMF\\AERInsights\\Code\\RunningPlacebosFunction.jl:23\n",
      "┌ Warning: indexing with colon as row will create a copy in the future use df[col_inds] to get the columns without copying\n",
      "│   caller = #GenSynthetics#123(::Float64, ::Array{Float64,1}, ::Array{Float64,2}, ::Function, ::DataFrame, ::DataFrame, ::Array{Symbol,1}, ::Array{Symbol,1}) at GenSynthetics_NLopt.jl:24\n",
      "└ @ Main C:\\Users\\kevin\\Desktop\\IMF\\AERInsights\\Code\\GenSynthetics_NLopt.jl:24\n",
      "┌ Warning: indexing with colon as row will create a copy in the future use df[col_inds] to get the columns without copying\n",
      "│   caller = #GenSynthetics#123(::Float64, ::Array{Float64,1}, ::Array{Float64,2}, ::Function, ::DataFrame, ::DataFrame, ::Array{Symbol,1}, ::Array{Symbol,1}) at GenSynthetics_NLopt.jl:25\n",
      "└ @ Main C:\\Users\\kevin\\Desktop\\IMF\\AERInsights\\Code\\GenSynthetics_NLopt.jl:25\n",
      "┌ Warning: indexing with colon as row will create a copy in the future use df[col_inds] to get the columns without copying\n",
      "│   caller = #GenSynthetics#123(::Float64, ::Array{Float64,1}, ::Array{Float64,2}, ::Function, ::DataFrame, ::DataFrame, ::Array{Symbol,1}, ::Array{Symbol,1}) at GenSynthetics_NLopt.jl:41\n",
      "└ @ Main C:\\Users\\kevin\\Desktop\\IMF\\AERInsights\\Code\\GenSynthetics_NLopt.jl:41\n",
      "┌ Warning: indexing with colon as row will create a copy in the future use df[col_inds] to get the columns without copying\n",
      "│   caller = #GenSynthetics#123(::Float64, ::Array{Float64,1}, ::Array{Float64,2}, ::Function, ::DataFrame, ::DataFrame, ::Array{Symbol,1}, ::Array{Symbol,1}) at GenSynthetics_NLopt.jl:70\n",
      "└ @ Main C:\\Users\\kevin\\Desktop\\IMF\\AERInsights\\Code\\GenSynthetics_NLopt.jl:70\n",
      "┌ Warning: indexing with colon as row will create a copy in the future use df[col_inds] to get the columns without copying\n",
      "│   caller = #GenSynthetics#123(::Float64, ::Array{Float64,1}, ::Array{Float64,2}, ::Function, ::DataFrame, ::DataFrame, ::Array{Symbol,1}, ::Array{Symbol,1}) at GenSynthetics_NLopt.jl:99\n",
      "└ @ Main C:\\Users\\kevin\\Desktop\\IMF\\AERInsights\\Code\\GenSynthetics_NLopt.jl:99\n"
     ]
    },
    {
     "name": "stdout",
     "output_type": "stream",
     "text": [
      "NIGERIA      1983 has no local matches\n",
      "[6.0 7.0 8.0 9.0 10.0 11.0 Inf; 71.149 69.6122 71.2296 77.8672 92.0512 102.279 178.834; 0.0 0.0 0.0 0.0 0.0 0.0 0.0; 0.0 0.0 0.0 0.0 0.0 0.0 0.0; 0.0 0.0 0.0 0.0 0.0 0.0 0.0; 0.0 0.0 0.0 0.0 0.0 0.0 0.0; 0.0 0.0 0.0 0.0 0.0 0.0 0.0]This function takes: matching variables, weights on these matches, outcomes to predict, and Pool DataFrame as arguments and returns two DataFrames: placebos that have matches and then their synthetic controls.\n"
     ]
    },
    {
     "name": "stderr",
     "output_type": "stream",
     "text": [
      "┌ Warning: indexing with colon as row will create a copy in the future use df[col_inds] to get the columns without copying\n",
      "│   caller = RunningPlacebos(::Array{Symbol,1}, ::Array{Float64,2}, ::Array{Float64,1}, ::Array{Symbol,1}, ::DataFrame) at RunningPlacebosFunction.jl:18\n",
      "└ @ Main C:\\Users\\kevin\\Desktop\\IMF\\AERInsights\\Code\\RunningPlacebosFunction.jl:18\n",
      "┌ Warning: indexing with colon as row will create a copy in the future use df[col_inds] to get the columns without copying\n",
      "│   caller = RunningPlacebos(::Array{Symbol,1}, ::Array{Float64,2}, ::Array{Float64,1}, ::Array{Symbol,1}, ::DataFrame) at RunningPlacebosFunction.jl:23\n",
      "└ @ Main C:\\Users\\kevin\\Desktop\\IMF\\AERInsights\\Code\\RunningPlacebosFunction.jl:23\n",
      "┌ Warning: indexing with colon as row will create a copy in the future use df[col_inds] to get the columns without copying\n",
      "│   caller = #GenSynthetics#148(::Float64, ::Array{Float64,1}, ::Array{Float64,2}, ::Function, ::DataFrame, ::DataFrame, ::Array{Symbol,1}, ::Array{Symbol,1}) at GenSynthetics_NLopt.jl:24\n",
      "└ @ Main C:\\Users\\kevin\\Desktop\\IMF\\AERInsights\\Code\\GenSynthetics_NLopt.jl:24\n",
      "┌ Warning: indexing with colon as row will create a copy in the future use df[col_inds] to get the columns without copying\n",
      "│   caller = #GenSynthetics#148(::Float64, ::Array{Float64,1}, ::Array{Float64,2}, ::Function, ::DataFrame, ::DataFrame, ::Array{Symbol,1}, ::Array{Symbol,1}) at GenSynthetics_NLopt.jl:25\n",
      "└ @ Main C:\\Users\\kevin\\Desktop\\IMF\\AERInsights\\Code\\GenSynthetics_NLopt.jl:25\n",
      "┌ Warning: indexing with colon as row will create a copy in the future use df[col_inds] to get the columns without copying\n",
      "│   caller = #GenSynthetics#148(::Float64, ::Array{Float64,1}, ::Array{Float64,2}, ::Function, ::DataFrame, ::DataFrame, ::Array{Symbol,1}, ::Array{Symbol,1}) at GenSynthetics_NLopt.jl:41\n",
      "└ @ Main C:\\Users\\kevin\\Desktop\\IMF\\AERInsights\\Code\\GenSynthetics_NLopt.jl:41\n",
      "┌ Warning: indexing with colon as row will create a copy in the future use df[col_inds] to get the columns without copying\n",
      "│   caller = #GenSynthetics#148(::Float64, ::Array{Float64,1}, ::Array{Float64,2}, ::Function, ::DataFrame, ::DataFrame, ::Array{Symbol,1}, ::Array{Symbol,1}) at GenSynthetics_NLopt.jl:70\n",
      "└ @ Main C:\\Users\\kevin\\Desktop\\IMF\\AERInsights\\Code\\GenSynthetics_NLopt.jl:70\n"
     ]
    },
    {
     "name": "stdout",
     "output_type": "stream",
     "text": [
      "ANGOLA       1996 has no local matches\n",
      "Albania 1990 has no local matches\n",
      "Albania 1994 has no local matches"
     ]
    },
    {
     "name": "stderr",
     "output_type": "stream",
     "text": [
      "┌ Warning: indexing with colon as row will create a copy in the future use df[col_inds] to get the columns without copying\n",
      "│   caller = #GenSynthetics#148(::Float64, ::Array{Float64,1}, ::Array{Float64,2}, ::Function, ::DataFrame, ::DataFrame, ::Array{Symbol,1}, ::Array{Symbol,1}) at GenSynthetics_NLopt.jl:99\n",
      "└ @ Main C:\\Users\\kevin\\Desktop\\IMF\\AERInsights\\Code\\GenSynthetics_NLopt.jl:99\n"
     ]
    },
    {
     "name": "stdout",
     "output_type": "stream",
     "text": [
      "\n",
      "BANGLADESH   1976 has no local matches\n",
      "Belarus 1999 has no local matches\n",
      "Brazil 1976 has no local matches\n",
      "Botswana 1984 has no local matches\n",
      "Chile 1976 has no local matches\n",
      "CAMEROON     1989 has no local matches\n",
      "CONGO, DEM. REP. 1994 has no local matches\n",
      "COMOROS      1994 has no local matches\n",
      "Czech Republic 1996 has no local matches\n",
      "Egypt 1979 has no local matches\n",
      "ETHIOPIA     1993 has no local matches\n",
      "Gabon 2002 has no local matches\n",
      "GUINEA-BISSAU 1980 has no local matches\n",
      "Equatorial Guinea 1994 has no local matches\n",
      "GUYANA       1982 has no local matches\n",
      "GUYANA       1987 has no local matches\n",
      "Iran 1985 has no local matches\n",
      "Iran 1992 has no local matches\n",
      "Myanmar 2001 has no local matches\n",
      "NIGERIA      2009 has no local matches\n",
      "Panama 1988 has no local matches\n",
      "Peru 1988 has no local matches\n",
      "Paraguay 1982 has no local matches\n",
      "Paraguay 1984 has no local matches\n",
      "SUDAN        1988 has no local matches\n",
      "[6.0 7.0 8.0 9.0 10.0 11.0 Inf; 71.149 69.6122 71.2296 77.8672 92.0512 102.279 178.834; 74.4751 0.0 0.0 0.0 0.0 0.0 0.0; 0.0 0.0 0.0 0.0 0.0 0.0 0.0; 0.0 0.0 0.0 0.0 0.0 0.0 0.0; 0.0 0.0 0.0 0.0 0.0 0.0 0.0; 0.0 0.0 0.0 0.0 0.0 0.0 0.0]This function takes: matching variables, weights on these matches, outcomes to predict, and Pool DataFrame as arguments and returns two DataFrames: placebos that have matches and then their synthetic controls.\n"
     ]
    },
    {
     "name": "stderr",
     "output_type": "stream",
     "text": [
      "┌ Warning: indexing with colon as row will create a copy in the future use df[col_inds] to get the columns without copying\n",
      "│   caller = RunningPlacebos(::Array{Symbol,1}, ::Array{Float64,2}, ::Array{Float64,1}, ::Array{Symbol,1}, ::DataFrame) at RunningPlacebosFunction.jl:18\n",
      "└ @ Main C:\\Users\\kevin\\Desktop\\IMF\\AERInsights\\Code\\RunningPlacebosFunction.jl:18\n",
      "┌ Warning: indexing with colon as row will create a copy in the future use df[col_inds] to get the columns without copying\n",
      "│   caller = RunningPlacebos(::Array{Symbol,1}, ::Array{Float64,2}, ::Array{Float64,1}, ::Array{Symbol,1}, ::DataFrame) at RunningPlacebosFunction.jl:23\n",
      "└ @ Main C:\\Users\\kevin\\Desktop\\IMF\\AERInsights\\Code\\RunningPlacebosFunction.jl:23\n",
      "┌ Warning: indexing with colon as row will create a copy in the future use df[col_inds] to get the columns without copying\n",
      "│   caller = #GenSynthetics#167(::Float64, ::Array{Float64,1}, ::Array{Float64,2}, ::Function, ::DataFrame, ::DataFrame, ::Array{Symbol,1}, ::Array{Symbol,1}) at GenSynthetics_NLopt.jl:24\n",
      "└ @ Main C:\\Users\\kevin\\Desktop\\IMF\\AERInsights\\Code\\GenSynthetics_NLopt.jl:24\n",
      "┌ Warning: indexing with colon as row will create a copy in the future use df[col_inds] to get the columns without copying\n",
      "│   caller = #GenSynthetics#167(::Float64, ::Array{Float64,1}, ::Array{Float64,2}, ::Function, ::DataFrame, ::DataFrame, ::Array{Symbol,1}, ::Array{Symbol,1}) at GenSynthetics_NLopt.jl:25\n",
      "└ @ Main C:\\Users\\kevin\\Desktop\\IMF\\AERInsights\\Code\\GenSynthetics_NLopt.jl:25\n",
      "┌ Warning: indexing with colon as row will create a copy in the future use df[col_inds] to get the columns without copying\n",
      "│   caller = #GenSynthetics#167(::Float64, ::Array{Float64,1}, ::Array{Float64,2}, ::Function, ::DataFrame, ::DataFrame, ::Array{Symbol,1}, ::Array{Symbol,1}) at GenSynthetics_NLopt.jl:41\n",
      "└ @ Main C:\\Users\\kevin\\Desktop\\IMF\\AERInsights\\Code\\GenSynthetics_NLopt.jl:41\n",
      "┌ Warning: indexing with colon as row will create a copy in the future use df[col_inds] to get the columns without copying\n",
      "│   caller = #GenSynthetics#167(::Float64, ::Array{Float64,1}, ::Array{Float64,2}, ::Function, ::DataFrame, ::DataFrame, ::Array{Symbol,1}, ::Array{Symbol,1}) at GenSynthetics_NLopt.jl:70\n",
      "└ @ Main C:\\Users\\kevin\\Desktop\\IMF\\AERInsights\\Code\\GenSynthetics_NLopt.jl:70\n"
     ]
    },
    {
     "name": "stdout",
     "output_type": "stream",
     "text": [
      "ANGOLA       1996 has no local matches\n",
      "Albania 1990 has no local matches\n",
      "Albania 1994 has no local matches"
     ]
    },
    {
     "name": "stderr",
     "output_type": "stream",
     "text": [
      "┌ Warning: indexing with colon as row will create a copy in the future use df[col_inds] to get the columns without copying\n",
      "│   caller = #GenSynthetics#167(::Float64, ::Array{Float64,1}, ::Array{Float64,2}, ::Function, ::DataFrame, ::DataFrame, ::Array{Symbol,1}, ::Array{Symbol,1}) at GenSynthetics_NLopt.jl:99\n",
      "└ @ Main C:\\Users\\kevin\\Desktop\\IMF\\AERInsights\\Code\\GenSynthetics_NLopt.jl:99\n"
     ]
    },
    {
     "name": "stdout",
     "output_type": "stream",
     "text": [
      "\n",
      "BANGLADESH   1976 has no local matches\n",
      "Belarus 1999 has no local matches\n",
      "Brazil 1976 has no local matches\n",
      "Chile 1976 has no local matches\n",
      "CAMEROON     1989 has no local matches\n",
      "CONGO, DEM. REP. 1994 has no local matches\n",
      "Czech Republic 1996 has no local matches\n",
      "Egypt 1979 has no local matches\n",
      "ETHIOPIA     1993 has no local matches\n",
      "Gabon 2002 has no local matches\n",
      "GUINEA-BISSAU 1980 has no local matches\n",
      "Equatorial Guinea 1994 has no local matches\n",
      "GUYANA       1982 has no local matches\n",
      "Iran 1985 has no local matches\n",
      "Iran 1992 has no local matches\n",
      "NIGERIA      2009 has no local matches\n",
      "Panama 1988 has no local matches\n",
      "Peru 1988 has no local matches\n",
      "Paraguay 1982 has no local matches\n",
      "SUDAN        1988 has no local matches\n",
      "[6.0 7.0 8.0 9.0 10.0 11.0 Inf; 71.149 69.6122 71.2296 77.8672 92.0512 102.279 178.834; 74.4751 78.9699 0.0 0.0 0.0 0.0 0.0; 0.0 0.0 0.0 0.0 0.0 0.0 0.0; 0.0 0.0 0.0 0.0 0.0 0.0 0.0; 0.0 0.0 0.0 0.0 0.0 0.0 0.0; 0.0 0.0 0.0 0.0 0.0 0.0 0.0]This function takes: matching variables, weights on these matches, outcomes to predict, and Pool DataFrame as arguments and returns two DataFrames: placebos that have matches and then their synthetic controls.\n"
     ]
    },
    {
     "name": "stderr",
     "output_type": "stream",
     "text": [
      "┌ Warning: indexing with colon as row will create a copy in the future use df[col_inds] to get the columns without copying\n",
      "│   caller = RunningPlacebos(::Array{Symbol,1}, ::Array{Float64,2}, ::Array{Float64,1}, ::Array{Symbol,1}, ::DataFrame) at RunningPlacebosFunction.jl:18\n",
      "└ @ Main C:\\Users\\kevin\\Desktop\\IMF\\AERInsights\\Code\\RunningPlacebosFunction.jl:18\n",
      "┌ Warning: indexing with colon as row will create a copy in the future use df[col_inds] to get the columns without copying\n",
      "│   caller = RunningPlacebos(::Array{Symbol,1}, ::Array{Float64,2}, ::Array{Float64,1}, ::Array{Symbol,1}, ::DataFrame) at RunningPlacebosFunction.jl:23\n",
      "└ @ Main C:\\Users\\kevin\\Desktop\\IMF\\AERInsights\\Code\\RunningPlacebosFunction.jl:23\n",
      "┌ Warning: indexing with colon as row will create a copy in the future use df[col_inds] to get the columns without copying\n",
      "│   caller = #GenSynthetics#186(::Float64, ::Array{Float64,1}, ::Array{Float64,2}, ::Function, ::DataFrame, ::DataFrame, ::Array{Symbol,1}, ::Array{Symbol,1}) at GenSynthetics_NLopt.jl:24\n",
      "└ @ Main C:\\Users\\kevin\\Desktop\\IMF\\AERInsights\\Code\\GenSynthetics_NLopt.jl:24\n",
      "┌ Warning: indexing with colon as row will create a copy in the future use df[col_inds] to get the columns without copying\n",
      "│   caller = #GenSynthetics#186(::Float64, ::Array{Float64,1}, ::Array{Float64,2}, ::Function, ::DataFrame, ::DataFrame, ::Array{Symbol,1}, ::Array{Symbol,1}) at GenSynthetics_NLopt.jl:25\n",
      "└ @ Main C:\\Users\\kevin\\Desktop\\IMF\\AERInsights\\Code\\GenSynthetics_NLopt.jl:25\n",
      "┌ Warning: indexing with colon as row will create a copy in the future use df[col_inds] to get the columns without copying\n",
      "│   caller = #GenSynthetics#186(::Float64, ::Array{Float64,1}, ::Array{Float64,2}, ::Function, ::DataFrame, ::DataFrame, ::Array{Symbol,1}, ::Array{Symbol,1}) at GenSynthetics_NLopt.jl:41\n",
      "└ @ Main C:\\Users\\kevin\\Desktop\\IMF\\AERInsights\\Code\\GenSynthetics_NLopt.jl:41\n",
      "┌ Warning: indexing with colon as row will create a copy in the future use df[col_inds] to get the columns without copying\n",
      "│   caller = #GenSynthetics#186(::Float64, ::Array{Float64,1}, ::Array{Float64,2}, ::Function, ::DataFrame, ::DataFrame, ::Array{Symbol,1}, ::Array{Symbol,1}) at GenSynthetics_NLopt.jl:70\n",
      "└ @ Main C:\\Users\\kevin\\Desktop\\IMF\\AERInsights\\Code\\GenSynthetics_NLopt.jl:70\n"
     ]
    },
    {
     "name": "stdout",
     "output_type": "stream",
     "text": [
      "ANGOLA       1996 has no local matches\n",
      "Albania 1990 has no local matches\n",
      "Albania 1994 has no local matches\n"
     ]
    },
    {
     "name": "stderr",
     "output_type": "stream",
     "text": [
      "┌ Warning: indexing with colon as row will create a copy in the future use df[col_inds] to get the columns without copying\n",
      "│   caller = #GenSynthetics#186(::Float64, ::Array{Float64,1}, ::Array{Float64,2}, ::Function, ::DataFrame, ::DataFrame, ::Array{Symbol,1}, ::Array{Symbol,1}) at GenSynthetics_NLopt.jl:99\n",
      "└ @ Main C:\\Users\\kevin\\Desktop\\IMF\\AERInsights\\Code\\GenSynthetics_NLopt.jl:99\n"
     ]
    },
    {
     "name": "stdout",
     "output_type": "stream",
     "text": [
      "BANGLADESH   1976 has no local matches\n",
      "Belarus 1999 has no local matches\n",
      "Chile 1976 has no local matches\n",
      "CONGO, DEM. REP. 1994 has no local matches\n",
      "Czech Republic 1996 has no local matches\n",
      "ETHIOPIA     1993 has no local matches\n",
      "Gabon 2002 has no local matches\n",
      "GUINEA-BISSAU 1980 has no local matches\n",
      "Equatorial Guinea 1994 has no local matches\n",
      "GUYANA       1982 has no local matches\n",
      "Iran 1985 has no local matches\n",
      "Iran 1992 has no local matches\n",
      "NIGERIA      2009 has no local matches\n",
      "Paraguay 1982 has no local matches\n",
      "[6.0 7.0 8.0 9.0 10.0 11.0 Inf; 71.149 69.6122 71.2296 77.8672 92.0512 102.279 178.834; 74.4751 78.9699 70.5689 0.0 0.0 0.0 0.0; 0.0 0.0 0.0 0.0 0.0 0.0 0.0; 0.0 0.0 0.0 0.0 0.0 0.0 0.0; 0.0 0.0 0.0 0.0 0.0 0.0 0.0; 0.0 0.0 0.0 0.0 0.0 0.0 0.0]This function takes: matching variables, weights on these matches, outcomes to predict, and Pool DataFrame as arguments and returns two DataFrames: placebos that have matches and then their synthetic controls.\n"
     ]
    },
    {
     "name": "stderr",
     "output_type": "stream",
     "text": [
      "┌ Warning: indexing with colon as row will create a copy in the future use df[col_inds] to get the columns without copying\n",
      "│   caller = RunningPlacebos(::Array{Symbol,1}, ::Array{Float64,2}, ::Array{Float64,1}, ::Array{Symbol,1}, ::DataFrame) at RunningPlacebosFunction.jl:18\n",
      "└ @ Main C:\\Users\\kevin\\Desktop\\IMF\\AERInsights\\Code\\RunningPlacebosFunction.jl:18\n",
      "┌ Warning: indexing with colon as row will create a copy in the future use df[col_inds] to get the columns without copying\n",
      "│   caller = RunningPlacebos(::Array{Symbol,1}, ::Array{Float64,2}, ::Array{Float64,1}, ::Array{Symbol,1}, ::DataFrame) at RunningPlacebosFunction.jl:23\n",
      "└ @ Main C:\\Users\\kevin\\Desktop\\IMF\\AERInsights\\Code\\RunningPlacebosFunction.jl:23\n",
      "┌ Warning: indexing with colon as row will create a copy in the future use df[col_inds] to get the columns without copying\n",
      "│   caller = #GenSynthetics#205(::Float64, ::Array{Float64,1}, ::Array{Float64,2}, ::Function, ::DataFrame, ::DataFrame, ::Array{Symbol,1}, ::Array{Symbol,1}) at GenSynthetics_NLopt.jl:24\n",
      "└ @ Main C:\\Users\\kevin\\Desktop\\IMF\\AERInsights\\Code\\GenSynthetics_NLopt.jl:24\n",
      "┌ Warning: indexing with colon as row will create a copy in the future use df[col_inds] to get the columns without copying\n",
      "│   caller = #GenSynthetics#205(::Float64, ::Array{Float64,1}, ::Array{Float64,2}, ::Function, ::DataFrame, ::DataFrame, ::Array{Symbol,1}, ::Array{Symbol,1}) at GenSynthetics_NLopt.jl:25\n",
      "└ @ Main C:\\Users\\kevin\\Desktop\\IMF\\AERInsights\\Code\\GenSynthetics_NLopt.jl:25\n",
      "┌ Warning: indexing with colon as row will create a copy in the future use df[col_inds] to get the columns without copying\n",
      "│   caller = #GenSynthetics#205(::Float64, ::Array{Float64,1}, ::Array{Float64,2}, ::Function, ::DataFrame, ::DataFrame, ::Array{Symbol,1}, ::Array{Symbol,1}) at GenSynthetics_NLopt.jl:41\n",
      "└ @ Main C:\\Users\\kevin\\Desktop\\IMF\\AERInsights\\Code\\GenSynthetics_NLopt.jl:41\n",
      "┌ Warning: indexing with colon as row will create a copy in the future use df[col_inds] to get the columns without copying\n",
      "│   caller = #GenSynthetics#205(::Float64, ::Array{Float64,1}, ::Array{Float64,2}, ::Function, ::DataFrame, ::DataFrame, ::Array{Symbol,1}, ::Array{Symbol,1}) at GenSynthetics_NLopt.jl:70\n",
      "└ @ Main C:\\Users\\kevin\\Desktop\\IMF\\AERInsights\\Code\\GenSynthetics_NLopt.jl:70\n"
     ]
    },
    {
     "name": "stdout",
     "output_type": "stream",
     "text": [
      "ANGOLA       1996 has no local matches\n",
      "Albania 1994 has no local matches\n"
     ]
    },
    {
     "name": "stderr",
     "output_type": "stream",
     "text": [
      "┌ Warning: indexing with colon as row will create a copy in the future use df[col_inds] to get the columns without copying\n",
      "│   caller = #GenSynthetics#205(::Float64, ::Array{Float64,1}, ::Array{Float64,2}, ::Function, ::DataFrame, ::DataFrame, ::Array{Symbol,1}, ::Array{Symbol,1}) at GenSynthetics_NLopt.jl:99\n",
      "└ @ Main C:\\Users\\kevin\\Desktop\\IMF\\AERInsights\\Code\\GenSynthetics_NLopt.jl:99\n"
     ]
    },
    {
     "name": "stdout",
     "output_type": "stream",
     "text": [
      "Belarus 1999 has no local matches\n",
      "Chile 1976 has no local matches\n",
      "CONGO, DEM. REP. 1994 has no local matches\n",
      "Czech Republic 1996 has no local matches\n",
      "Gabon 2002 has no local matches\n",
      "GUINEA-BISSAU 1980 has no local matches\n",
      "Equatorial Guinea 1994 has no local matches\n",
      "Iran 1985 has no local matches\n",
      "Iran 1992 has no local matches\n",
      "NIGERIA      2009 has no local matches\n",
      "[6.0 7.0 8.0 9.0 10.0 11.0 Inf; 71.149 69.6122 71.2296 77.8672 92.0512 102.279 178.834; 74.4751 78.9699 70.5689 84.8901 0.0 0.0 0.0; 0.0 0.0 0.0 0.0 0.0 0.0 0.0; 0.0 0.0 0.0 0.0 0.0 0.0 0.0; 0.0 0.0 0.0 0.0 0.0 0.0 0.0; 0.0 0.0 0.0 0.0 0.0 0.0 0.0]This function takes: matching variables, weights on these matches, outcomes to predict, and Pool DataFrame as arguments and returns two DataFrames: placebos that have matches and then their synthetic controls.\n"
     ]
    },
    {
     "name": "stderr",
     "output_type": "stream",
     "text": [
      "┌ Warning: indexing with colon as row will create a copy in the future use df[col_inds] to get the columns without copying\n",
      "│   caller = RunningPlacebos(::Array{Symbol,1}, ::Array{Float64,2}, ::Array{Float64,1}, ::Array{Symbol,1}, ::DataFrame) at RunningPlacebosFunction.jl:18\n",
      "└ @ Main C:\\Users\\kevin\\Desktop\\IMF\\AERInsights\\Code\\RunningPlacebosFunction.jl:18\n",
      "┌ Warning: indexing with colon as row will create a copy in the future use df[col_inds] to get the columns without copying\n",
      "│   caller = RunningPlacebos(::Array{Symbol,1}, ::Array{Float64,2}, ::Array{Float64,1}, ::Array{Symbol,1}, ::DataFrame) at RunningPlacebosFunction.jl:23\n",
      "└ @ Main C:\\Users\\kevin\\Desktop\\IMF\\AERInsights\\Code\\RunningPlacebosFunction.jl:23\n",
      "┌ Warning: indexing with colon as row will create a copy in the future use df[col_inds] to get the columns without copying\n",
      "│   caller = #GenSynthetics#224(::Float64, ::Array{Float64,1}, ::Array{Float64,2}, ::Function, ::DataFrame, ::DataFrame, ::Array{Symbol,1}, ::Array{Symbol,1}) at GenSynthetics_NLopt.jl:24\n",
      "└ @ Main C:\\Users\\kevin\\Desktop\\IMF\\AERInsights\\Code\\GenSynthetics_NLopt.jl:24\n",
      "┌ Warning: indexing with colon as row will create a copy in the future use df[col_inds] to get the columns without copying\n",
      "│   caller = #GenSynthetics#224(::Float64, ::Array{Float64,1}, ::Array{Float64,2}, ::Function, ::DataFrame, ::DataFrame, ::Array{Symbol,1}, ::Array{Symbol,1}) at GenSynthetics_NLopt.jl:25\n",
      "└ @ Main C:\\Users\\kevin\\Desktop\\IMF\\AERInsights\\Code\\GenSynthetics_NLopt.jl:25\n",
      "┌ Warning: indexing with colon as row will create a copy in the future use df[col_inds] to get the columns without copying\n",
      "│   caller = #GenSynthetics#224(::Float64, ::Array{Float64,1}, ::Array{Float64,2}, ::Function, ::DataFrame, ::DataFrame, ::Array{Symbol,1}, ::Array{Symbol,1}) at GenSynthetics_NLopt.jl:41\n",
      "└ @ Main C:\\Users\\kevin\\Desktop\\IMF\\AERInsights\\Code\\GenSynthetics_NLopt.jl:41\n",
      "┌ Warning: indexing with colon as row will create a copy in the future use df[col_inds] to get the columns without copying\n",
      "│   caller = #GenSynthetics#224(::Float64, ::Array{Float64,1}, ::Array{Float64,2}, ::Function, ::DataFrame, ::DataFrame, ::Array{Symbol,1}, ::Array{Symbol,1}) at GenSynthetics_NLopt.jl:70\n",
      "└ @ Main C:\\Users\\kevin\\Desktop\\IMF\\AERInsights\\Code\\GenSynthetics_NLopt.jl:70\n"
     ]
    },
    {
     "name": "stdout",
     "output_type": "stream",
     "text": [
      "ANGOLA       1996 has no local matches\n",
      "Albania 1994 has no local matches\n"
     ]
    },
    {
     "name": "stderr",
     "output_type": "stream",
     "text": [
      "┌ Warning: indexing with colon as row will create a copy in the future use df[col_inds] to get the columns without copying\n",
      "│   caller = #GenSynthetics#224(::Float64, ::Array{Float64,1}, ::Array{Float64,2}, ::Function, ::DataFrame, ::DataFrame, ::Array{Symbol,1}, ::Array{Symbol,1}) at GenSynthetics_NLopt.jl:99\n",
      "└ @ Main C:\\Users\\kevin\\Desktop\\IMF\\AERInsights\\Code\\GenSynthetics_NLopt.jl:99\n"
     ]
    },
    {
     "name": "stdout",
     "output_type": "stream",
     "text": [
      "Chile 1976 has no local matches\n",
      "CONGO, DEM. REP. 1994 has no local matches\n",
      "Czech Republic 1996 has no local matches\n",
      "Equatorial Guinea 1994 has no local matches\n",
      "Iran 1985 has no local matches\n",
      "Iran 1992 has no local matches\n",
      "NIGERIA      2009 has no local matches\n",
      "[6.0 7.0 8.0 9.0 10.0 11.0 Inf; 71.149 69.6122 71.2296 77.8672 92.0512 102.279 178.834; 74.4751 78.9699 70.5689 84.8901 103.261 0.0 0.0; 0.0 0.0 0.0 0.0 0.0 0.0 0.0; 0.0 0.0 0.0 0.0 0.0 0.0 0.0; 0.0 0.0 0.0 0.0 0.0 0.0 0.0; 0.0 0.0 0.0 0.0 0.0 0.0 0.0]This function takes: matching variables, weights on these matches, outcomes to predict, and Pool DataFrame as arguments and returns two DataFrames: placebos that have matches and then their synthetic controls.\n"
     ]
    },
    {
     "name": "stderr",
     "output_type": "stream",
     "text": [
      "┌ Warning: indexing with colon as row will create a copy in the future use df[col_inds] to get the columns without copying\n",
      "│   caller = RunningPlacebos(::Array{Symbol,1}, ::Array{Float64,2}, ::Array{Float64,1}, ::Array{Symbol,1}, ::DataFrame) at RunningPlacebosFunction.jl:18\n",
      "└ @ Main C:\\Users\\kevin\\Desktop\\IMF\\AERInsights\\Code\\RunningPlacebosFunction.jl:18\n",
      "┌ Warning: indexing with colon as row will create a copy in the future use df[col_inds] to get the columns without copying\n",
      "│   caller = RunningPlacebos(::Array{Symbol,1}, ::Array{Float64,2}, ::Array{Float64,1}, ::Array{Symbol,1}, ::DataFrame) at RunningPlacebosFunction.jl:23\n",
      "└ @ Main C:\\Users\\kevin\\Desktop\\IMF\\AERInsights\\Code\\RunningPlacebosFunction.jl:23\n",
      "┌ Warning: indexing with colon as row will create a copy in the future use df[col_inds] to get the columns without copying\n",
      "│   caller = #GenSynthetics#243(::Float64, ::Array{Float64,1}, ::Array{Float64,2}, ::Function, ::DataFrame, ::DataFrame, ::Array{Symbol,1}, ::Array{Symbol,1}) at GenSynthetics_NLopt.jl:24\n",
      "└ @ Main C:\\Users\\kevin\\Desktop\\IMF\\AERInsights\\Code\\GenSynthetics_NLopt.jl:24\n",
      "┌ Warning: indexing with colon as row will create a copy in the future use df[col_inds] to get the columns without copying\n",
      "│   caller = #GenSynthetics#243(::Float64, ::Array{Float64,1}, ::Array{Float64,2}, ::Function, ::DataFrame, ::DataFrame, ::Array{Symbol,1}, ::Array{Symbol,1}) at GenSynthetics_NLopt.jl:25\n",
      "└ @ Main C:\\Users\\kevin\\Desktop\\IMF\\AERInsights\\Code\\GenSynthetics_NLopt.jl:25\n",
      "┌ Warning: indexing with colon as row will create a copy in the future use df[col_inds] to get the columns without copying\n",
      "│   caller = #GenSynthetics#243(::Float64, ::Array{Float64,1}, ::Array{Float64,2}, ::Function, ::DataFrame, ::DataFrame, ::Array{Symbol,1}, ::Array{Symbol,1}) at GenSynthetics_NLopt.jl:41\n",
      "└ @ Main C:\\Users\\kevin\\Desktop\\IMF\\AERInsights\\Code\\GenSynthetics_NLopt.jl:41\n",
      "┌ Warning: indexing with colon as row will create a copy in the future use df[col_inds] to get the columns without copying\n",
      "│   caller = #GenSynthetics#243(::Float64, ::Array{Float64,1}, ::Array{Float64,2}, ::Function, ::DataFrame, ::DataFrame, ::Array{Symbol,1}, ::Array{Symbol,1}) at GenSynthetics_NLopt.jl:70\n",
      "└ @ Main C:\\Users\\kevin\\Desktop\\IMF\\AERInsights\\Code\\GenSynthetics_NLopt.jl:70\n"
     ]
    },
    {
     "name": "stdout",
     "output_type": "stream",
     "text": [
      "ANGOLA       1996 has no local matches\n",
      "Albania 1994 has no local matches\n"
     ]
    },
    {
     "name": "stderr",
     "output_type": "stream",
     "text": [
      "┌ Warning: indexing with colon as row will create a copy in the future use df[col_inds] to get the columns without copying\n",
      "│   caller = #GenSynthetics#243(::Float64, ::Array{Float64,1}, ::Array{Float64,2}, ::Function, ::DataFrame, ::DataFrame, ::Array{Symbol,1}, ::Array{Symbol,1}) at GenSynthetics_NLopt.jl:99\n",
      "└ @ Main C:\\Users\\kevin\\Desktop\\IMF\\AERInsights\\Code\\GenSynthetics_NLopt.jl:99\n"
     ]
    },
    {
     "name": "stdout",
     "output_type": "stream",
     "text": [
      "CONGO, DEM. REP. 1994 has no local matches\n",
      "Equatorial Guinea 1994 has no local matches\n",
      "Iran 1985 has no local matches\n",
      "Iran 1992 has no local matches\n",
      "NIGERIA      2009 has no local matches\n",
      "[6.0 7.0 8.0 9.0 10.0 11.0 Inf; 71.149 69.6122 71.2296 77.8672 92.0512 102.279 178.834; 74.4751 78.9699 70.5689 84.8901 103.261 112.509 0.0; 0.0 0.0 0.0 0.0 0.0 0.0 0.0; 0.0 0.0 0.0 0.0 0.0 0.0 0.0; 0.0 0.0 0.0 0.0 0.0 0.0 0.0; 0.0 0.0 0.0 0.0 0.0 0.0 0.0]This function takes: matching variables, weights on these matches, outcomes to predict, and Pool DataFrame as arguments and returns two DataFrames: placebos that have matches and then their synthetic controls.\n"
     ]
    },
    {
     "name": "stderr",
     "output_type": "stream",
     "text": [
      "┌ Warning: indexing with colon as row will create a copy in the future use df[col_inds] to get the columns without copying\n",
      "│   caller = RunningPlacebos(::Array{Symbol,1}, ::Array{Float64,2}, ::Array{Float64,1}, ::Array{Symbol,1}, ::DataFrame) at RunningPlacebosFunction.jl:18\n",
      "└ @ Main C:\\Users\\kevin\\Desktop\\IMF\\AERInsights\\Code\\RunningPlacebosFunction.jl:18\n",
      "┌ Warning: indexing with colon as row will create a copy in the future use df[col_inds] to get the columns without copying\n",
      "│   caller = RunningPlacebos(::Array{Symbol,1}, ::Array{Float64,2}, ::Array{Float64,1}, ::Array{Symbol,1}, ::DataFrame) at RunningPlacebosFunction.jl:23\n",
      "└ @ Main C:\\Users\\kevin\\Desktop\\IMF\\AERInsights\\Code\\RunningPlacebosFunction.jl:23\n",
      "┌ Warning: indexing with colon as row will create a copy in the future use df[col_inds] to get the columns without copying\n",
      "│   caller = #GenSynthetics#262(::Float64, ::Array{Float64,1}, ::Array{Float64,2}, ::Function, ::DataFrame, ::DataFrame, ::Array{Symbol,1}, ::Array{Symbol,1}) at GenSynthetics_NLopt.jl:24\n",
      "└ @ Main C:\\Users\\kevin\\Desktop\\IMF\\AERInsights\\Code\\GenSynthetics_NLopt.jl:24\n",
      "┌ Warning: indexing with colon as row will create a copy in the future use df[col_inds] to get the columns without copying\n",
      "│   caller = #GenSynthetics#262(::Float64, ::Array{Float64,1}, ::Array{Float64,2}, ::Function, ::DataFrame, ::DataFrame, ::Array{Symbol,1}, ::Array{Symbol,1}) at GenSynthetics_NLopt.jl:25\n",
      "└ @ Main C:\\Users\\kevin\\Desktop\\IMF\\AERInsights\\Code\\GenSynthetics_NLopt.jl:25\n",
      "┌ Warning: indexing with colon as row will create a copy in the future use df[col_inds] to get the columns without copying\n",
      "│   caller = #GenSynthetics#262(::Float64, ::Array{Float64,1}, ::Array{Float64,2}, ::Function, ::DataFrame, ::DataFrame, ::Array{Symbol,1}, ::Array{Symbol,1}) at GenSynthetics_NLopt.jl:41\n",
      "└ @ Main C:\\Users\\kevin\\Desktop\\IMF\\AERInsights\\Code\\GenSynthetics_NLopt.jl:41\n",
      "┌ Warning: indexing with colon as row will create a copy in the future use df[col_inds] to get the columns without copying\n",
      "│   caller = #GenSynthetics#262(::Float64, ::Array{Float64,1}, ::Array{Float64,2}, ::Function, ::DataFrame, ::DataFrame, ::Array{Symbol,1}, ::Array{Symbol,1}) at GenSynthetics_NLopt.jl:70\n",
      "└ @ Main C:\\Users\\kevin\\Desktop\\IMF\\AERInsights\\Code\\GenSynthetics_NLopt.jl:70\n",
      "┌ Warning: indexing with colon as row will create a copy in the future use df[col_inds] to get the columns without copying\n",
      "│   caller = #GenSynthetics#262(::Float64, ::Array{Float64,1}, ::Array{Float64,2}, ::Function, ::DataFrame, ::DataFrame, ::Array{Symbol,1}, ::Array{Symbol,1}) at GenSynthetics_NLopt.jl:99\n",
      "└ @ Main C:\\Users\\kevin\\Desktop\\IMF\\AERInsights\\Code\\GenSynthetics_NLopt.jl:99\n"
     ]
    },
    {
     "name": "stdout",
     "output_type": "stream",
     "text": [
      "[6.0 7.0 8.0 9.0 10.0 11.0 Inf; 71.149 69.6122 71.2296 77.8672 92.0512 102.279 178.834; 74.4751 78.9699 70.5689 84.8901 103.261 112.509 160.28; 0.0 0.0 0.0 0.0 0.0 0.0 0.0; 0.0 0.0 0.0 0.0 0.0 0.0 0.0; 0.0 0.0 0.0 0.0 0.0 0.0 0.0; 0.0 0.0 0.0 0.0 0.0 0.0 0.0]This function takes: matching variables, weights on these matches, outcomes to predict, and Pool DataFrame as arguments and returns two DataFrames: placebos that have matches and then their synthetic controls.\n"
     ]
    },
    {
     "name": "stderr",
     "output_type": "stream",
     "text": [
      "┌ Warning: indexing with colon as row will create a copy in the future use df[col_inds] to get the columns without copying\n",
      "│   caller = RunningPlacebos(::Array{Symbol,1}, ::Array{Float64,2}, ::Array{Float64,1}, ::Array{Symbol,1}, ::DataFrame) at RunningPlacebosFunction.jl:18\n",
      "└ @ Main C:\\Users\\kevin\\Desktop\\IMF\\AERInsights\\Code\\RunningPlacebosFunction.jl:18\n",
      "┌ Warning: indexing with colon as row will create a copy in the future use df[col_inds] to get the columns without copying\n",
      "│   caller = RunningPlacebos(::Array{Symbol,1}, ::Array{Float64,2}, ::Array{Float64,1}, ::Array{Symbol,1}, ::DataFrame) at RunningPlacebosFunction.jl:23\n",
      "└ @ Main C:\\Users\\kevin\\Desktop\\IMF\\AERInsights\\Code\\RunningPlacebosFunction.jl:23\n",
      "┌ Warning: indexing with colon as row will create a copy in the future use df[col_inds] to get the columns without copying\n",
      "│   caller = #GenSynthetics#287(::Float64, ::Array{Float64,1}, ::Array{Float64,2}, ::Function, ::DataFrame, ::DataFrame, ::Array{Symbol,1}, ::Array{Symbol,1}) at GenSynthetics_NLopt.jl:24\n",
      "└ @ Main C:\\Users\\kevin\\Desktop\\IMF\\AERInsights\\Code\\GenSynthetics_NLopt.jl:24\n",
      "┌ Warning: indexing with colon as row will create a copy in the future use df[col_inds] to get the columns without copying\n",
      "│   caller = #GenSynthetics#287(::Float64, ::Array{Float64,1}, ::Array{Float64,2}, ::Function, ::DataFrame, ::DataFrame, ::Array{Symbol,1}, ::Array{Symbol,1}) at GenSynthetics_NLopt.jl:25\n",
      "└ @ Main C:\\Users\\kevin\\Desktop\\IMF\\AERInsights\\Code\\GenSynthetics_NLopt.jl:25\n",
      "┌ Warning: indexing with colon as row will create a copy in the future use df[col_inds] to get the columns without copying\n",
      "│   caller = #GenSynthetics#287(::Float64, ::Array{Float64,1}, ::Array{Float64,2}, ::Function, ::DataFrame, ::DataFrame, ::Array{Symbol,1}, ::Array{Symbol,1}) at GenSynthetics_NLopt.jl:41\n",
      "└ @ Main C:\\Users\\kevin\\Desktop\\IMF\\AERInsights\\Code\\GenSynthetics_NLopt.jl:41\n",
      "┌ Warning: indexing with colon as row will create a copy in the future use df[col_inds] to get the columns without copying\n",
      "│   caller = #GenSynthetics#287(::Float64, ::Array{Float64,1}, ::Array{Float64,2}, ::Function, ::DataFrame, ::DataFrame, ::Array{Symbol,1}, ::Array{Symbol,1}) at GenSynthetics_NLopt.jl:70\n",
      "└ @ Main C:\\Users\\kevin\\Desktop\\IMF\\AERInsights\\Code\\GenSynthetics_NLopt.jl:70\n"
     ]
    },
    {
     "name": "stdout",
     "output_type": "stream",
     "text": [
      "ANGOLA       1996 has no local matches\n",
      "Albania 1990 has no local matches\n",
      "Albania 1994 has no local matches\n"
     ]
    },
    {
     "name": "stderr",
     "output_type": "stream",
     "text": [
      "┌ Warning: indexing with colon as row will create a copy in the future use df[col_inds] to get the columns without copying\n",
      "│   caller = #GenSynthetics#287(::Float64, ::Array{Float64,1}, ::Array{Float64,2}, ::Function, ::DataFrame, ::DataFrame, ::Array{Symbol,1}, ::Array{Symbol,1}) at GenSynthetics_NLopt.jl:99\n",
      "└ @ Main C:\\Users\\kevin\\Desktop\\IMF\\AERInsights\\Code\\GenSynthetics_NLopt.jl:99\n"
     ]
    },
    {
     "name": "stdout",
     "output_type": "stream",
     "text": [
      "BANGLADESH   1976 has no local matches\n",
      "Belarus 1999 has no local matches\n",
      "Brazil 1976 has no local matches\n",
      "Botswana 1984 has no local matches\n",
      "Chile 1976 has no local matches\n",
      "CAMEROON     1989 has no local matches\n",
      "CONGO, DEM. REP. 1994 has no local matches\n",
      "COMOROS      1994 has no local matches\n",
      "Czech Republic 1996 has no local matches\n",
      "Egypt 1979 has no local matches\n",
      "ETHIOPIA     1993 has no local matches\n",
      "Gabon 2002 has no local matches\n",
      "GUINEA-BISSAU 1980 has no local matches\n",
      "Equatorial Guinea 1994 has no local matches\n",
      "GUYANA       1982 has no local matches\n",
      "GUYANA       1987 has no local matches\n",
      "Iran 1985 has no local matches\n",
      "Iran 1992 has no local matches\n",
      "Myanmar 2001 has no local matches\n",
      "[6.0 7.0 8.0 9.0 10.0 11.0 Inf; 71.149 69.6122 71.2296 77.8672 92.0512 102.279 178.834; 74.4751 78.9699 70.5689 84.8901 103.261 112.509 160.28; 112.085 0.0 0.0 0.0 0.0 0.0 0.0; 0.0 0.0 0.0 0.0 0.0 0.0 0.0; 0.0 0.0 0.0 0.0 0.0 0.0 0.0; 0.0 0.0 0.0 0.0 0.0 0.0 0.0]This function takes: matching variables, weights on these matches, outcomes to predict, and Pool DataFrame as arguments and returns two DataFrames: placebos that have matches and then their synthetic controls.\n"
     ]
    },
    {
     "name": "stderr",
     "output_type": "stream",
     "text": [
      "┌ Warning: indexing with colon as row will create a copy in the future use df[col_inds] to get the columns without copying\n",
      "│   caller = RunningPlacebos(::Array{Symbol,1}, ::Array{Float64,2}, ::Array{Float64,1}, ::Array{Symbol,1}, ::DataFrame) at RunningPlacebosFunction.jl:18\n",
      "└ @ Main C:\\Users\\kevin\\Desktop\\IMF\\AERInsights\\Code\\RunningPlacebosFunction.jl:18\n",
      "┌ Warning: indexing with colon as row will create a copy in the future use df[col_inds] to get the columns without copying\n",
      "│   caller = RunningPlacebos(::Array{Symbol,1}, ::Array{Float64,2}, ::Array{Float64,1}, ::Array{Symbol,1}, ::DataFrame) at RunningPlacebosFunction.jl:23\n",
      "└ @ Main C:\\Users\\kevin\\Desktop\\IMF\\AERInsights\\Code\\RunningPlacebosFunction.jl:23\n",
      "┌ Warning: indexing with colon as row will create a copy in the future use df[col_inds] to get the columns without copying\n",
      "│   caller = #GenSynthetics#306(::Float64, ::Array{Float64,1}, ::Array{Float64,2}, ::Function, ::DataFrame, ::DataFrame, ::Array{Symbol,1}, ::Array{Symbol,1}) at GenSynthetics_NLopt.jl:24\n",
      "└ @ Main C:\\Users\\kevin\\Desktop\\IMF\\AERInsights\\Code\\GenSynthetics_NLopt.jl:24\n",
      "┌ Warning: indexing with colon as row will create a copy in the future use df[col_inds] to get the columns without copying\n",
      "│   caller = #GenSynthetics#306(::Float64, ::Array{Float64,1}, ::Array{Float64,2}, ::Function, ::DataFrame, ::DataFrame, ::Array{Symbol,1}, ::Array{Symbol,1}) at GenSynthetics_NLopt.jl:25\n",
      "└ @ Main C:\\Users\\kevin\\Desktop\\IMF\\AERInsights\\Code\\GenSynthetics_NLopt.jl:25\n",
      "┌ Warning: indexing with colon as row will create a copy in the future use df[col_inds] to get the columns without copying\n",
      "│   caller = #GenSynthetics#306(::Float64, ::Array{Float64,1}, ::Array{Float64,2}, ::Function, ::DataFrame, ::DataFrame, ::Array{Symbol,1}, ::Array{Symbol,1}) at GenSynthetics_NLopt.jl:41\n",
      "└ @ Main C:\\Users\\kevin\\Desktop\\IMF\\AERInsights\\Code\\GenSynthetics_NLopt.jl:41\n",
      "┌ Warning: indexing with colon as row will create a copy in the future use df[col_inds] to get the columns without copying\n",
      "│   caller = #GenSynthetics#306(::Float64, ::Array{Float64,1}, ::Array{Float64,2}, ::Function, ::DataFrame, ::DataFrame, ::Array{Symbol,1}, ::Array{Symbol,1}) at GenSynthetics_NLopt.jl:70\n",
      "└ @ Main C:\\Users\\kevin\\Desktop\\IMF\\AERInsights\\Code\\GenSynthetics_NLopt.jl:70\n",
      "┌ Warning: indexing with colon as row will create a copy in the future use df[col_inds] to get the columns without copying\n",
      "│   caller = #GenSynthetics#306(::Float64, ::Array{Float64,1}, ::Array{Float64,2}, ::Function, ::DataFrame, ::DataFrame, ::Array{Symbol,1}, ::Array{Symbol,1}) at GenSynthetics_NLopt.jl:99\n",
      "└ @ Main C:\\Users\\kevin\\Desktop\\IMF\\AERInsights\\Code\\GenSynthetics_NLopt.jl:99\n"
     ]
    },
    {
     "name": "stdout",
     "output_type": "stream",
     "text": [
      "ANGOLA       1996 has no local matches\n",
      "Albania 1990 has no local matches\n",
      "Albania 1994 has no local matches\n",
      "BANGLADESH   1976 has no local matches\n",
      "Belarus 1999 has no local matches\n",
      "Brazil 1976 has no local matches\n",
      "Chile 1976 has no local matches\n",
      "CAMEROON     1989 has no local matches\n",
      "CONGO, DEM. REP. 1994 has no local matches\n",
      "Czech Republic 1996 has no local matches\n",
      "Egypt 1979 has no local matches\n",
      "ETHIOPIA     1993 has no local matches\n",
      "Gabon 2002 has no local matches\n",
      "GUINEA-BISSAU 1980 has no local matches\n",
      "Equatorial Guinea 1994 has no local matches\n",
      "GUYANA       1982 has no local matches\n",
      "Iran 1985 has no local matches\n",
      "Iran 1992 has no local matches\n",
      "[6.0 7.0 8.0 9.0 10.0 11.0 Inf; 71.149 69.6122 71.2296 77.8672 92.0512 102.279 178.834; 74.4751 78.9699 70.5689 84.8901 103.261 112.509 160.28; 112.085 101.881 0.0 0.0 0.0 0.0 0.0; 0.0 0.0 0.0 0.0 0.0 0.0 0.0; 0.0 0.0 0.0 0.0 0.0 0.0 0.0; 0.0 0.0 0.0 0.0 0.0 0.0 0.0]This function takes: matching variables, weights on these matches, outcomes to predict, and Pool DataFrame as arguments and returns two DataFrames: placebos that have matches and then their synthetic controls.\n"
     ]
    },
    {
     "name": "stderr",
     "output_type": "stream",
     "text": [
      "┌ Warning: indexing with colon as row will create a copy in the future use df[col_inds] to get the columns without copying\n",
      "│   caller = RunningPlacebos(::Array{Symbol,1}, ::Array{Float64,2}, ::Array{Float64,1}, ::Array{Symbol,1}, ::DataFrame) at RunningPlacebosFunction.jl:18\n",
      "└ @ Main C:\\Users\\kevin\\Desktop\\IMF\\AERInsights\\Code\\RunningPlacebosFunction.jl:18\n",
      "┌ Warning: indexing with colon as row will create a copy in the future use df[col_inds] to get the columns without copying\n",
      "│   caller = RunningPlacebos(::Array{Symbol,1}, ::Array{Float64,2}, ::Array{Float64,1}, ::Array{Symbol,1}, ::DataFrame) at RunningPlacebosFunction.jl:23\n",
      "└ @ Main C:\\Users\\kevin\\Desktop\\IMF\\AERInsights\\Code\\RunningPlacebosFunction.jl:23\n",
      "┌ Warning: indexing with colon as row will create a copy in the future use df[col_inds] to get the columns without copying\n",
      "│   caller = #GenSynthetics#325(::Float64, ::Array{Float64,1}, ::Array{Float64,2}, ::Function, ::DataFrame, ::DataFrame, ::Array{Symbol,1}, ::Array{Symbol,1}) at GenSynthetics_NLopt.jl:24\n",
      "└ @ Main C:\\Users\\kevin\\Desktop\\IMF\\AERInsights\\Code\\GenSynthetics_NLopt.jl:24\n",
      "┌ Warning: indexing with colon as row will create a copy in the future use df[col_inds] to get the columns without copying\n",
      "│   caller = #GenSynthetics#325(::Float64, ::Array{Float64,1}, ::Array{Float64,2}, ::Function, ::DataFrame, ::DataFrame, ::Array{Symbol,1}, ::Array{Symbol,1}) at GenSynthetics_NLopt.jl:25\n",
      "└ @ Main C:\\Users\\kevin\\Desktop\\IMF\\AERInsights\\Code\\GenSynthetics_NLopt.jl:25\n",
      "┌ Warning: indexing with colon as row will create a copy in the future use df[col_inds] to get the columns without copying\n",
      "│   caller = #GenSynthetics#325(::Float64, ::Array{Float64,1}, ::Array{Float64,2}, ::Function, ::DataFrame, ::DataFrame, ::Array{Symbol,1}, ::Array{Symbol,1}) at GenSynthetics_NLopt.jl:41\n",
      "└ @ Main C:\\Users\\kevin\\Desktop\\IMF\\AERInsights\\Code\\GenSynthetics_NLopt.jl:41\n",
      "┌ Warning: indexing with colon as row will create a copy in the future use df[col_inds] to get the columns without copying\n",
      "│   caller = #GenSynthetics#325(::Float64, ::Array{Float64,1}, ::Array{Float64,2}, ::Function, ::DataFrame, ::DataFrame, ::Array{Symbol,1}, ::Array{Symbol,1}) at GenSynthetics_NLopt.jl:70\n",
      "└ @ Main C:\\Users\\kevin\\Desktop\\IMF\\AERInsights\\Code\\GenSynthetics_NLopt.jl:70\n"
     ]
    },
    {
     "name": "stdout",
     "output_type": "stream",
     "text": [
      "ANGOLA       1996 has no local matches\n",
      "Albania 1990 has no local matches\n",
      "Albania 1994 has no local matches\n"
     ]
    },
    {
     "name": "stderr",
     "output_type": "stream",
     "text": [
      "┌ Warning: indexing with colon as row will create a copy in the future use df[col_inds] to get the columns without copying\n",
      "│   caller = #GenSynthetics#325(::Float64, ::Array{Float64,1}, ::Array{Float64,2}, ::Function, ::DataFrame, ::DataFrame, ::Array{Symbol,1}, ::Array{Symbol,1}) at GenSynthetics_NLopt.jl:99\n",
      "└ @ Main C:\\Users\\kevin\\Desktop\\IMF\\AERInsights\\Code\\GenSynthetics_NLopt.jl:99\n"
     ]
    },
    {
     "name": "stdout",
     "output_type": "stream",
     "text": [
      "BANGLADESH   1976 has no local matches\n",
      "Belarus 1999 has no local matches\n",
      "Chile 1976 has no local matches\n",
      "CONGO, DEM. REP. 1994 has no local matches\n",
      "Czech Republic 1996 has no local matches\n",
      "ETHIOPIA     1993 has no local matches\n",
      "Gabon 2002 has no local matches\n",
      "GUINEA-BISSAU 1980 has no local matches\n",
      "Equatorial Guinea 1994 has no local matches\n",
      "GUYANA       1982 has no local matches\n",
      "Iran 1985 has no local matches\n",
      "Iran 1992 has no local matches\n",
      "[6.0 7.0 8.0 9.0 10.0 11.0 Inf; 71.149 69.6122 71.2296 77.8672 92.0512 102.279 178.834; 74.4751 78.9699 70.5689 84.8901 103.261 112.509 160.28; 112.085 101.881 100.745 0.0 0.0 0.0 0.0; 0.0 0.0 0.0 0.0 0.0 0.0 0.0; 0.0 0.0 0.0 0.0 0.0 0.0 0.0; 0.0 0.0 0.0 0.0 0.0 0.0 0.0]This function takes: matching variables, weights on these matches, outcomes to predict, and Pool DataFrame as arguments and returns two DataFrames: placebos that have matches and then their synthetic controls.\n"
     ]
    },
    {
     "name": "stderr",
     "output_type": "stream",
     "text": [
      "┌ Warning: indexing with colon as row will create a copy in the future use df[col_inds] to get the columns without copying\n",
      "│   caller = RunningPlacebos(::Array{Symbol,1}, ::Array{Float64,2}, ::Array{Float64,1}, ::Array{Symbol,1}, ::DataFrame) at RunningPlacebosFunction.jl:18\n",
      "└ @ Main C:\\Users\\kevin\\Desktop\\IMF\\AERInsights\\Code\\RunningPlacebosFunction.jl:18\n",
      "┌ Warning: indexing with colon as row will create a copy in the future use df[col_inds] to get the columns without copying\n",
      "│   caller = RunningPlacebos(::Array{Symbol,1}, ::Array{Float64,2}, ::Array{Float64,1}, ::Array{Symbol,1}, ::DataFrame) at RunningPlacebosFunction.jl:23\n",
      "└ @ Main C:\\Users\\kevin\\Desktop\\IMF\\AERInsights\\Code\\RunningPlacebosFunction.jl:23\n",
      "┌ Warning: indexing with colon as row will create a copy in the future use df[col_inds] to get the columns without copying\n",
      "│   caller = #GenSynthetics#344(::Float64, ::Array{Float64,1}, ::Array{Float64,2}, ::Function, ::DataFrame, ::DataFrame, ::Array{Symbol,1}, ::Array{Symbol,1}) at GenSynthetics_NLopt.jl:24\n",
      "└ @ Main C:\\Users\\kevin\\Desktop\\IMF\\AERInsights\\Code\\GenSynthetics_NLopt.jl:24\n",
      "┌ Warning: indexing with colon as row will create a copy in the future use df[col_inds] to get the columns without copying\n",
      "│   caller = #GenSynthetics#344(::Float64, ::Array{Float64,1}, ::Array{Float64,2}, ::Function, ::DataFrame, ::DataFrame, ::Array{Symbol,1}, ::Array{Symbol,1}) at GenSynthetics_NLopt.jl:25\n",
      "└ @ Main C:\\Users\\kevin\\Desktop\\IMF\\AERInsights\\Code\\GenSynthetics_NLopt.jl:25\n",
      "┌ Warning: indexing with colon as row will create a copy in the future use df[col_inds] to get the columns without copying\n",
      "│   caller = #GenSynthetics#344(::Float64, ::Array{Float64,1}, ::Array{Float64,2}, ::Function, ::DataFrame, ::DataFrame, ::Array{Symbol,1}, ::Array{Symbol,1}) at GenSynthetics_NLopt.jl:41\n",
      "└ @ Main C:\\Users\\kevin\\Desktop\\IMF\\AERInsights\\Code\\GenSynthetics_NLopt.jl:41\n",
      "┌ Warning: indexing with colon as row will create a copy in the future use df[col_inds] to get the columns without copying\n",
      "│   caller = #GenSynthetics#344(::Float64, ::Array{Float64,1}, ::Array{Float64,2}, ::Function, ::DataFrame, ::DataFrame, ::Array{Symbol,1}, ::Array{Symbol,1}) at GenSynthetics_NLopt.jl:70\n",
      "└ @ Main C:\\Users\\kevin\\Desktop\\IMF\\AERInsights\\Code\\GenSynthetics_NLopt.jl:70\n"
     ]
    },
    {
     "name": "stdout",
     "output_type": "stream",
     "text": [
      "ANGOLA       1996 has no local matches\n",
      "Albania 1994 has no local matches"
     ]
    },
    {
     "name": "stderr",
     "output_type": "stream",
     "text": [
      "┌ Warning: indexing with colon as row will create a copy in the future use df[col_inds] to get the columns without copying\n",
      "│   caller = #GenSynthetics#344(::Float64, ::Array{Float64,1}, ::Array{Float64,2}, ::Function, ::DataFrame, ::DataFrame, ::Array{Symbol,1}, ::Array{Symbol,1}) at GenSynthetics_NLopt.jl:99\n",
      "└ @ Main C:\\Users\\kevin\\Desktop\\IMF\\AERInsights\\Code\\GenSynthetics_NLopt.jl:99\n"
     ]
    },
    {
     "name": "stdout",
     "output_type": "stream",
     "text": [
      "\n",
      "Belarus 1999 has no local matches\n",
      "Chile 1976 has no local matches\n",
      "CONGO, DEM. REP. 1994 has no local matches\n",
      "Czech Republic 1996 has no local matches\n",
      "Gabon 2002 has no local matches\n",
      "GUINEA-BISSAU 1980 has no local matches\n",
      "Equatorial Guinea 1994 has no local matches\n",
      "Iran 1985 has no local matches\n",
      "Iran 1992 has no local matches\n",
      "[6.0 7.0 8.0 9.0 10.0 11.0 Inf; 71.149 69.6122 71.2296 77.8672 92.0512 102.279 178.834; 74.4751 78.9699 70.5689 84.8901 103.261 112.509 160.28; 112.085 101.881 100.745 113.572 0.0 0.0 0.0; 0.0 0.0 0.0 0.0 0.0 0.0 0.0; 0.0 0.0 0.0 0.0 0.0 0.0 0.0; 0.0 0.0 0.0 0.0 0.0 0.0 0.0]This function takes: matching variables, weights on these matches, outcomes to predict, and Pool DataFrame as arguments and returns two DataFrames: placebos that have matches and then their synthetic controls.\n"
     ]
    },
    {
     "name": "stderr",
     "output_type": "stream",
     "text": [
      "┌ Warning: indexing with colon as row will create a copy in the future use df[col_inds] to get the columns without copying\n",
      "│   caller = RunningPlacebos(::Array{Symbol,1}, ::Array{Float64,2}, ::Array{Float64,1}, ::Array{Symbol,1}, ::DataFrame) at RunningPlacebosFunction.jl:18\n",
      "└ @ Main C:\\Users\\kevin\\Desktop\\IMF\\AERInsights\\Code\\RunningPlacebosFunction.jl:18\n",
      "┌ Warning: indexing with colon as row will create a copy in the future use df[col_inds] to get the columns without copying\n",
      "│   caller = RunningPlacebos(::Array{Symbol,1}, ::Array{Float64,2}, ::Array{Float64,1}, ::Array{Symbol,1}, ::DataFrame) at RunningPlacebosFunction.jl:23\n",
      "└ @ Main C:\\Users\\kevin\\Desktop\\IMF\\AERInsights\\Code\\RunningPlacebosFunction.jl:23\n",
      "┌ Warning: indexing with colon as row will create a copy in the future use df[col_inds] to get the columns without copying\n",
      "│   caller = #GenSynthetics#363(::Float64, ::Array{Float64,1}, ::Array{Float64,2}, ::Function, ::DataFrame, ::DataFrame, ::Array{Symbol,1}, ::Array{Symbol,1}) at GenSynthetics_NLopt.jl:24\n",
      "└ @ Main C:\\Users\\kevin\\Desktop\\IMF\\AERInsights\\Code\\GenSynthetics_NLopt.jl:24\n",
      "┌ Warning: indexing with colon as row will create a copy in the future use df[col_inds] to get the columns without copying\n",
      "│   caller = #GenSynthetics#363(::Float64, ::Array{Float64,1}, ::Array{Float64,2}, ::Function, ::DataFrame, ::DataFrame, ::Array{Symbol,1}, ::Array{Symbol,1}) at GenSynthetics_NLopt.jl:25\n",
      "└ @ Main C:\\Users\\kevin\\Desktop\\IMF\\AERInsights\\Code\\GenSynthetics_NLopt.jl:25\n",
      "┌ Warning: indexing with colon as row will create a copy in the future use df[col_inds] to get the columns without copying\n",
      "│   caller = #GenSynthetics#363(::Float64, ::Array{Float64,1}, ::Array{Float64,2}, ::Function, ::DataFrame, ::DataFrame, ::Array{Symbol,1}, ::Array{Symbol,1}) at GenSynthetics_NLopt.jl:41\n",
      "└ @ Main C:\\Users\\kevin\\Desktop\\IMF\\AERInsights\\Code\\GenSynthetics_NLopt.jl:41\n",
      "┌ Warning: indexing with colon as row will create a copy in the future use df[col_inds] to get the columns without copying\n",
      "│   caller = #GenSynthetics#363(::Float64, ::Array{Float64,1}, ::Array{Float64,2}, ::Function, ::DataFrame, ::DataFrame, ::Array{Symbol,1}, ::Array{Symbol,1}) at GenSynthetics_NLopt.jl:70\n",
      "└ @ Main C:\\Users\\kevin\\Desktop\\IMF\\AERInsights\\Code\\GenSynthetics_NLopt.jl:70\n"
     ]
    },
    {
     "name": "stdout",
     "output_type": "stream",
     "text": [
      "ANGOLA       1996 has no local matches\n",
      "Albania 1994 has no local matches\n"
     ]
    },
    {
     "name": "stderr",
     "output_type": "stream",
     "text": [
      "┌ Warning: indexing with colon as row will create a copy in the future use df[col_inds] to get the columns without copying\n",
      "│   caller = #GenSynthetics#363(::Float64, ::Array{Float64,1}, ::Array{Float64,2}, ::Function, ::DataFrame, ::DataFrame, ::Array{Symbol,1}, ::Array{Symbol,1}) at GenSynthetics_NLopt.jl:99\n",
      "└ @ Main C:\\Users\\kevin\\Desktop\\IMF\\AERInsights\\Code\\GenSynthetics_NLopt.jl:99\n"
     ]
    },
    {
     "name": "stdout",
     "output_type": "stream",
     "text": [
      "Chile 1976 has no local matches\n",
      "CONGO, DEM. REP. 1994 has no local matches\n",
      "Czech Republic 1996 has no local matches\n",
      "Equatorial Guinea 1994 has no local matches\n",
      "Iran 1985 has no local matches\n",
      "Iran 1992 has no local matches\n",
      "[6.0 7.0 8.0 9.0 10.0 11.0 Inf; 71.149 69.6122 71.2296 77.8672 92.0512 102.279 178.834; 74.4751 78.9699 70.5689 84.8901 103.261 112.509 160.28; 112.085 101.881 100.745 113.572 136.658 0.0 0.0; 0.0 0.0 0.0 0.0 0.0 0.0 0.0; 0.0 0.0 0.0 0.0 0.0 0.0 0.0; 0.0 0.0 0.0 0.0 0.0 0.0 0.0]This function takes: matching variables, weights on these matches, outcomes to predict, and Pool DataFrame as arguments and returns two DataFrames: placebos that have matches and then their synthetic controls.\n"
     ]
    },
    {
     "name": "stderr",
     "output_type": "stream",
     "text": [
      "┌ Warning: indexing with colon as row will create a copy in the future use df[col_inds] to get the columns without copying\n",
      "│   caller = RunningPlacebos(::Array{Symbol,1}, ::Array{Float64,2}, ::Array{Float64,1}, ::Array{Symbol,1}, ::DataFrame) at RunningPlacebosFunction.jl:18\n",
      "└ @ Main C:\\Users\\kevin\\Desktop\\IMF\\AERInsights\\Code\\RunningPlacebosFunction.jl:18\n",
      "┌ Warning: indexing with colon as row will create a copy in the future use df[col_inds] to get the columns without copying\n",
      "│   caller = RunningPlacebos(::Array{Symbol,1}, ::Array{Float64,2}, ::Array{Float64,1}, ::Array{Symbol,1}, ::DataFrame) at RunningPlacebosFunction.jl:23\n",
      "└ @ Main C:\\Users\\kevin\\Desktop\\IMF\\AERInsights\\Code\\RunningPlacebosFunction.jl:23\n",
      "┌ Warning: indexing with colon as row will create a copy in the future use df[col_inds] to get the columns without copying\n",
      "│   caller = #GenSynthetics#382(::Float64, ::Array{Float64,1}, ::Array{Float64,2}, ::Function, ::DataFrame, ::DataFrame, ::Array{Symbol,1}, ::Array{Symbol,1}) at GenSynthetics_NLopt.jl:24\n",
      "└ @ Main C:\\Users\\kevin\\Desktop\\IMF\\AERInsights\\Code\\GenSynthetics_NLopt.jl:24\n",
      "┌ Warning: indexing with colon as row will create a copy in the future use df[col_inds] to get the columns without copying\n",
      "│   caller = #GenSynthetics#382(::Float64, ::Array{Float64,1}, ::Array{Float64,2}, ::Function, ::DataFrame, ::DataFrame, ::Array{Symbol,1}, ::Array{Symbol,1}) at GenSynthetics_NLopt.jl:25\n",
      "└ @ Main C:\\Users\\kevin\\Desktop\\IMF\\AERInsights\\Code\\GenSynthetics_NLopt.jl:25\n",
      "┌ Warning: indexing with colon as row will create a copy in the future use df[col_inds] to get the columns without copying\n",
      "│   caller = #GenSynthetics#382(::Float64, ::Array{Float64,1}, ::Array{Float64,2}, ::Function, ::DataFrame, ::DataFrame, ::Array{Symbol,1}, ::Array{Symbol,1}) at GenSynthetics_NLopt.jl:41\n",
      "└ @ Main C:\\Users\\kevin\\Desktop\\IMF\\AERInsights\\Code\\GenSynthetics_NLopt.jl:41\n",
      "┌ Warning: indexing with colon as row will create a copy in the future use df[col_inds] to get the columns without copying\n",
      "│   caller = #GenSynthetics#382(::Float64, ::Array{Float64,1}, ::Array{Float64,2}, ::Function, ::DataFrame, ::DataFrame, ::Array{Symbol,1}, ::Array{Symbol,1}) at GenSynthetics_NLopt.jl:70\n",
      "└ @ Main C:\\Users\\kevin\\Desktop\\IMF\\AERInsights\\Code\\GenSynthetics_NLopt.jl:70\n"
     ]
    },
    {
     "name": "stdout",
     "output_type": "stream",
     "text": [
      "ANGOLA       1996 has no local matches\n",
      "Albania 1994 has no local matches\n"
     ]
    },
    {
     "name": "stderr",
     "output_type": "stream",
     "text": [
      "┌ Warning: indexing with colon as row will create a copy in the future use df[col_inds] to get the columns without copying\n",
      "│   caller = #GenSynthetics#382(::Float64, ::Array{Float64,1}, ::Array{Float64,2}, ::Function, ::DataFrame, ::DataFrame, ::Array{Symbol,1}, ::Array{Symbol,1}) at GenSynthetics_NLopt.jl:99\n",
      "└ @ Main C:\\Users\\kevin\\Desktop\\IMF\\AERInsights\\Code\\GenSynthetics_NLopt.jl:99\n"
     ]
    },
    {
     "name": "stdout",
     "output_type": "stream",
     "text": [
      "CONGO, DEM. REP. 1994 has no local matches\n",
      "Equatorial Guinea 1994 has no local matches\n",
      "Iran 1985 has no local matches\n",
      "Iran 1992 has no local matches\n",
      "[6.0 7.0 8.0 9.0 10.0 11.0 Inf; 71.149 69.6122 71.2296 77.8672 92.0512 102.279 178.834; 74.4751 78.9699 70.5689 84.8901 103.261 112.509 160.28; 112.085 101.881 100.745 113.572 136.658 145.079 0.0; 0.0 0.0 0.0 0.0 0.0 0.0 0.0; 0.0 0.0 0.0 0.0 0.0 0.0 0.0; 0.0 0.0 0.0 0.0 0.0 0.0 0.0]This function takes: matching variables, weights on these matches, outcomes to predict, and Pool DataFrame as arguments and returns two DataFrames: placebos that have matches and then their synthetic controls.\n"
     ]
    },
    {
     "name": "stderr",
     "output_type": "stream",
     "text": [
      "┌ Warning: indexing with colon as row will create a copy in the future use df[col_inds] to get the columns without copying\n",
      "│   caller = RunningPlacebos(::Array{Symbol,1}, ::Array{Float64,2}, ::Array{Float64,1}, ::Array{Symbol,1}, ::DataFrame) at RunningPlacebosFunction.jl:18\n",
      "└ @ Main C:\\Users\\kevin\\Desktop\\IMF\\AERInsights\\Code\\RunningPlacebosFunction.jl:18\n",
      "┌ Warning: indexing with colon as row will create a copy in the future use df[col_inds] to get the columns without copying\n",
      "│   caller = RunningPlacebos(::Array{Symbol,1}, ::Array{Float64,2}, ::Array{Float64,1}, ::Array{Symbol,1}, ::DataFrame) at RunningPlacebosFunction.jl:23\n",
      "└ @ Main C:\\Users\\kevin\\Desktop\\IMF\\AERInsights\\Code\\RunningPlacebosFunction.jl:23\n",
      "┌ Warning: indexing with colon as row will create a copy in the future use df[col_inds] to get the columns without copying\n",
      "│   caller = #GenSynthetics#401(::Float64, ::Array{Float64,1}, ::Array{Float64,2}, ::Function, ::DataFrame, ::DataFrame, ::Array{Symbol,1}, ::Array{Symbol,1}) at GenSynthetics_NLopt.jl:24\n",
      "└ @ Main C:\\Users\\kevin\\Desktop\\IMF\\AERInsights\\Code\\GenSynthetics_NLopt.jl:24\n",
      "┌ Warning: indexing with colon as row will create a copy in the future use df[col_inds] to get the columns without copying\n",
      "│   caller = #GenSynthetics#401(::Float64, ::Array{Float64,1}, ::Array{Float64,2}, ::Function, ::DataFrame, ::DataFrame, ::Array{Symbol,1}, ::Array{Symbol,1}) at GenSynthetics_NLopt.jl:25\n",
      "└ @ Main C:\\Users\\kevin\\Desktop\\IMF\\AERInsights\\Code\\GenSynthetics_NLopt.jl:25\n",
      "┌ Warning: indexing with colon as row will create a copy in the future use df[col_inds] to get the columns without copying\n",
      "│   caller = #GenSynthetics#401(::Float64, ::Array{Float64,1}, ::Array{Float64,2}, ::Function, ::DataFrame, ::DataFrame, ::Array{Symbol,1}, ::Array{Symbol,1}) at GenSynthetics_NLopt.jl:41\n",
      "└ @ Main C:\\Users\\kevin\\Desktop\\IMF\\AERInsights\\Code\\GenSynthetics_NLopt.jl:41\n",
      "┌ Warning: indexing with colon as row will create a copy in the future use df[col_inds] to get the columns without copying\n",
      "│   caller = #GenSynthetics#401(::Float64, ::Array{Float64,1}, ::Array{Float64,2}, ::Function, ::DataFrame, ::DataFrame, ::Array{Symbol,1}, ::Array{Symbol,1}) at GenSynthetics_NLopt.jl:70\n",
      "└ @ Main C:\\Users\\kevin\\Desktop\\IMF\\AERInsights\\Code\\GenSynthetics_NLopt.jl:70\n",
      "┌ Warning: indexing with colon as row will create a copy in the future use df[col_inds] to get the columns without copying\n",
      "│   caller = #GenSynthetics#401(::Float64, ::Array{Float64,1}, ::Array{Float64,2}, ::Function, ::DataFrame, ::DataFrame, ::Array{Symbol,1}, ::Array{Symbol,1}) at GenSynthetics_NLopt.jl:99\n",
      "└ @ Main C:\\Users\\kevin\\Desktop\\IMF\\AERInsights\\Code\\GenSynthetics_NLopt.jl:99\n"
     ]
    },
    {
     "name": "stdout",
     "output_type": "stream",
     "text": [
      "[6.0 7.0 8.0 9.0 10.0 11.0 Inf; 71.149 69.6122 71.2296 77.8672 92.0512 102.279 178.834; 74.4751 78.9699 70.5689 84.8901 103.261 112.509 160.28; 112.085 101.881 100.745 113.572 136.658 145.079 264.58; 0.0 0.0 0.0 0.0 0.0 0.0 0.0; 0.0 0.0 0.0 0.0 0.0 0.0 0.0; 0.0 0.0 0.0 0.0 0.0 0.0 0.0]This function takes: matching variables, weights on these matches, outcomes to predict, and Pool DataFrame as arguments and returns two DataFrames: placebos that have matches and then their synthetic controls.\n"
     ]
    },
    {
     "name": "stderr",
     "output_type": "stream",
     "text": [
      "┌ Warning: indexing with colon as row will create a copy in the future use df[col_inds] to get the columns without copying\n",
      "│   caller = RunningPlacebos(::Array{Symbol,1}, ::Array{Float64,2}, ::Array{Float64,1}, ::Array{Symbol,1}, ::DataFrame) at RunningPlacebosFunction.jl:18\n",
      "└ @ Main C:\\Users\\kevin\\Desktop\\IMF\\AERInsights\\Code\\RunningPlacebosFunction.jl:18\n",
      "┌ Warning: indexing with colon as row will create a copy in the future use df[col_inds] to get the columns without copying\n",
      "│   caller = RunningPlacebos(::Array{Symbol,1}, ::Array{Float64,2}, ::Array{Float64,1}, ::Array{Symbol,1}, ::DataFrame) at RunningPlacebosFunction.jl:23\n",
      "└ @ Main C:\\Users\\kevin\\Desktop\\IMF\\AERInsights\\Code\\RunningPlacebosFunction.jl:23\n",
      "┌ Warning: indexing with colon as row will create a copy in the future use df[col_inds] to get the columns without copying\n",
      "│   caller = #GenSynthetics#426(::Float64, ::Array{Float64,1}, ::Array{Float64,2}, ::Function, ::DataFrame, ::DataFrame, ::Array{Symbol,1}, ::Array{Symbol,1}) at GenSynthetics_NLopt.jl:24\n",
      "└ @ Main C:\\Users\\kevin\\Desktop\\IMF\\AERInsights\\Code\\GenSynthetics_NLopt.jl:24\n",
      "┌ Warning: indexing with colon as row will create a copy in the future use df[col_inds] to get the columns without copying\n",
      "│   caller = #GenSynthetics#426(::Float64, ::Array{Float64,1}, ::Array{Float64,2}, ::Function, ::DataFrame, ::DataFrame, ::Array{Symbol,1}, ::Array{Symbol,1}) at GenSynthetics_NLopt.jl:25\n",
      "└ @ Main C:\\Users\\kevin\\Desktop\\IMF\\AERInsights\\Code\\GenSynthetics_NLopt.jl:25\n",
      "┌ Warning: indexing with colon as row will create a copy in the future use df[col_inds] to get the columns without copying\n",
      "│   caller = #GenSynthetics#426(::Float64, ::Array{Float64,1}, ::Array{Float64,2}, ::Function, ::DataFrame, ::DataFrame, ::Array{Symbol,1}, ::Array{Symbol,1}) at GenSynthetics_NLopt.jl:41\n",
      "└ @ Main C:\\Users\\kevin\\Desktop\\IMF\\AERInsights\\Code\\GenSynthetics_NLopt.jl:41\n",
      "┌ Warning: indexing with colon as row will create a copy in the future use df[col_inds] to get the columns without copying\n",
      "│   caller = #GenSynthetics#426(::Float64, ::Array{Float64,1}, ::Array{Float64,2}, ::Function, ::DataFrame, ::DataFrame, ::Array{Symbol,1}, ::Array{Symbol,1}) at GenSynthetics_NLopt.jl:70\n",
      "└ @ Main C:\\Users\\kevin\\Desktop\\IMF\\AERInsights\\Code\\GenSynthetics_NLopt.jl:70\n"
     ]
    },
    {
     "name": "stdout",
     "output_type": "stream",
     "text": [
      "ANGOLA       1996 has no local matches\n",
      "Albania 1990 has no local matches\n",
      "Albania 1994 has no local matches\n"
     ]
    },
    {
     "name": "stderr",
     "output_type": "stream",
     "text": [
      "┌ Warning: indexing with colon as row will create a copy in the future use df[col_inds] to get the columns without copying\n",
      "│   caller = #GenSynthetics#426(::Float64, ::Array{Float64,1}, ::Array{Float64,2}, ::Function, ::DataFrame, ::DataFrame, ::Array{Symbol,1}, ::Array{Symbol,1}) at GenSynthetics_NLopt.jl:99\n",
      "└ @ Main C:\\Users\\kevin\\Desktop\\IMF\\AERInsights\\Code\\GenSynthetics_NLopt.jl:99\n"
     ]
    },
    {
     "name": "stdout",
     "output_type": "stream",
     "text": [
      "BANGLADESH   1976 has no local matches\n",
      "Belarus 1999 has no local matches\n",
      "Botswana 1984 has no local matches\n",
      "Chile 1976 has no local matches\n",
      "CAMEROON     1989 has no local matches\n",
      "CONGO, DEM. REP. 1994 has no local matches\n",
      "Czech Republic 1996 has no local matches\n",
      "Egypt 1979 has no local matches\n",
      "ETHIOPIA     1993 has no local matches\n",
      "Gabon 2002 has no local matches\n",
      "Equatorial Guinea 1994 has no local matches\n",
      "GUYANA       1982 has no local matches\n",
      "GUYANA       1987 has no local matches\n",
      "Iran 1992 has no local matches\n",
      "MADAGASCAR   1994 has no local matches\n",
      "Myanmar 2001 has no local matches\n",
      "NIGERIA      2009 has no local matches\n",
      "[6.0 7.0 8.0 9.0 10.0 11.0 Inf; 71.149 69.6122 71.2296 77.8672 92.0512 102.279 178.834; 74.4751 78.9699 70.5689 84.8901 103.261 112.509 160.28; 112.085 101.881 100.745 113.572 136.658 145.079 264.58; 75.8265 0.0 0.0 0.0 0.0 0.0 0.0; 0.0 0.0 0.0 0.0 0.0 0.0 0.0; 0.0 0.0 0.0 0.0 0.0 0.0 0.0]This function takes: matching variables, weights on these matches, outcomes to predict, and Pool DataFrame as arguments and returns two DataFrames: placebos that have matches and then their synthetic controls.\n"
     ]
    },
    {
     "name": "stderr",
     "output_type": "stream",
     "text": [
      "┌ Warning: indexing with colon as row will create a copy in the future use df[col_inds] to get the columns without copying\n",
      "│   caller = RunningPlacebos(::Array{Symbol,1}, ::Array{Float64,2}, ::Array{Float64,1}, ::Array{Symbol,1}, ::DataFrame) at RunningPlacebosFunction.jl:18\n",
      "└ @ Main C:\\Users\\kevin\\Desktop\\IMF\\AERInsights\\Code\\RunningPlacebosFunction.jl:18\n",
      "┌ Warning: indexing with colon as row will create a copy in the future use df[col_inds] to get the columns without copying\n",
      "│   caller = RunningPlacebos(::Array{Symbol,1}, ::Array{Float64,2}, ::Array{Float64,1}, ::Array{Symbol,1}, ::DataFrame) at RunningPlacebosFunction.jl:23\n",
      "└ @ Main C:\\Users\\kevin\\Desktop\\IMF\\AERInsights\\Code\\RunningPlacebosFunction.jl:23\n",
      "┌ Warning: indexing with colon as row will create a copy in the future use df[col_inds] to get the columns without copying\n",
      "│   caller = #GenSynthetics#445(::Float64, ::Array{Float64,1}, ::Array{Float64,2}, ::Function, ::DataFrame, ::DataFrame, ::Array{Symbol,1}, ::Array{Symbol,1}) at GenSynthetics_NLopt.jl:24\n",
      "└ @ Main C:\\Users\\kevin\\Desktop\\IMF\\AERInsights\\Code\\GenSynthetics_NLopt.jl:24\n",
      "┌ Warning: indexing with colon as row will create a copy in the future use df[col_inds] to get the columns without copying\n",
      "│   caller = #GenSynthetics#445(::Float64, ::Array{Float64,1}, ::Array{Float64,2}, ::Function, ::DataFrame, ::DataFrame, ::Array{Symbol,1}, ::Array{Symbol,1}) at GenSynthetics_NLopt.jl:25\n",
      "└ @ Main C:\\Users\\kevin\\Desktop\\IMF\\AERInsights\\Code\\GenSynthetics_NLopt.jl:25\n",
      "┌ Warning: indexing with colon as row will create a copy in the future use df[col_inds] to get the columns without copying\n",
      "│   caller = #GenSynthetics#445(::Float64, ::Array{Float64,1}, ::Array{Float64,2}, ::Function, ::DataFrame, ::DataFrame, ::Array{Symbol,1}, ::Array{Symbol,1}) at GenSynthetics_NLopt.jl:41\n",
      "└ @ Main C:\\Users\\kevin\\Desktop\\IMF\\AERInsights\\Code\\GenSynthetics_NLopt.jl:41\n",
      "┌ Warning: indexing with colon as row will create a copy in the future use df[col_inds] to get the columns without copying\n",
      "│   caller = #GenSynthetics#445(::Float64, ::Array{Float64,1}, ::Array{Float64,2}, ::Function, ::DataFrame, ::DataFrame, ::Array{Symbol,1}, ::Array{Symbol,1}) at GenSynthetics_NLopt.jl:70\n",
      "└ @ Main C:\\Users\\kevin\\Desktop\\IMF\\AERInsights\\Code\\GenSynthetics_NLopt.jl:70\n"
     ]
    },
    {
     "name": "stdout",
     "output_type": "stream",
     "text": [
      "ANGOLA       1996 has no local matches\n",
      "Albania 1990 has no local matches\n",
      "Albania 1994 has no local matches"
     ]
    },
    {
     "name": "stderr",
     "output_type": "stream",
     "text": [
      "┌ Warning: indexing with colon as row will create a copy in the future use df[col_inds] to get the columns without copying\n",
      "│   caller = #GenSynthetics#445(::Float64, ::Array{Float64,1}, ::Array{Float64,2}, ::Function, ::DataFrame, ::DataFrame, ::Array{Symbol,1}, ::Array{Symbol,1}) at GenSynthetics_NLopt.jl:99\n",
      "└ @ Main C:\\Users\\kevin\\Desktop\\IMF\\AERInsights\\Code\\GenSynthetics_NLopt.jl:99\n"
     ]
    },
    {
     "name": "stdout",
     "output_type": "stream",
     "text": [
      "\n",
      "BANGLADESH   1976 has no local matches\n",
      "Belarus 1999 has no local matches\n",
      "Chile 1976 has no local matches\n",
      "CAMEROON     1989 has no local matches\n",
      "CONGO, DEM. REP. 1994 has no local matches\n",
      "Czech Republic 1996 has no local matches\n",
      "Egypt 1979 has no local matches\n",
      "ETHIOPIA     1993 has no local matches\n",
      "Gabon 2002 has no local matches\n",
      "Equatorial Guinea 1994 has no local matches\n",
      "GUYANA       1982 has no local matches\n",
      "Iran 1992 has no local matches\n",
      "NIGERIA      2009 has no local matches\n",
      "[6.0 7.0 8.0 9.0 10.0 11.0 Inf; 71.149 69.6122 71.2296 77.8672 92.0512 102.279 178.834; 74.4751 78.9699 70.5689 84.8901 103.261 112.509 160.28; 112.085 101.881 100.745 113.572 136.658 145.079 264.58; 75.8265 81.7692 0.0 0.0 0.0 0.0 0.0; 0.0 0.0 0.0 0.0 0.0 0.0 0.0; 0.0 0.0 0.0 0.0 0.0 0.0 0.0]This function takes: matching variables, weights on these matches, outcomes to predict, and Pool DataFrame as arguments and returns two DataFrames: placebos that have matches and then their synthetic controls.\n"
     ]
    },
    {
     "name": "stderr",
     "output_type": "stream",
     "text": [
      "┌ Warning: indexing with colon as row will create a copy in the future use df[col_inds] to get the columns without copying\n",
      "│   caller = RunningPlacebos(::Array{Symbol,1}, ::Array{Float64,2}, ::Array{Float64,1}, ::Array{Symbol,1}, ::DataFrame) at RunningPlacebosFunction.jl:18\n",
      "└ @ Main C:\\Users\\kevin\\Desktop\\IMF\\AERInsights\\Code\\RunningPlacebosFunction.jl:18\n",
      "┌ Warning: indexing with colon as row will create a copy in the future use df[col_inds] to get the columns without copying\n",
      "│   caller = RunningPlacebos(::Array{Symbol,1}, ::Array{Float64,2}, ::Array{Float64,1}, ::Array{Symbol,1}, ::DataFrame) at RunningPlacebosFunction.jl:23\n",
      "└ @ Main C:\\Users\\kevin\\Desktop\\IMF\\AERInsights\\Code\\RunningPlacebosFunction.jl:23\n",
      "┌ Warning: indexing with colon as row will create a copy in the future use df[col_inds] to get the columns without copying\n",
      "│   caller = #GenSynthetics#464(::Float64, ::Array{Float64,1}, ::Array{Float64,2}, ::Function, ::DataFrame, ::DataFrame, ::Array{Symbol,1}, ::Array{Symbol,1}) at GenSynthetics_NLopt.jl:24\n",
      "└ @ Main C:\\Users\\kevin\\Desktop\\IMF\\AERInsights\\Code\\GenSynthetics_NLopt.jl:24\n",
      "┌ Warning: indexing with colon as row will create a copy in the future use df[col_inds] to get the columns without copying\n",
      "│   caller = #GenSynthetics#464(::Float64, ::Array{Float64,1}, ::Array{Float64,2}, ::Function, ::DataFrame, ::DataFrame, ::Array{Symbol,1}, ::Array{Symbol,1}) at GenSynthetics_NLopt.jl:25\n",
      "└ @ Main C:\\Users\\kevin\\Desktop\\IMF\\AERInsights\\Code\\GenSynthetics_NLopt.jl:25\n",
      "┌ Warning: indexing with colon as row will create a copy in the future use df[col_inds] to get the columns without copying\n",
      "│   caller = #GenSynthetics#464(::Float64, ::Array{Float64,1}, ::Array{Float64,2}, ::Function, ::DataFrame, ::DataFrame, ::Array{Symbol,1}, ::Array{Symbol,1}) at GenSynthetics_NLopt.jl:41\n",
      "└ @ Main C:\\Users\\kevin\\Desktop\\IMF\\AERInsights\\Code\\GenSynthetics_NLopt.jl:41\n",
      "┌ Warning: indexing with colon as row will create a copy in the future use df[col_inds] to get the columns without copying\n",
      "│   caller = #GenSynthetics#464(::Float64, ::Array{Float64,1}, ::Array{Float64,2}, ::Function, ::DataFrame, ::DataFrame, ::Array{Symbol,1}, ::Array{Symbol,1}) at GenSynthetics_NLopt.jl:70\n",
      "└ @ Main C:\\Users\\kevin\\Desktop\\IMF\\AERInsights\\Code\\GenSynthetics_NLopt.jl:70\n"
     ]
    },
    {
     "name": "stdout",
     "output_type": "stream",
     "text": [
      "ANGOLA       1996 has no local matches\n",
      "Albania 1990 has no local matches\n",
      "Albania 1994 has no local matches\n"
     ]
    },
    {
     "name": "stderr",
     "output_type": "stream",
     "text": [
      "┌ Warning: indexing with colon as row will create a copy in the future use df[col_inds] to get the columns without copying\n",
      "│   caller = #GenSynthetics#464(::Float64, ::Array{Float64,1}, ::Array{Float64,2}, ::Function, ::DataFrame, ::DataFrame, ::Array{Symbol,1}, ::Array{Symbol,1}) at GenSynthetics_NLopt.jl:99\n",
      "└ @ Main C:\\Users\\kevin\\Desktop\\IMF\\AERInsights\\Code\\GenSynthetics_NLopt.jl:99\n"
     ]
    },
    {
     "name": "stdout",
     "output_type": "stream",
     "text": [
      "BANGLADESH   1976 has no local matches\n",
      "Belarus 1999 has no local matches\n",
      "Chile 1976 has no local matches\n",
      "CAMEROON     1989 has no local matches\n",
      "CONGO, DEM. REP. 1994 has no local matches\n",
      "Czech Republic 1996 has no local matches\n",
      "ETHIOPIA     1993 has no local matches\n",
      "Gabon 2002 has no local matches\n",
      "Equatorial Guinea 1994 has no local matches\n",
      "GUYANA       1982 has no local matches\n",
      "Iran 1992 has no local matches\n",
      "NIGERIA      2009 has no local matches\n",
      "[6.0 7.0 8.0 9.0 10.0 11.0 Inf; 71.149 69.6122 71.2296 77.8672 92.0512 102.279 178.834; 74.4751 78.9699 70.5689 84.8901 103.261 112.509 160.28; 112.085 101.881 100.745 113.572 136.658 145.079 264.58; 75.8265 81.7692 75.7806 0.0 0.0 0.0 0.0; 0.0 0.0 0.0 0.0 0.0 0.0 0.0; 0.0 0.0 0.0 0.0 0.0 0.0 0.0]This function takes: matching variables, weights on these matches, outcomes to predict, and Pool DataFrame as arguments and returns two DataFrames: placebos that have matches and then their synthetic controls.\n"
     ]
    },
    {
     "name": "stderr",
     "output_type": "stream",
     "text": [
      "┌ Warning: indexing with colon as row will create a copy in the future use df[col_inds] to get the columns without copying\n",
      "│   caller = RunningPlacebos(::Array{Symbol,1}, ::Array{Float64,2}, ::Array{Float64,1}, ::Array{Symbol,1}, ::DataFrame) at RunningPlacebosFunction.jl:18\n",
      "└ @ Main C:\\Users\\kevin\\Desktop\\IMF\\AERInsights\\Code\\RunningPlacebosFunction.jl:18\n",
      "┌ Warning: indexing with colon as row will create a copy in the future use df[col_inds] to get the columns without copying\n",
      "│   caller = RunningPlacebos(::Array{Symbol,1}, ::Array{Float64,2}, ::Array{Float64,1}, ::Array{Symbol,1}, ::DataFrame) at RunningPlacebosFunction.jl:23\n",
      "└ @ Main C:\\Users\\kevin\\Desktop\\IMF\\AERInsights\\Code\\RunningPlacebosFunction.jl:23\n",
      "┌ Warning: indexing with colon as row will create a copy in the future use df[col_inds] to get the columns without copying\n",
      "│   caller = #GenSynthetics#483(::Float64, ::Array{Float64,1}, ::Array{Float64,2}, ::Function, ::DataFrame, ::DataFrame, ::Array{Symbol,1}, ::Array{Symbol,1}) at GenSynthetics_NLopt.jl:24\n",
      "└ @ Main C:\\Users\\kevin\\Desktop\\IMF\\AERInsights\\Code\\GenSynthetics_NLopt.jl:24\n",
      "┌ Warning: indexing with colon as row will create a copy in the future use df[col_inds] to get the columns without copying\n",
      "│   caller = #GenSynthetics#483(::Float64, ::Array{Float64,1}, ::Array{Float64,2}, ::Function, ::DataFrame, ::DataFrame, ::Array{Symbol,1}, ::Array{Symbol,1}) at GenSynthetics_NLopt.jl:25\n",
      "└ @ Main C:\\Users\\kevin\\Desktop\\IMF\\AERInsights\\Code\\GenSynthetics_NLopt.jl:25\n",
      "┌ Warning: indexing with colon as row will create a copy in the future use df[col_inds] to get the columns without copying\n",
      "│   caller = #GenSynthetics#483(::Float64, ::Array{Float64,1}, ::Array{Float64,2}, ::Function, ::DataFrame, ::DataFrame, ::Array{Symbol,1}, ::Array{Symbol,1}) at GenSynthetics_NLopt.jl:41\n",
      "└ @ Main C:\\Users\\kevin\\Desktop\\IMF\\AERInsights\\Code\\GenSynthetics_NLopt.jl:41\n",
      "┌ Warning: indexing with colon as row will create a copy in the future use df[col_inds] to get the columns without copying\n",
      "│   caller = #GenSynthetics#483(::Float64, ::Array{Float64,1}, ::Array{Float64,2}, ::Function, ::DataFrame, ::DataFrame, ::Array{Symbol,1}, ::Array{Symbol,1}) at GenSynthetics_NLopt.jl:70\n",
      "└ @ Main C:\\Users\\kevin\\Desktop\\IMF\\AERInsights\\Code\\GenSynthetics_NLopt.jl:70\n"
     ]
    },
    {
     "name": "stdout",
     "output_type": "stream",
     "text": [
      "ANGOLA       1996 has no local matches\n",
      "Albania 1994 has no local matches\n"
     ]
    },
    {
     "name": "stderr",
     "output_type": "stream",
     "text": [
      "┌ Warning: indexing with colon as row will create a copy in the future use df[col_inds] to get the columns without copying\n",
      "│   caller = #GenSynthetics#483(::Float64, ::Array{Float64,1}, ::Array{Float64,2}, ::Function, ::DataFrame, ::DataFrame, ::Array{Symbol,1}, ::Array{Symbol,1}) at GenSynthetics_NLopt.jl:99\n",
      "└ @ Main C:\\Users\\kevin\\Desktop\\IMF\\AERInsights\\Code\\GenSynthetics_NLopt.jl:99\n"
     ]
    },
    {
     "name": "stdout",
     "output_type": "stream",
     "text": [
      "Belarus 1999 has no local matches\n",
      "Chile 1976 has no local matches\n",
      "CAMEROON     1989 has no local matches\n",
      "CONGO, DEM. REP. 1994 has no local matches\n",
      "Czech Republic 1996 has no local matches\n",
      "Gabon 2002 has no local matches\n",
      "Equatorial Guinea 1994 has no local matches\n",
      "Iran 1992 has no local matches\n",
      "NIGERIA      2009 has no local matches\n",
      "[6.0 7.0 8.0 9.0 10.0 11.0 Inf; 71.149 69.6122 71.2296 77.8672 92.0512 102.279 178.834; 74.4751 78.9699 70.5689 84.8901 103.261 112.509 160.28; 112.085 101.881 100.745 113.572 136.658 145.079 264.58; 75.8265 81.7692 75.7806 87.451 0.0 0.0 0.0; 0.0 0.0 0.0 0.0 0.0 0.0 0.0; 0.0 0.0 0.0 0.0 0.0 0.0 0.0]This function takes: matching variables, weights on these matches, outcomes to predict, and Pool DataFrame as arguments and returns two DataFrames: placebos that have matches and then their synthetic controls.\n"
     ]
    },
    {
     "name": "stderr",
     "output_type": "stream",
     "text": [
      "┌ Warning: indexing with colon as row will create a copy in the future use df[col_inds] to get the columns without copying\n",
      "│   caller = RunningPlacebos(::Array{Symbol,1}, ::Array{Float64,2}, ::Array{Float64,1}, ::Array{Symbol,1}, ::DataFrame) at RunningPlacebosFunction.jl:18\n",
      "└ @ Main C:\\Users\\kevin\\Desktop\\IMF\\AERInsights\\Code\\RunningPlacebosFunction.jl:18\n",
      "┌ Warning: indexing with colon as row will create a copy in the future use df[col_inds] to get the columns without copying\n",
      "│   caller = RunningPlacebos(::Array{Symbol,1}, ::Array{Float64,2}, ::Array{Float64,1}, ::Array{Symbol,1}, ::DataFrame) at RunningPlacebosFunction.jl:23\n",
      "└ @ Main C:\\Users\\kevin\\Desktop\\IMF\\AERInsights\\Code\\RunningPlacebosFunction.jl:23\n",
      "┌ Warning: indexing with colon as row will create a copy in the future use df[col_inds] to get the columns without copying\n",
      "│   caller = #GenSynthetics#502(::Float64, ::Array{Float64,1}, ::Array{Float64,2}, ::Function, ::DataFrame, ::DataFrame, ::Array{Symbol,1}, ::Array{Symbol,1}) at GenSynthetics_NLopt.jl:24\n",
      "└ @ Main C:\\Users\\kevin\\Desktop\\IMF\\AERInsights\\Code\\GenSynthetics_NLopt.jl:24\n",
      "┌ Warning: indexing with colon as row will create a copy in the future use df[col_inds] to get the columns without copying\n",
      "│   caller = #GenSynthetics#502(::Float64, ::Array{Float64,1}, ::Array{Float64,2}, ::Function, ::DataFrame, ::DataFrame, ::Array{Symbol,1}, ::Array{Symbol,1}) at GenSynthetics_NLopt.jl:25\n",
      "└ @ Main C:\\Users\\kevin\\Desktop\\IMF\\AERInsights\\Code\\GenSynthetics_NLopt.jl:25\n",
      "┌ Warning: indexing with colon as row will create a copy in the future use df[col_inds] to get the columns without copying\n",
      "│   caller = #GenSynthetics#502(::Float64, ::Array{Float64,1}, ::Array{Float64,2}, ::Function, ::DataFrame, ::DataFrame, ::Array{Symbol,1}, ::Array{Symbol,1}) at GenSynthetics_NLopt.jl:41\n",
      "└ @ Main C:\\Users\\kevin\\Desktop\\IMF\\AERInsights\\Code\\GenSynthetics_NLopt.jl:41\n",
      "┌ Warning: indexing with colon as row will create a copy in the future use df[col_inds] to get the columns without copying\n",
      "│   caller = #GenSynthetics#502(::Float64, ::Array{Float64,1}, ::Array{Float64,2}, ::Function, ::DataFrame, ::DataFrame, ::Array{Symbol,1}, ::Array{Symbol,1}) at GenSynthetics_NLopt.jl:70\n",
      "└ @ Main C:\\Users\\kevin\\Desktop\\IMF\\AERInsights\\Code\\GenSynthetics_NLopt.jl:70\n"
     ]
    },
    {
     "name": "stdout",
     "output_type": "stream",
     "text": [
      "ANGOLA       1996 has no local matches\n",
      "Albania 1994 has no local matches\n"
     ]
    },
    {
     "name": "stderr",
     "output_type": "stream",
     "text": [
      "┌ Warning: indexing with colon as row will create a copy in the future use df[col_inds] to get the columns without copying\n",
      "│   caller = #GenSynthetics#502(::Float64, ::Array{Float64,1}, ::Array{Float64,2}, ::Function, ::DataFrame, ::DataFrame, ::Array{Symbol,1}, ::Array{Symbol,1}) at GenSynthetics_NLopt.jl:99\n",
      "└ @ Main C:\\Users\\kevin\\Desktop\\IMF\\AERInsights\\Code\\GenSynthetics_NLopt.jl:99\n"
     ]
    },
    {
     "name": "stdout",
     "output_type": "stream",
     "text": [
      "Chile 1976 has no local matches\n",
      "CAMEROON     1989 has no local matches\n",
      "CONGO, DEM. REP. 1994 has no local matches\n",
      "Czech Republic 1996 has no local matches\n",
      "Equatorial Guinea 1994 has no local matches\n",
      "Iran 1992 has no local matches\n",
      "NIGERIA      2009 has no local matches\n",
      "[6.0 7.0 8.0 9.0 10.0 11.0 Inf; 71.149 69.6122 71.2296 77.8672 92.0512 102.279 178.834; 74.4751 78.9699 70.5689 84.8901 103.261 112.509 160.28; 112.085 101.881 100.745 113.572 136.658 145.079 264.58; 75.8265 81.7692 75.7806 87.451 126.9 0.0 0.0; 0.0 0.0 0.0 0.0 0.0 0.0 0.0; 0.0 0.0 0.0 0.0 0.0 0.0 0.0]This function takes: matching variables, weights on these matches, outcomes to predict, and Pool DataFrame as arguments and returns two DataFrames: placebos that have matches and then their synthetic controls.\n"
     ]
    },
    {
     "name": "stderr",
     "output_type": "stream",
     "text": [
      "┌ Warning: indexing with colon as row will create a copy in the future use df[col_inds] to get the columns without copying\n",
      "│   caller = RunningPlacebos(::Array{Symbol,1}, ::Array{Float64,2}, ::Array{Float64,1}, ::Array{Symbol,1}, ::DataFrame) at RunningPlacebosFunction.jl:18\n",
      "└ @ Main C:\\Users\\kevin\\Desktop\\IMF\\AERInsights\\Code\\RunningPlacebosFunction.jl:18\n",
      "┌ Warning: indexing with colon as row will create a copy in the future use df[col_inds] to get the columns without copying\n",
      "│   caller = RunningPlacebos(::Array{Symbol,1}, ::Array{Float64,2}, ::Array{Float64,1}, ::Array{Symbol,1}, ::DataFrame) at RunningPlacebosFunction.jl:23\n",
      "└ @ Main C:\\Users\\kevin\\Desktop\\IMF\\AERInsights\\Code\\RunningPlacebosFunction.jl:23\n",
      "┌ Warning: indexing with colon as row will create a copy in the future use df[col_inds] to get the columns without copying\n",
      "│   caller = #GenSynthetics#521(::Float64, ::Array{Float64,1}, ::Array{Float64,2}, ::Function, ::DataFrame, ::DataFrame, ::Array{Symbol,1}, ::Array{Symbol,1}) at GenSynthetics_NLopt.jl:24\n",
      "└ @ Main C:\\Users\\kevin\\Desktop\\IMF\\AERInsights\\Code\\GenSynthetics_NLopt.jl:24\n",
      "┌ Warning: indexing with colon as row will create a copy in the future use df[col_inds] to get the columns without copying\n",
      "│   caller = #GenSynthetics#521(::Float64, ::Array{Float64,1}, ::Array{Float64,2}, ::Function, ::DataFrame, ::DataFrame, ::Array{Symbol,1}, ::Array{Symbol,1}) at GenSynthetics_NLopt.jl:25\n",
      "└ @ Main C:\\Users\\kevin\\Desktop\\IMF\\AERInsights\\Code\\GenSynthetics_NLopt.jl:25\n",
      "┌ Warning: indexing with colon as row will create a copy in the future use df[col_inds] to get the columns without copying\n",
      "│   caller = #GenSynthetics#521(::Float64, ::Array{Float64,1}, ::Array{Float64,2}, ::Function, ::DataFrame, ::DataFrame, ::Array{Symbol,1}, ::Array{Symbol,1}) at GenSynthetics_NLopt.jl:41\n",
      "└ @ Main C:\\Users\\kevin\\Desktop\\IMF\\AERInsights\\Code\\GenSynthetics_NLopt.jl:41\n",
      "┌ Warning: indexing with colon as row will create a copy in the future use df[col_inds] to get the columns without copying\n",
      "│   caller = #GenSynthetics#521(::Float64, ::Array{Float64,1}, ::Array{Float64,2}, ::Function, ::DataFrame, ::DataFrame, ::Array{Symbol,1}, ::Array{Symbol,1}) at GenSynthetics_NLopt.jl:70\n",
      "└ @ Main C:\\Users\\kevin\\Desktop\\IMF\\AERInsights\\Code\\GenSynthetics_NLopt.jl:70\n"
     ]
    },
    {
     "name": "stdout",
     "output_type": "stream",
     "text": [
      "ANGOLA       1996 has no local matches\n",
      "Albania 1994 has no local matches\n"
     ]
    },
    {
     "name": "stderr",
     "output_type": "stream",
     "text": [
      "┌ Warning: indexing with colon as row will create a copy in the future use df[col_inds] to get the columns without copying\n",
      "│   caller = #GenSynthetics#521(::Float64, ::Array{Float64,1}, ::Array{Float64,2}, ::Function, ::DataFrame, ::DataFrame, ::Array{Symbol,1}, ::Array{Symbol,1}) at GenSynthetics_NLopt.jl:99\n",
      "└ @ Main C:\\Users\\kevin\\Desktop\\IMF\\AERInsights\\Code\\GenSynthetics_NLopt.jl:99\n"
     ]
    },
    {
     "name": "stdout",
     "output_type": "stream",
     "text": [
      "CONGO, DEM. REP. 1994 has no local matches\n",
      "Equatorial Guinea 1994 has no local matches\n",
      "Iran 1992 has no local matches\n",
      "NIGERIA      2009 has no local matches\n",
      "[6.0 7.0 8.0 9.0 10.0 11.0 Inf; 71.149 69.6122 71.2296 77.8672 92.0512 102.279 178.834; 74.4751 78.9699 70.5689 84.8901 103.261 112.509 160.28; 112.085 101.881 100.745 113.572 136.658 145.079 264.58; 75.8265 81.7692 75.7806 87.451 126.9 137.338 0.0; 0.0 0.0 0.0 0.0 0.0 0.0 0.0; 0.0 0.0 0.0 0.0 0.0 0.0 0.0]This function takes: matching variables, weights on these matches, outcomes to predict, and Pool DataFrame as arguments and returns two DataFrames: placebos that have matches and then their synthetic controls.\n"
     ]
    },
    {
     "name": "stderr",
     "output_type": "stream",
     "text": [
      "┌ Warning: indexing with colon as row will create a copy in the future use df[col_inds] to get the columns without copying\n",
      "│   caller = RunningPlacebos(::Array{Symbol,1}, ::Array{Float64,2}, ::Array{Float64,1}, ::Array{Symbol,1}, ::DataFrame) at RunningPlacebosFunction.jl:18\n",
      "└ @ Main C:\\Users\\kevin\\Desktop\\IMF\\AERInsights\\Code\\RunningPlacebosFunction.jl:18\n",
      "┌ Warning: indexing with colon as row will create a copy in the future use df[col_inds] to get the columns without copying\n",
      "│   caller = RunningPlacebos(::Array{Symbol,1}, ::Array{Float64,2}, ::Array{Float64,1}, ::Array{Symbol,1}, ::DataFrame) at RunningPlacebosFunction.jl:23\n",
      "└ @ Main C:\\Users\\kevin\\Desktop\\IMF\\AERInsights\\Code\\RunningPlacebosFunction.jl:23\n",
      "┌ Warning: indexing with colon as row will create a copy in the future use df[col_inds] to get the columns without copying\n",
      "│   caller = #GenSynthetics#540(::Float64, ::Array{Float64,1}, ::Array{Float64,2}, ::Function, ::DataFrame, ::DataFrame, ::Array{Symbol,1}, ::Array{Symbol,1}) at GenSynthetics_NLopt.jl:24\n",
      "└ @ Main C:\\Users\\kevin\\Desktop\\IMF\\AERInsights\\Code\\GenSynthetics_NLopt.jl:24\n",
      "┌ Warning: indexing with colon as row will create a copy in the future use df[col_inds] to get the columns without copying\n",
      "│   caller = #GenSynthetics#540(::Float64, ::Array{Float64,1}, ::Array{Float64,2}, ::Function, ::DataFrame, ::DataFrame, ::Array{Symbol,1}, ::Array{Symbol,1}) at GenSynthetics_NLopt.jl:25\n",
      "└ @ Main C:\\Users\\kevin\\Desktop\\IMF\\AERInsights\\Code\\GenSynthetics_NLopt.jl:25\n",
      "┌ Warning: indexing with colon as row will create a copy in the future use df[col_inds] to get the columns without copying\n",
      "│   caller = #GenSynthetics#540(::Float64, ::Array{Float64,1}, ::Array{Float64,2}, ::Function, ::DataFrame, ::DataFrame, ::Array{Symbol,1}, ::Array{Symbol,1}) at GenSynthetics_NLopt.jl:41\n",
      "└ @ Main C:\\Users\\kevin\\Desktop\\IMF\\AERInsights\\Code\\GenSynthetics_NLopt.jl:41\n",
      "┌ Warning: indexing with colon as row will create a copy in the future use df[col_inds] to get the columns without copying\n",
      "│   caller = #GenSynthetics#540(::Float64, ::Array{Float64,1}, ::Array{Float64,2}, ::Function, ::DataFrame, ::DataFrame, ::Array{Symbol,1}, ::Array{Symbol,1}) at GenSynthetics_NLopt.jl:70\n",
      "└ @ Main C:\\Users\\kevin\\Desktop\\IMF\\AERInsights\\Code\\GenSynthetics_NLopt.jl:70\n",
      "┌ Warning: indexing with colon as row will create a copy in the future use df[col_inds] to get the columns without copying\n",
      "│   caller = #GenSynthetics#540(::Float64, ::Array{Float64,1}, ::Array{Float64,2}, ::Function, ::DataFrame, ::DataFrame, ::Array{Symbol,1}, ::Array{Symbol,1}) at GenSynthetics_NLopt.jl:99\n",
      "└ @ Main C:\\Users\\kevin\\Desktop\\IMF\\AERInsights\\Code\\GenSynthetics_NLopt.jl:99\n"
     ]
    },
    {
     "name": "stdout",
     "output_type": "stream",
     "text": [
      "[6.0 7.0 8.0 9.0 10.0 11.0 Inf; 71.149 69.6122 71.2296 77.8672 92.0512 102.279 178.834; 74.4751 78.9699 70.5689 84.8901 103.261 112.509 160.28; 112.085 101.881 100.745 113.572 136.658 145.079 264.58; 75.8265 81.7692 75.7806 87.451 126.9 137.338 189.139; 0.0 0.0 0.0 0.0 0.0 0.0 0.0; 0.0 0.0 0.0 0.0 0.0 0.0 0.0]This function takes: matching variables, weights on these matches, outcomes to predict, and Pool DataFrame as arguments and returns two DataFrames: placebos that have matches and then their synthetic controls.\n"
     ]
    },
    {
     "name": "stderr",
     "output_type": "stream",
     "text": [
      "┌ Warning: indexing with colon as row will create a copy in the future use df[col_inds] to get the columns without copying\n",
      "│   caller = RunningPlacebos(::Array{Symbol,1}, ::Array{Float64,2}, ::Array{Float64,1}, ::Array{Symbol,1}, ::DataFrame) at RunningPlacebosFunction.jl:18\n",
      "└ @ Main C:\\Users\\kevin\\Desktop\\IMF\\AERInsights\\Code\\RunningPlacebosFunction.jl:18\n",
      "┌ Warning: indexing with colon as row will create a copy in the future use df[col_inds] to get the columns without copying\n",
      "│   caller = RunningPlacebos(::Array{Symbol,1}, ::Array{Float64,2}, ::Array{Float64,1}, ::Array{Symbol,1}, ::DataFrame) at RunningPlacebosFunction.jl:23\n",
      "└ @ Main C:\\Users\\kevin\\Desktop\\IMF\\AERInsights\\Code\\RunningPlacebosFunction.jl:23\n"
     ]
    },
    {
     "name": "stdout",
     "output_type": "stream",
     "text": [
      "ANGOLA       1996 has no local matches\n",
      "Albania 1990 has no local matches\n",
      "Albania 1994 has no local matches\n"
     ]
    },
    {
     "name": "stderr",
     "output_type": "stream",
     "text": [
      "┌ Warning: indexing with colon as row will create a copy in the future use df[col_inds] to get the columns without copying\n",
      "│   caller = #GenSynthetics#565(::Float64, ::Array{Float64,1}, ::Array{Float64,2}, ::Function, ::DataFrame, ::DataFrame, ::Array{Symbol,1}, ::Array{Symbol,1}) at GenSynthetics_NLopt.jl:24\n",
      "└ @ Main C:\\Users\\kevin\\Desktop\\IMF\\AERInsights\\Code\\GenSynthetics_NLopt.jl:24\n",
      "┌ Warning: indexing with colon as row will create a copy in the future use df[col_inds] to get the columns without copying\n",
      "│   caller = #GenSynthetics#565(::Float64, ::Array{Float64,1}, ::Array{Float64,2}, ::Function, ::DataFrame, ::DataFrame, ::Array{Symbol,1}, ::Array{Symbol,1}) at GenSynthetics_NLopt.jl:25\n",
      "└ @ Main C:\\Users\\kevin\\Desktop\\IMF\\AERInsights\\Code\\GenSynthetics_NLopt.jl:25\n",
      "┌ Warning: indexing with colon as row will create a copy in the future use df[col_inds] to get the columns without copying\n",
      "│   caller = #GenSynthetics#565(::Float64, ::Array{Float64,1}, ::Array{Float64,2}, ::Function, ::DataFrame, ::DataFrame, ::Array{Symbol,1}, ::Array{Symbol,1}) at GenSynthetics_NLopt.jl:41\n",
      "└ @ Main C:\\Users\\kevin\\Desktop\\IMF\\AERInsights\\Code\\GenSynthetics_NLopt.jl:41\n",
      "┌ Warning: indexing with colon as row will create a copy in the future use df[col_inds] to get the columns without copying\n",
      "│   caller = #GenSynthetics#565(::Float64, ::Array{Float64,1}, ::Array{Float64,2}, ::Function, ::DataFrame, ::DataFrame, ::Array{Symbol,1}, ::Array{Symbol,1}) at GenSynthetics_NLopt.jl:70\n",
      "└ @ Main C:\\Users\\kevin\\Desktop\\IMF\\AERInsights\\Code\\GenSynthetics_NLopt.jl:70\n",
      "┌ Warning: indexing with colon as row will create a copy in the future use df[col_inds] to get the columns without copying\n",
      "│   caller = #GenSynthetics#565(::Float64, ::Array{Float64,1}, ::Array{Float64,2}, ::Function, ::DataFrame, ::DataFrame, ::Array{Symbol,1}, ::Array{Symbol,1}) at GenSynthetics_NLopt.jl:99\n",
      "└ @ Main C:\\Users\\kevin\\Desktop\\IMF\\AERInsights\\Code\\GenSynthetics_NLopt.jl:99\n"
     ]
    },
    {
     "name": "stdout",
     "output_type": "stream",
     "text": [
      "BANGLADESH   1976 has no local matches\n",
      "Belarus 1999 has no local matches\n",
      "Botswana 1984 has no local matches\n",
      "Chile 1976 has no local matches\n",
      "CAMEROON     1989 has no local matches\n",
      "CONGO, DEM. REP. 1994 has no local matches\n",
      "Czech Republic 1996 has no local matches\n",
      "Egypt 1979 has no local matches\n",
      "ETHIOPIA     1993 has no local matches\n",
      "Gabon 2002 has no local matches\n",
      "Equatorial Guinea 1994 has no local matches\n",
      "GUYANA       1982 has no local matches\n",
      "GUYANA       1987 has no local matches\n",
      "Iran 1992 has no local matches\n",
      "[6.0 7.0 8.0 9.0 10.0 11.0 Inf; 71.149 69.6122 71.2296 77.8672 92.0512 102.279 178.834; 74.4751 78.9699 70.5689 84.8901 103.261 112.509 160.28; 112.085 101.881 100.745 113.572 136.658 145.079 264.58; 75.8265 81.7692 75.7806 87.451 126.9 137.338 189.139; 111.562 0.0 0.0 0.0 0.0 0.0 0.0; 0.0 0.0 0.0 0.0 0.0 0.0 0.0]This function takes: matching variables, weights on these matches, outcomes to predict, and Pool DataFrame as arguments and returns two DataFrames: placebos that have matches and then their synthetic controls.\n"
     ]
    },
    {
     "name": "stderr",
     "output_type": "stream",
     "text": [
      "┌ Warning: indexing with colon as row will create a copy in the future use df[col_inds] to get the columns without copying\n",
      "│   caller = RunningPlacebos(::Array{Symbol,1}, ::Array{Float64,2}, ::Array{Float64,1}, ::Array{Symbol,1}, ::DataFrame) at RunningPlacebosFunction.jl:18\n",
      "└ @ Main C:\\Users\\kevin\\Desktop\\IMF\\AERInsights\\Code\\RunningPlacebosFunction.jl:18\n",
      "┌ Warning: indexing with colon as row will create a copy in the future use df[col_inds] to get the columns without copying\n",
      "│   caller = RunningPlacebos(::Array{Symbol,1}, ::Array{Float64,2}, ::Array{Float64,1}, ::Array{Symbol,1}, ::DataFrame) at RunningPlacebosFunction.jl:23\n",
      "└ @ Main C:\\Users\\kevin\\Desktop\\IMF\\AERInsights\\Code\\RunningPlacebosFunction.jl:23\n",
      "┌ Warning: indexing with colon as row will create a copy in the future use df[col_inds] to get the columns without copying\n",
      "│   caller = #GenSynthetics#584(::Float64, ::Array{Float64,1}, ::Array{Float64,2}, ::Function, ::DataFrame, ::DataFrame, ::Array{Symbol,1}, ::Array{Symbol,1}) at GenSynthetics_NLopt.jl:24\n",
      "└ @ Main C:\\Users\\kevin\\Desktop\\IMF\\AERInsights\\Code\\GenSynthetics_NLopt.jl:24\n",
      "┌ Warning: indexing with colon as row will create a copy in the future use df[col_inds] to get the columns without copying\n",
      "│   caller = #GenSynthetics#584(::Float64, ::Array{Float64,1}, ::Array{Float64,2}, ::Function, ::DataFrame, ::DataFrame, ::Array{Symbol,1}, ::Array{Symbol,1}) at GenSynthetics_NLopt.jl:25\n",
      "└ @ Main C:\\Users\\kevin\\Desktop\\IMF\\AERInsights\\Code\\GenSynthetics_NLopt.jl:25\n",
      "┌ Warning: indexing with colon as row will create a copy in the future use df[col_inds] to get the columns without copying\n",
      "│   caller = #GenSynthetics#584(::Float64, ::Array{Float64,1}, ::Array{Float64,2}, ::Function, ::DataFrame, ::DataFrame, ::Array{Symbol,1}, ::Array{Symbol,1}) at GenSynthetics_NLopt.jl:41\n",
      "└ @ Main C:\\Users\\kevin\\Desktop\\IMF\\AERInsights\\Code\\GenSynthetics_NLopt.jl:41\n",
      "┌ Warning: indexing with colon as row will create a copy in the future use df[col_inds] to get the columns without copying\n",
      "│   caller = #GenSynthetics#584(::Float64, ::Array{Float64,1}, ::Array{Float64,2}, ::Function, ::DataFrame, ::DataFrame, ::Array{Symbol,1}, ::Array{Symbol,1}) at GenSynthetics_NLopt.jl:70\n",
      "└ @ Main C:\\Users\\kevin\\Desktop\\IMF\\AERInsights\\Code\\GenSynthetics_NLopt.jl:70\n"
     ]
    },
    {
     "name": "stdout",
     "output_type": "stream",
     "text": [
      "ANGOLA       1996 has no local matches\n",
      "Albania 1990 has no local matches\n",
      "Albania 1994 has no local matches\n"
     ]
    },
    {
     "name": "stderr",
     "output_type": "stream",
     "text": [
      "┌ Warning: indexing with colon as row will create a copy in the future use df[col_inds] to get the columns without copying\n",
      "│   caller = #GenSynthetics#584(::Float64, ::Array{Float64,1}, ::Array{Float64,2}, ::Function, ::DataFrame, ::DataFrame, ::Array{Symbol,1}, ::Array{Symbol,1}) at GenSynthetics_NLopt.jl:99\n",
      "└ @ Main C:\\Users\\kevin\\Desktop\\IMF\\AERInsights\\Code\\GenSynthetics_NLopt.jl:99\n"
     ]
    },
    {
     "name": "stdout",
     "output_type": "stream",
     "text": [
      "BANGLADESH   1976 has no local matches\n",
      "Belarus 1999 has no local matches\n",
      "Chile 1976 has no local matches\n",
      "CAMEROON     1989 has no local matches\n",
      "CONGO, DEM. REP. 1994 has no local matches\n",
      "Czech Republic 1996 has no local matches\n",
      "Egypt 1979 has no local matches\n",
      "ETHIOPIA     1993 has no local matches\n",
      "Gabon 2002 has no local matches\n",
      "Equatorial Guinea 1994 has no local matches\n",
      "GUYANA       1982 has no local matches\n",
      "Iran 1992 has no local matches\n",
      "[6.0 7.0 8.0 9.0 10.0 11.0 Inf; 71.149 69.6122 71.2296 77.8672 92.0512 102.279 178.834; 74.4751 78.9699 70.5689 84.8901 103.261 112.509 160.28; 112.085 101.881 100.745 113.572 136.658 145.079 264.58; 75.8265 81.7692 75.7806 87.451 126.9 137.338 189.139; 111.562 97.0666 0.0 0.0 0.0 0.0 0.0; 0.0 0.0 0.0 0.0 0.0 0.0 0.0]This function takes: matching variables, weights on these matches, outcomes to predict, and Pool DataFrame as arguments and returns two DataFrames: placebos that have matches and then their synthetic controls.\n"
     ]
    },
    {
     "name": "stderr",
     "output_type": "stream",
     "text": [
      "┌ Warning: indexing with colon as row will create a copy in the future use df[col_inds] to get the columns without copying\n",
      "│   caller = RunningPlacebos(::Array{Symbol,1}, ::Array{Float64,2}, ::Array{Float64,1}, ::Array{Symbol,1}, ::DataFrame) at RunningPlacebosFunction.jl:18\n",
      "└ @ Main C:\\Users\\kevin\\Desktop\\IMF\\AERInsights\\Code\\RunningPlacebosFunction.jl:18\n",
      "┌ Warning: indexing with colon as row will create a copy in the future use df[col_inds] to get the columns without copying\n",
      "│   caller = RunningPlacebos(::Array{Symbol,1}, ::Array{Float64,2}, ::Array{Float64,1}, ::Array{Symbol,1}, ::DataFrame) at RunningPlacebosFunction.jl:23\n",
      "└ @ Main C:\\Users\\kevin\\Desktop\\IMF\\AERInsights\\Code\\RunningPlacebosFunction.jl:23\n",
      "┌ Warning: indexing with colon as row will create a copy in the future use df[col_inds] to get the columns without copying\n",
      "│   caller = #GenSynthetics#603(::Float64, ::Array{Float64,1}, ::Array{Float64,2}, ::Function, ::DataFrame, ::DataFrame, ::Array{Symbol,1}, ::Array{Symbol,1}) at GenSynthetics_NLopt.jl:24\n",
      "└ @ Main C:\\Users\\kevin\\Desktop\\IMF\\AERInsights\\Code\\GenSynthetics_NLopt.jl:24\n",
      "┌ Warning: indexing with colon as row will create a copy in the future use df[col_inds] to get the columns without copying\n",
      "│   caller = #GenSynthetics#603(::Float64, ::Array{Float64,1}, ::Array{Float64,2}, ::Function, ::DataFrame, ::DataFrame, ::Array{Symbol,1}, ::Array{Symbol,1}) at GenSynthetics_NLopt.jl:25\n",
      "└ @ Main C:\\Users\\kevin\\Desktop\\IMF\\AERInsights\\Code\\GenSynthetics_NLopt.jl:25\n",
      "┌ Warning: indexing with colon as row will create a copy in the future use df[col_inds] to get the columns without copying\n",
      "│   caller = #GenSynthetics#603(::Float64, ::Array{Float64,1}, ::Array{Float64,2}, ::Function, ::DataFrame, ::DataFrame, ::Array{Symbol,1}, ::Array{Symbol,1}) at GenSynthetics_NLopt.jl:41\n",
      "└ @ Main C:\\Users\\kevin\\Desktop\\IMF\\AERInsights\\Code\\GenSynthetics_NLopt.jl:41\n",
      "┌ Warning: indexing with colon as row will create a copy in the future use df[col_inds] to get the columns without copying\n",
      "│   caller = #GenSynthetics#603(::Float64, ::Array{Float64,1}, ::Array{Float64,2}, ::Function, ::DataFrame, ::DataFrame, ::Array{Symbol,1}, ::Array{Symbol,1}) at GenSynthetics_NLopt.jl:70\n",
      "└ @ Main C:\\Users\\kevin\\Desktop\\IMF\\AERInsights\\Code\\GenSynthetics_NLopt.jl:70\n"
     ]
    },
    {
     "name": "stdout",
     "output_type": "stream",
     "text": [
      "ANGOLA       1996 has no local matches\n",
      "Albania 1990 has no local matches\n",
      "Albania 1994 has no local matches"
     ]
    },
    {
     "name": "stderr",
     "output_type": "stream",
     "text": [
      "┌ Warning: indexing with colon as row will create a copy in the future use df[col_inds] to get the columns without copying\n",
      "│   caller = #GenSynthetics#603(::Float64, ::Array{Float64,1}, ::Array{Float64,2}, ::Function, ::DataFrame, ::DataFrame, ::Array{Symbol,1}, ::Array{Symbol,1}) at GenSynthetics_NLopt.jl:99\n",
      "└ @ Main C:\\Users\\kevin\\Desktop\\IMF\\AERInsights\\Code\\GenSynthetics_NLopt.jl:99\n"
     ]
    },
    {
     "name": "stdout",
     "output_type": "stream",
     "text": [
      "\n",
      "BANGLADESH   1976 has no local matches\n",
      "Belarus 1999 has no local matches\n",
      "Chile 1976 has no local matches\n",
      "CAMEROON     1989 has no local matches\n",
      "CONGO, DEM. REP. 1994 has no local matches\n",
      "Czech Republic 1996 has no local matches\n",
      "ETHIOPIA     1993 has no local matches\n",
      "Gabon 2002 has no local matches\n",
      "Equatorial Guinea 1994 has no local matches\n",
      "GUYANA       1982 has no local matches\n",
      "Iran 1992 has no local matches\n",
      "[6.0 7.0 8.0 9.0 10.0 11.0 Inf; 71.149 69.6122 71.2296 77.8672 92.0512 102.279 178.834; 74.4751 78.9699 70.5689 84.8901 103.261 112.509 160.28; 112.085 101.881 100.745 113.572 136.658 145.079 264.58; 75.8265 81.7692 75.7806 87.451 126.9 137.338 189.139; 111.562 97.0666 93.3892 0.0 0.0 0.0 0.0; 0.0 0.0 0.0 0.0 0.0 0.0 0.0]This function takes: matching variables, weights on these matches, outcomes to predict, and Pool DataFrame as arguments and returns two DataFrames: placebos that have matches and then their synthetic controls.\n"
     ]
    },
    {
     "name": "stderr",
     "output_type": "stream",
     "text": [
      "┌ Warning: indexing with colon as row will create a copy in the future use df[col_inds] to get the columns without copying\n",
      "│   caller = RunningPlacebos(::Array{Symbol,1}, ::Array{Float64,2}, ::Array{Float64,1}, ::Array{Symbol,1}, ::DataFrame) at RunningPlacebosFunction.jl:18\n",
      "└ @ Main C:\\Users\\kevin\\Desktop\\IMF\\AERInsights\\Code\\RunningPlacebosFunction.jl:18\n",
      "┌ Warning: indexing with colon as row will create a copy in the future use df[col_inds] to get the columns without copying\n",
      "│   caller = RunningPlacebos(::Array{Symbol,1}, ::Array{Float64,2}, ::Array{Float64,1}, ::Array{Symbol,1}, ::DataFrame) at RunningPlacebosFunction.jl:23\n",
      "└ @ Main C:\\Users\\kevin\\Desktop\\IMF\\AERInsights\\Code\\RunningPlacebosFunction.jl:23\n",
      "┌ Warning: indexing with colon as row will create a copy in the future use df[col_inds] to get the columns without copying\n",
      "│   caller = #GenSynthetics#622(::Float64, ::Array{Float64,1}, ::Array{Float64,2}, ::Function, ::DataFrame, ::DataFrame, ::Array{Symbol,1}, ::Array{Symbol,1}) at GenSynthetics_NLopt.jl:24\n",
      "└ @ Main C:\\Users\\kevin\\Desktop\\IMF\\AERInsights\\Code\\GenSynthetics_NLopt.jl:24\n",
      "┌ Warning: indexing with colon as row will create a copy in the future use df[col_inds] to get the columns without copying\n",
      "│   caller = #GenSynthetics#622(::Float64, ::Array{Float64,1}, ::Array{Float64,2}, ::Function, ::DataFrame, ::DataFrame, ::Array{Symbol,1}, ::Array{Symbol,1}) at GenSynthetics_NLopt.jl:25\n",
      "└ @ Main C:\\Users\\kevin\\Desktop\\IMF\\AERInsights\\Code\\GenSynthetics_NLopt.jl:25\n",
      "┌ Warning: indexing with colon as row will create a copy in the future use df[col_inds] to get the columns without copying\n",
      "│   caller = #GenSynthetics#622(::Float64, ::Array{Float64,1}, ::Array{Float64,2}, ::Function, ::DataFrame, ::DataFrame, ::Array{Symbol,1}, ::Array{Symbol,1}) at GenSynthetics_NLopt.jl:41\n",
      "└ @ Main C:\\Users\\kevin\\Desktop\\IMF\\AERInsights\\Code\\GenSynthetics_NLopt.jl:41\n",
      "┌ Warning: indexing with colon as row will create a copy in the future use df[col_inds] to get the columns without copying\n",
      "│   caller = #GenSynthetics#622(::Float64, ::Array{Float64,1}, ::Array{Float64,2}, ::Function, ::DataFrame, ::DataFrame, ::Array{Symbol,1}, ::Array{Symbol,1}) at GenSynthetics_NLopt.jl:70\n",
      "└ @ Main C:\\Users\\kevin\\Desktop\\IMF\\AERInsights\\Code\\GenSynthetics_NLopt.jl:70\n"
     ]
    },
    {
     "name": "stdout",
     "output_type": "stream",
     "text": [
      "ANGOLA       1996 has no local matches\n",
      "Albania 1994 has no local matches"
     ]
    },
    {
     "name": "stderr",
     "output_type": "stream",
     "text": [
      "┌ Warning: indexing with colon as row will create a copy in the future use df[col_inds] to get the columns without copying\n",
      "│   caller = #GenSynthetics#622(::Float64, ::Array{Float64,1}, ::Array{Float64,2}, ::Function, ::DataFrame, ::DataFrame, ::Array{Symbol,1}, ::Array{Symbol,1}) at GenSynthetics_NLopt.jl:99\n",
      "└ @ Main C:\\Users\\kevin\\Desktop\\IMF\\AERInsights\\Code\\GenSynthetics_NLopt.jl:99\n"
     ]
    },
    {
     "name": "stdout",
     "output_type": "stream",
     "text": [
      "\n",
      "Belarus 1999 has no local matches\n",
      "Chile 1976 has no local matches\n",
      "CAMEROON     1989 has no local matches\n",
      "CONGO, DEM. REP. 1994 has no local matches\n",
      "Czech Republic 1996 has no local matches\n",
      "Gabon 2002 has no local matches\n",
      "Equatorial Guinea 1994 has no local matches\n",
      "Iran 1992 has no local matches\n",
      "[6.0 7.0 8.0 9.0 10.0 11.0 Inf; 71.149 69.6122 71.2296 77.8672 92.0512 102.279 178.834; 74.4751 78.9699 70.5689 84.8901 103.261 112.509 160.28; 112.085 101.881 100.745 113.572 136.658 145.079 264.58; 75.8265 81.7692 75.7806 87.451 126.9 137.338 189.139; 111.562 97.0666 93.3892 143.634 0.0 0.0 0.0; 0.0 0.0 0.0 0.0 0.0 0.0 0.0]This function takes: matching variables, weights on these matches, outcomes to predict, and Pool DataFrame as arguments and returns two DataFrames: placebos that have matches and then their synthetic controls.\n"
     ]
    },
    {
     "name": "stderr",
     "output_type": "stream",
     "text": [
      "┌ Warning: indexing with colon as row will create a copy in the future use df[col_inds] to get the columns without copying\n",
      "│   caller = RunningPlacebos(::Array{Symbol,1}, ::Array{Float64,2}, ::Array{Float64,1}, ::Array{Symbol,1}, ::DataFrame) at RunningPlacebosFunction.jl:18\n",
      "└ @ Main C:\\Users\\kevin\\Desktop\\IMF\\AERInsights\\Code\\RunningPlacebosFunction.jl:18\n",
      "┌ Warning: indexing with colon as row will create a copy in the future use df[col_inds] to get the columns without copying\n",
      "│   caller = RunningPlacebos(::Array{Symbol,1}, ::Array{Float64,2}, ::Array{Float64,1}, ::Array{Symbol,1}, ::DataFrame) at RunningPlacebosFunction.jl:23\n",
      "└ @ Main C:\\Users\\kevin\\Desktop\\IMF\\AERInsights\\Code\\RunningPlacebosFunction.jl:23\n",
      "┌ Warning: indexing with colon as row will create a copy in the future use df[col_inds] to get the columns without copying\n",
      "│   caller = #GenSynthetics#641(::Float64, ::Array{Float64,1}, ::Array{Float64,2}, ::Function, ::DataFrame, ::DataFrame, ::Array{Symbol,1}, ::Array{Symbol,1}) at GenSynthetics_NLopt.jl:24\n",
      "└ @ Main C:\\Users\\kevin\\Desktop\\IMF\\AERInsights\\Code\\GenSynthetics_NLopt.jl:24\n",
      "┌ Warning: indexing with colon as row will create a copy in the future use df[col_inds] to get the columns without copying\n",
      "│   caller = #GenSynthetics#641(::Float64, ::Array{Float64,1}, ::Array{Float64,2}, ::Function, ::DataFrame, ::DataFrame, ::Array{Symbol,1}, ::Array{Symbol,1}) at GenSynthetics_NLopt.jl:25\n",
      "└ @ Main C:\\Users\\kevin\\Desktop\\IMF\\AERInsights\\Code\\GenSynthetics_NLopt.jl:25\n",
      "┌ Warning: indexing with colon as row will create a copy in the future use df[col_inds] to get the columns without copying\n",
      "│   caller = #GenSynthetics#641(::Float64, ::Array{Float64,1}, ::Array{Float64,2}, ::Function, ::DataFrame, ::DataFrame, ::Array{Symbol,1}, ::Array{Symbol,1}) at GenSynthetics_NLopt.jl:41\n",
      "└ @ Main C:\\Users\\kevin\\Desktop\\IMF\\AERInsights\\Code\\GenSynthetics_NLopt.jl:41\n",
      "┌ Warning: indexing with colon as row will create a copy in the future use df[col_inds] to get the columns without copying\n",
      "│   caller = #GenSynthetics#641(::Float64, ::Array{Float64,1}, ::Array{Float64,2}, ::Function, ::DataFrame, ::DataFrame, ::Array{Symbol,1}, ::Array{Symbol,1}) at GenSynthetics_NLopt.jl:70\n",
      "└ @ Main C:\\Users\\kevin\\Desktop\\IMF\\AERInsights\\Code\\GenSynthetics_NLopt.jl:70\n"
     ]
    },
    {
     "name": "stdout",
     "output_type": "stream",
     "text": [
      "ANGOLA       1996 has no local matches\n",
      "Albania 1994 has no local matches\n"
     ]
    },
    {
     "name": "stderr",
     "output_type": "stream",
     "text": [
      "┌ Warning: indexing with colon as row will create a copy in the future use df[col_inds] to get the columns without copying\n",
      "│   caller = #GenSynthetics#641(::Float64, ::Array{Float64,1}, ::Array{Float64,2}, ::Function, ::DataFrame, ::DataFrame, ::Array{Symbol,1}, ::Array{Symbol,1}) at GenSynthetics_NLopt.jl:99\n",
      "└ @ Main C:\\Users\\kevin\\Desktop\\IMF\\AERInsights\\Code\\GenSynthetics_NLopt.jl:99\n"
     ]
    },
    {
     "name": "stdout",
     "output_type": "stream",
     "text": [
      "Chile 1976 has no local matches\n",
      "CAMEROON     1989 has no local matches\n",
      "CONGO, DEM. REP. 1994 has no local matches\n",
      "Czech Republic 1996 has no local matches\n",
      "Equatorial Guinea 1994 has no local matches\n",
      "Iran 1992 has no local matches\n",
      "[6.0 7.0 8.0 9.0 10.0 11.0 Inf; 71.149 69.6122 71.2296 77.8672 92.0512 102.279 178.834; 74.4751 78.9699 70.5689 84.8901 103.261 112.509 160.28; 112.085 101.881 100.745 113.572 136.658 145.079 264.58; 75.8265 81.7692 75.7806 87.451 126.9 137.338 189.139; 111.562 97.0666 93.3892 143.634 201.438 0.0 0.0; 0.0 0.0 0.0 0.0 0.0 0.0 0.0]This function takes: matching variables, weights on these matches, outcomes to predict, and Pool DataFrame as arguments and returns two DataFrames: placebos that have matches and then their synthetic controls.\n"
     ]
    },
    {
     "name": "stderr",
     "output_type": "stream",
     "text": [
      "┌ Warning: indexing with colon as row will create a copy in the future use df[col_inds] to get the columns without copying\n",
      "│   caller = RunningPlacebos(::Array{Symbol,1}, ::Array{Float64,2}, ::Array{Float64,1}, ::Array{Symbol,1}, ::DataFrame) at RunningPlacebosFunction.jl:18\n",
      "└ @ Main C:\\Users\\kevin\\Desktop\\IMF\\AERInsights\\Code\\RunningPlacebosFunction.jl:18\n",
      "┌ Warning: indexing with colon as row will create a copy in the future use df[col_inds] to get the columns without copying\n",
      "│   caller = RunningPlacebos(::Array{Symbol,1}, ::Array{Float64,2}, ::Array{Float64,1}, ::Array{Symbol,1}, ::DataFrame) at RunningPlacebosFunction.jl:23\n",
      "└ @ Main C:\\Users\\kevin\\Desktop\\IMF\\AERInsights\\Code\\RunningPlacebosFunction.jl:23\n",
      "┌ Warning: indexing with colon as row will create a copy in the future use df[col_inds] to get the columns without copying\n",
      "│   caller = #GenSynthetics#660(::Float64, ::Array{Float64,1}, ::Array{Float64,2}, ::Function, ::DataFrame, ::DataFrame, ::Array{Symbol,1}, ::Array{Symbol,1}) at GenSynthetics_NLopt.jl:24\n",
      "└ @ Main C:\\Users\\kevin\\Desktop\\IMF\\AERInsights\\Code\\GenSynthetics_NLopt.jl:24\n",
      "┌ Warning: indexing with colon as row will create a copy in the future use df[col_inds] to get the columns without copying\n",
      "│   caller = #GenSynthetics#660(::Float64, ::Array{Float64,1}, ::Array{Float64,2}, ::Function, ::DataFrame, ::DataFrame, ::Array{Symbol,1}, ::Array{Symbol,1}) at GenSynthetics_NLopt.jl:25\n",
      "└ @ Main C:\\Users\\kevin\\Desktop\\IMF\\AERInsights\\Code\\GenSynthetics_NLopt.jl:25\n",
      "┌ Warning: indexing with colon as row will create a copy in the future use df[col_inds] to get the columns without copying\n",
      "│   caller = #GenSynthetics#660(::Float64, ::Array{Float64,1}, ::Array{Float64,2}, ::Function, ::DataFrame, ::DataFrame, ::Array{Symbol,1}, ::Array{Symbol,1}) at GenSynthetics_NLopt.jl:41\n",
      "└ @ Main C:\\Users\\kevin\\Desktop\\IMF\\AERInsights\\Code\\GenSynthetics_NLopt.jl:41\n",
      "┌ Warning: indexing with colon as row will create a copy in the future use df[col_inds] to get the columns without copying\n",
      "│   caller = #GenSynthetics#660(::Float64, ::Array{Float64,1}, ::Array{Float64,2}, ::Function, ::DataFrame, ::DataFrame, ::Array{Symbol,1}, ::Array{Symbol,1}) at GenSynthetics_NLopt.jl:70\n",
      "└ @ Main C:\\Users\\kevin\\Desktop\\IMF\\AERInsights\\Code\\GenSynthetics_NLopt.jl:70\n"
     ]
    },
    {
     "name": "stdout",
     "output_type": "stream",
     "text": [
      "ANGOLA       1996 has no local matches\n",
      "Albania 1994 has no local matches"
     ]
    },
    {
     "name": "stderr",
     "output_type": "stream",
     "text": [
      "┌ Warning: indexing with colon as row will create a copy in the future use df[col_inds] to get the columns without copying\n",
      "│   caller = #GenSynthetics#660(::Float64, ::Array{Float64,1}, ::Array{Float64,2}, ::Function, ::DataFrame, ::DataFrame, ::Array{Symbol,1}, ::Array{Symbol,1}) at GenSynthetics_NLopt.jl:99\n",
      "└ @ Main C:\\Users\\kevin\\Desktop\\IMF\\AERInsights\\Code\\GenSynthetics_NLopt.jl:99\n"
     ]
    },
    {
     "name": "stdout",
     "output_type": "stream",
     "text": [
      "\n",
      "CONGO, DEM. REP. 1994 has no local matches\n",
      "Equatorial Guinea 1994 has no local matches\n",
      "Iran 1992 has no local matches\n",
      "[6.0 7.0 8.0 9.0 10.0 11.0 Inf; 71.149 69.6122 71.2296 77.8672 92.0512 102.279 178.834; 74.4751 78.9699 70.5689 84.8901 103.261 112.509 160.28; 112.085 101.881 100.745 113.572 136.658 145.079 264.58; 75.8265 81.7692 75.7806 87.451 126.9 137.338 189.139; 111.562 97.0666 93.3892 143.634 201.438 215.899 0.0; 0.0 0.0 0.0 0.0 0.0 0.0 0.0]This function takes: matching variables, weights on these matches, outcomes to predict, and Pool DataFrame as arguments and returns two DataFrames: placebos that have matches and then their synthetic controls.\n"
     ]
    },
    {
     "name": "stderr",
     "output_type": "stream",
     "text": [
      "┌ Warning: indexing with colon as row will create a copy in the future use df[col_inds] to get the columns without copying\n",
      "│   caller = RunningPlacebos(::Array{Symbol,1}, ::Array{Float64,2}, ::Array{Float64,1}, ::Array{Symbol,1}, ::DataFrame) at RunningPlacebosFunction.jl:18\n",
      "└ @ Main C:\\Users\\kevin\\Desktop\\IMF\\AERInsights\\Code\\RunningPlacebosFunction.jl:18\n",
      "┌ Warning: indexing with colon as row will create a copy in the future use df[col_inds] to get the columns without copying\n",
      "│   caller = RunningPlacebos(::Array{Symbol,1}, ::Array{Float64,2}, ::Array{Float64,1}, ::Array{Symbol,1}, ::DataFrame) at RunningPlacebosFunction.jl:23\n",
      "└ @ Main C:\\Users\\kevin\\Desktop\\IMF\\AERInsights\\Code\\RunningPlacebosFunction.jl:23\n",
      "┌ Warning: indexing with colon as row will create a copy in the future use df[col_inds] to get the columns without copying\n",
      "│   caller = #GenSynthetics#679(::Float64, ::Array{Float64,1}, ::Array{Float64,2}, ::Function, ::DataFrame, ::DataFrame, ::Array{Symbol,1}, ::Array{Symbol,1}) at GenSynthetics_NLopt.jl:24\n",
      "└ @ Main C:\\Users\\kevin\\Desktop\\IMF\\AERInsights\\Code\\GenSynthetics_NLopt.jl:24\n",
      "┌ Warning: indexing with colon as row will create a copy in the future use df[col_inds] to get the columns without copying\n",
      "│   caller = #GenSynthetics#679(::Float64, ::Array{Float64,1}, ::Array{Float64,2}, ::Function, ::DataFrame, ::DataFrame, ::Array{Symbol,1}, ::Array{Symbol,1}) at GenSynthetics_NLopt.jl:25\n",
      "└ @ Main C:\\Users\\kevin\\Desktop\\IMF\\AERInsights\\Code\\GenSynthetics_NLopt.jl:25\n",
      "┌ Warning: indexing with colon as row will create a copy in the future use df[col_inds] to get the columns without copying\n",
      "│   caller = #GenSynthetics#679(::Float64, ::Array{Float64,1}, ::Array{Float64,2}, ::Function, ::DataFrame, ::DataFrame, ::Array{Symbol,1}, ::Array{Symbol,1}) at GenSynthetics_NLopt.jl:41\n",
      "└ @ Main C:\\Users\\kevin\\Desktop\\IMF\\AERInsights\\Code\\GenSynthetics_NLopt.jl:41\n",
      "┌ Warning: indexing with colon as row will create a copy in the future use df[col_inds] to get the columns without copying\n",
      "│   caller = #GenSynthetics#679(::Float64, ::Array{Float64,1}, ::Array{Float64,2}, ::Function, ::DataFrame, ::DataFrame, ::Array{Symbol,1}, ::Array{Symbol,1}) at GenSynthetics_NLopt.jl:70\n",
      "└ @ Main C:\\Users\\kevin\\Desktop\\IMF\\AERInsights\\Code\\GenSynthetics_NLopt.jl:70\n",
      "┌ Warning: indexing with colon as row will create a copy in the future use df[col_inds] to get the columns without copying\n",
      "│   caller = #GenSynthetics#679(::Float64, ::Array{Float64,1}, ::Array{Float64,2}, ::Function, ::DataFrame, ::DataFrame, ::Array{Symbol,1}, ::Array{Symbol,1}) at GenSynthetics_NLopt.jl:99\n",
      "└ @ Main C:\\Users\\kevin\\Desktop\\IMF\\AERInsights\\Code\\GenSynthetics_NLopt.jl:99\n"
     ]
    },
    {
     "name": "stdout",
     "output_type": "stream",
     "text": [
      "[6.0 7.0 8.0 9.0 10.0 11.0 Inf; 71.149 69.6122 71.2296 77.8672 92.0512 102.279 178.834; 74.4751 78.9699 70.5689 84.8901 103.261 112.509 160.28; 112.085 101.881 100.745 113.572 136.658 145.079 264.58; 75.8265 81.7692 75.7806 87.451 126.9 137.338 189.139; 111.562 97.0666 93.3892 143.634 201.438 215.899 306.86; 0.0 0.0 0.0 0.0 0.0 0.0 0.0]This function takes: matching variables, weights on these matches, outcomes to predict, and Pool DataFrame as arguments and returns two DataFrames: placebos that have matches and then their synthetic controls.\n"
     ]
    },
    {
     "name": "stderr",
     "output_type": "stream",
     "text": [
      "┌ Warning: indexing with colon as row will create a copy in the future use df[col_inds] to get the columns without copying\n",
      "│   caller = RunningPlacebos(::Array{Symbol,1}, ::Array{Float64,2}, ::Array{Float64,1}, ::Array{Symbol,1}, ::DataFrame) at RunningPlacebosFunction.jl:18\n",
      "└ @ Main C:\\Users\\kevin\\Desktop\\IMF\\AERInsights\\Code\\RunningPlacebosFunction.jl:18\n",
      "┌ Warning: indexing with colon as row will create a copy in the future use df[col_inds] to get the columns without copying\n",
      "│   caller = RunningPlacebos(::Array{Symbol,1}, ::Array{Float64,2}, ::Array{Float64,1}, ::Array{Symbol,1}, ::DataFrame) at RunningPlacebosFunction.jl:23\n",
      "└ @ Main C:\\Users\\kevin\\Desktop\\IMF\\AERInsights\\Code\\RunningPlacebosFunction.jl:23\n",
      "┌ Warning: indexing with colon as row will create a copy in the future use df[col_inds] to get the columns without copying\n",
      "│   caller = #GenSynthetics#704(::Float64, ::Array{Float64,1}, ::Array{Float64,2}, ::Function, ::DataFrame, ::DataFrame, ::Array{Symbol,1}, ::Array{Symbol,1}) at GenSynthetics_NLopt.jl:24\n",
      "└ @ Main C:\\Users\\kevin\\Desktop\\IMF\\AERInsights\\Code\\GenSynthetics_NLopt.jl:24\n",
      "┌ Warning: indexing with colon as row will create a copy in the future use df[col_inds] to get the columns without copying\n",
      "│   caller = #GenSynthetics#704(::Float64, ::Array{Float64,1}, ::Array{Float64,2}, ::Function, ::DataFrame, ::DataFrame, ::Array{Symbol,1}, ::Array{Symbol,1}) at GenSynthetics_NLopt.jl:25\n",
      "└ @ Main C:\\Users\\kevin\\Desktop\\IMF\\AERInsights\\Code\\GenSynthetics_NLopt.jl:25\n",
      "┌ Warning: indexing with colon as row will create a copy in the future use df[col_inds] to get the columns without copying\n",
      "│   caller = #GenSynthetics#704(::Float64, ::Array{Float64,1}, ::Array{Float64,2}, ::Function, ::DataFrame, ::DataFrame, ::Array{Symbol,1}, ::Array{Symbol,1}) at GenSynthetics_NLopt.jl:41\n",
      "└ @ Main C:\\Users\\kevin\\Desktop\\IMF\\AERInsights\\Code\\GenSynthetics_NLopt.jl:41\n",
      "┌ Warning: indexing with colon as row will create a copy in the future use df[col_inds] to get the columns without copying\n",
      "│   caller = #GenSynthetics#704(::Float64, ::Array{Float64,1}, ::Array{Float64,2}, ::Function, ::DataFrame, ::DataFrame, ::Array{Symbol,1}, ::Array{Symbol,1}) at GenSynthetics_NLopt.jl:70\n",
      "└ @ Main C:\\Users\\kevin\\Desktop\\IMF\\AERInsights\\Code\\GenSynthetics_NLopt.jl:70\n"
     ]
    },
    {
     "name": "stdout",
     "output_type": "stream",
     "text": [
      "ANGOLA       1996 has no local matches\n",
      "Albania 1990 has no local matches\n",
      "Albania 1994 has no local matches\n"
     ]
    },
    {
     "name": "stderr",
     "output_type": "stream",
     "text": [
      "┌ Warning: indexing with colon as row will create a copy in the future use df[col_inds] to get the columns without copying\n",
      "│   caller = #GenSynthetics#704(::Float64, ::Array{Float64,1}, ::Array{Float64,2}, ::Function, ::DataFrame, ::DataFrame, ::Array{Symbol,1}, ::Array{Symbol,1}) at GenSynthetics_NLopt.jl:99\n",
      "└ @ Main C:\\Users\\kevin\\Desktop\\IMF\\AERInsights\\Code\\GenSynthetics_NLopt.jl:99\n"
     ]
    },
    {
     "name": "stdout",
     "output_type": "stream",
     "text": [
      "BANGLADESH   1976 has no local matches\n",
      "Belarus 1999 has no local matches\n",
      "Chile 1976 has no local matches\n",
      "CONGO, DEM. REP. 1994 has no local matches\n",
      "COMOROS      1994 has no local matches\n",
      "Egypt 1979 has no local matches\n",
      "ETHIOPIA     1993 has no local matches\n",
      "GEORGIA      1991 has no local matches\n",
      "GUINEA-BISSAU 1980 has no local matches\n",
      "Equatorial Guinea 1994 has no local matches\n",
      "GUYANA       1982 has no local matches\n",
      "GUYANA       1987 has no local matches\n",
      "Iran 1985 has no local matches\n",
      "Iran 1992 has no local matches\n",
      "LIBERIA 1991 has no local matches\n",
      "NIGERIA      1983 has no local matches\n",
      "NIGERIA      2009 has no local matches\n",
      "Panama 1988 has no local matches\n",
      "Peru 1988 has no local matches\n",
      "SUDAN        1988 has no local matches\n",
      "SUDAN        1994 has no local matches\n",
      "SIERRA LEONE 1989 has no local matches\n",
      "Suriname 1990 has no local matches\n",
      "[6.0 7.0 8.0 9.0 10.0 11.0 Inf; 71.149 69.6122 71.2296 77.8672 92.0512 102.279 178.834; 74.4751 78.9699 70.5689 84.8901 103.261 112.509 160.28; 112.085 101.881 100.745 113.572 136.658 145.079 264.58; 75.8265 81.7692 75.7806 87.451 126.9 137.338 189.139; 111.562 97.0666 93.3892 143.634 201.438 215.899 306.86; 66.867 0.0 0.0 0.0 0.0 0.0 0.0]This function takes: matching variables, weights on these matches, outcomes to predict, and Pool DataFrame as arguments and returns two DataFrames: placebos that have matches and then their synthetic controls.\n"
     ]
    },
    {
     "name": "stderr",
     "output_type": "stream",
     "text": [
      "┌ Warning: indexing with colon as row will create a copy in the future use df[col_inds] to get the columns without copying\n",
      "│   caller = RunningPlacebos(::Array{Symbol,1}, ::Array{Float64,2}, ::Array{Float64,1}, ::Array{Symbol,1}, ::DataFrame) at RunningPlacebosFunction.jl:18\n",
      "└ @ Main C:\\Users\\kevin\\Desktop\\IMF\\AERInsights\\Code\\RunningPlacebosFunction.jl:18\n",
      "┌ Warning: indexing with colon as row will create a copy in the future use df[col_inds] to get the columns without copying\n",
      "│   caller = RunningPlacebos(::Array{Symbol,1}, ::Array{Float64,2}, ::Array{Float64,1}, ::Array{Symbol,1}, ::DataFrame) at RunningPlacebosFunction.jl:23\n",
      "└ @ Main C:\\Users\\kevin\\Desktop\\IMF\\AERInsights\\Code\\RunningPlacebosFunction.jl:23\n",
      "┌ Warning: indexing with colon as row will create a copy in the future use df[col_inds] to get the columns without copying\n",
      "│   caller = #GenSynthetics#723(::Float64, ::Array{Float64,1}, ::Array{Float64,2}, ::Function, ::DataFrame, ::DataFrame, ::Array{Symbol,1}, ::Array{Symbol,1}) at GenSynthetics_NLopt.jl:24\n",
      "└ @ Main C:\\Users\\kevin\\Desktop\\IMF\\AERInsights\\Code\\GenSynthetics_NLopt.jl:24\n",
      "┌ Warning: indexing with colon as row will create a copy in the future use df[col_inds] to get the columns without copying\n",
      "│   caller = #GenSynthetics#723(::Float64, ::Array{Float64,1}, ::Array{Float64,2}, ::Function, ::DataFrame, ::DataFrame, ::Array{Symbol,1}, ::Array{Symbol,1}) at GenSynthetics_NLopt.jl:25\n",
      "└ @ Main C:\\Users\\kevin\\Desktop\\IMF\\AERInsights\\Code\\GenSynthetics_NLopt.jl:25\n",
      "┌ Warning: indexing with colon as row will create a copy in the future use df[col_inds] to get the columns without copying\n",
      "│   caller = #GenSynthetics#723(::Float64, ::Array{Float64,1}, ::Array{Float64,2}, ::Function, ::DataFrame, ::DataFrame, ::Array{Symbol,1}, ::Array{Symbol,1}) at GenSynthetics_NLopt.jl:41\n",
      "└ @ Main C:\\Users\\kevin\\Desktop\\IMF\\AERInsights\\Code\\GenSynthetics_NLopt.jl:41\n",
      "┌ Warning: indexing with colon as row will create a copy in the future use df[col_inds] to get the columns without copying\n",
      "│   caller = #GenSynthetics#723(::Float64, ::Array{Float64,1}, ::Array{Float64,2}, ::Function, ::DataFrame, ::DataFrame, ::Array{Symbol,1}, ::Array{Symbol,1}) at GenSynthetics_NLopt.jl:70\n",
      "└ @ Main C:\\Users\\kevin\\Desktop\\IMF\\AERInsights\\Code\\GenSynthetics_NLopt.jl:70\n"
     ]
    },
    {
     "name": "stdout",
     "output_type": "stream",
     "text": [
      "ANGOLA       1996 has no local matches\n",
      "Albania 1994 has no local matches\n"
     ]
    },
    {
     "name": "stderr",
     "output_type": "stream",
     "text": [
      "┌ Warning: indexing with colon as row will create a copy in the future use df[col_inds] to get the columns without copying\n",
      "│   caller = #GenSynthetics#723(::Float64, ::Array{Float64,1}, ::Array{Float64,2}, ::Function, ::DataFrame, ::DataFrame, ::Array{Symbol,1}, ::Array{Symbol,1}) at GenSynthetics_NLopt.jl:99\n",
      "└ @ Main C:\\Users\\kevin\\Desktop\\IMF\\AERInsights\\Code\\GenSynthetics_NLopt.jl:99\n"
     ]
    },
    {
     "name": "stdout",
     "output_type": "stream",
     "text": [
      "BANGLADESH   1976 has no local matches\n",
      "Belarus 1999 has no local matches\n",
      "CONGO, DEM. REP. 1994 has no local matches\n",
      "ETHIOPIA     1993 has no local matches\n",
      "GEORGIA      1991 has no local matches\n",
      "GUINEA-BISSAU 1980 has no local matches\n",
      "Equatorial Guinea 1994 has no local matches\n",
      "Iran 1985 has no local matches\n",
      "Iran 1992 has no local matches\n",
      "LIBERIA 1991 has no local matches\n",
      "NIGERIA      2009 has no local matches\n",
      "Peru 1988 has no local matches\n",
      "SUDAN        1988 has no local matches\n",
      "Suriname 1990 has no local matches\n",
      "[6.0 7.0 8.0 9.0 10.0 11.0 Inf; 71.149 69.6122 71.2296 77.8672 92.0512 102.279 178.834; 74.4751 78.9699 70.5689 84.8901 103.261 112.509 160.28; 112.085 101.881 100.745 113.572 136.658 145.079 264.58; 75.8265 81.7692 75.7806 87.451 126.9 137.338 189.139; 111.562 97.0666 93.3892 143.634 201.438 215.899 306.86; 66.867 86.3333 0.0 0.0 0.0 0.0 0.0]This function takes: matching variables, weights on these matches, outcomes to predict, and Pool DataFrame as arguments and returns two DataFrames: placebos that have matches and then their synthetic controls.\n"
     ]
    },
    {
     "name": "stderr",
     "output_type": "stream",
     "text": [
      "┌ Warning: indexing with colon as row will create a copy in the future use df[col_inds] to get the columns without copying\n",
      "│   caller = RunningPlacebos(::Array{Symbol,1}, ::Array{Float64,2}, ::Array{Float64,1}, ::Array{Symbol,1}, ::DataFrame) at RunningPlacebosFunction.jl:18\n",
      "└ @ Main C:\\Users\\kevin\\Desktop\\IMF\\AERInsights\\Code\\RunningPlacebosFunction.jl:18\n",
      "┌ Warning: indexing with colon as row will create a copy in the future use df[col_inds] to get the columns without copying\n",
      "│   caller = RunningPlacebos(::Array{Symbol,1}, ::Array{Float64,2}, ::Array{Float64,1}, ::Array{Symbol,1}, ::DataFrame) at RunningPlacebosFunction.jl:23\n",
      "└ @ Main C:\\Users\\kevin\\Desktop\\IMF\\AERInsights\\Code\\RunningPlacebosFunction.jl:23\n",
      "┌ Warning: indexing with colon as row will create a copy in the future use df[col_inds] to get the columns without copying\n",
      "│   caller = #GenSynthetics#742(::Float64, ::Array{Float64,1}, ::Array{Float64,2}, ::Function, ::DataFrame, ::DataFrame, ::Array{Symbol,1}, ::Array{Symbol,1}) at GenSynthetics_NLopt.jl:24\n",
      "└ @ Main C:\\Users\\kevin\\Desktop\\IMF\\AERInsights\\Code\\GenSynthetics_NLopt.jl:24\n",
      "┌ Warning: indexing with colon as row will create a copy in the future use df[col_inds] to get the columns without copying\n",
      "│   caller = #GenSynthetics#742(::Float64, ::Array{Float64,1}, ::Array{Float64,2}, ::Function, ::DataFrame, ::DataFrame, ::Array{Symbol,1}, ::Array{Symbol,1}) at GenSynthetics_NLopt.jl:25\n",
      "└ @ Main C:\\Users\\kevin\\Desktop\\IMF\\AERInsights\\Code\\GenSynthetics_NLopt.jl:25\n",
      "┌ Warning: indexing with colon as row will create a copy in the future use df[col_inds] to get the columns without copying\n",
      "│   caller = #GenSynthetics#742(::Float64, ::Array{Float64,1}, ::Array{Float64,2}, ::Function, ::DataFrame, ::DataFrame, ::Array{Symbol,1}, ::Array{Symbol,1}) at GenSynthetics_NLopt.jl:41\n",
      "└ @ Main C:\\Users\\kevin\\Desktop\\IMF\\AERInsights\\Code\\GenSynthetics_NLopt.jl:41\n",
      "┌ Warning: indexing with colon as row will create a copy in the future use df[col_inds] to get the columns without copying\n",
      "│   caller = #GenSynthetics#742(::Float64, ::Array{Float64,1}, ::Array{Float64,2}, ::Function, ::DataFrame, ::DataFrame, ::Array{Symbol,1}, ::Array{Symbol,1}) at GenSynthetics_NLopt.jl:70\n",
      "└ @ Main C:\\Users\\kevin\\Desktop\\IMF\\AERInsights\\Code\\GenSynthetics_NLopt.jl:70\n"
     ]
    },
    {
     "name": "stdout",
     "output_type": "stream",
     "text": [
      "ANGOLA       1996 has no local matches\n",
      "Albania 1994 has no local matches\n"
     ]
    },
    {
     "name": "stderr",
     "output_type": "stream",
     "text": [
      "┌ Warning: indexing with colon as row will create a copy in the future use df[col_inds] to get the columns without copying\n",
      "│   caller = #GenSynthetics#742(::Float64, ::Array{Float64,1}, ::Array{Float64,2}, ::Function, ::DataFrame, ::DataFrame, ::Array{Symbol,1}, ::Array{Symbol,1}) at GenSynthetics_NLopt.jl:99\n",
      "└ @ Main C:\\Users\\kevin\\Desktop\\IMF\\AERInsights\\Code\\GenSynthetics_NLopt.jl:99\n"
     ]
    },
    {
     "name": "stdout",
     "output_type": "stream",
     "text": [
      "BANGLADESH   1976 has no local matches\n",
      "Belarus 1999 has no local matches\n",
      "CONGO, DEM. REP. 1994 has no local matches\n",
      "ETHIOPIA     1993 has no local matches\n",
      "GEORGIA      1991 has no local matches\n",
      "GUINEA-BISSAU 1980 has no local matches\n",
      "Equatorial Guinea 1994 has no local matches\n",
      "Iran 1985 has no local matches\n",
      "Iran 1992 has no local matches\n",
      "LIBERIA 1991 has no local matches\n",
      "NIGERIA      2009 has no local matches\n",
      "[6.0 7.0 8.0 9.0 10.0 11.0 Inf; 71.149 69.6122 71.2296 77.8672 92.0512 102.279 178.834; 74.4751 78.9699 70.5689 84.8901 103.261 112.509 160.28; 112.085 101.881 100.745 113.572 136.658 145.079 264.58; 75.8265 81.7692 75.7806 87.451 126.9 137.338 189.139; 111.562 97.0666 93.3892 143.634 201.438 215.899 306.86; 66.867 86.3333 87.3781 0.0 0.0 0.0 0.0]This function takes: matching variables, weights on these matches, outcomes to predict, and Pool DataFrame as arguments and returns two DataFrames: placebos that have matches and then their synthetic controls.\n"
     ]
    },
    {
     "name": "stderr",
     "output_type": "stream",
     "text": [
      "┌ Warning: indexing with colon as row will create a copy in the future use df[col_inds] to get the columns without copying\n",
      "│   caller = RunningPlacebos(::Array{Symbol,1}, ::Array{Float64,2}, ::Array{Float64,1}, ::Array{Symbol,1}, ::DataFrame) at RunningPlacebosFunction.jl:18\n",
      "└ @ Main C:\\Users\\kevin\\Desktop\\IMF\\AERInsights\\Code\\RunningPlacebosFunction.jl:18\n",
      "┌ Warning: indexing with colon as row will create a copy in the future use df[col_inds] to get the columns without copying\n",
      "│   caller = RunningPlacebos(::Array{Symbol,1}, ::Array{Float64,2}, ::Array{Float64,1}, ::Array{Symbol,1}, ::DataFrame) at RunningPlacebosFunction.jl:23\n",
      "└ @ Main C:\\Users\\kevin\\Desktop\\IMF\\AERInsights\\Code\\RunningPlacebosFunction.jl:23\n",
      "┌ Warning: indexing with colon as row will create a copy in the future use df[col_inds] to get the columns without copying\n",
      "│   caller = #GenSynthetics#761(::Float64, ::Array{Float64,1}, ::Array{Float64,2}, ::Function, ::DataFrame, ::DataFrame, ::Array{Symbol,1}, ::Array{Symbol,1}) at GenSynthetics_NLopt.jl:24\n",
      "└ @ Main C:\\Users\\kevin\\Desktop\\IMF\\AERInsights\\Code\\GenSynthetics_NLopt.jl:24\n",
      "┌ Warning: indexing with colon as row will create a copy in the future use df[col_inds] to get the columns without copying\n",
      "│   caller = #GenSynthetics#761(::Float64, ::Array{Float64,1}, ::Array{Float64,2}, ::Function, ::DataFrame, ::DataFrame, ::Array{Symbol,1}, ::Array{Symbol,1}) at GenSynthetics_NLopt.jl:25\n",
      "└ @ Main C:\\Users\\kevin\\Desktop\\IMF\\AERInsights\\Code\\GenSynthetics_NLopt.jl:25\n",
      "┌ Warning: indexing with colon as row will create a copy in the future use df[col_inds] to get the columns without copying\n",
      "│   caller = #GenSynthetics#761(::Float64, ::Array{Float64,1}, ::Array{Float64,2}, ::Function, ::DataFrame, ::DataFrame, ::Array{Symbol,1}, ::Array{Symbol,1}) at GenSynthetics_NLopt.jl:41\n",
      "└ @ Main C:\\Users\\kevin\\Desktop\\IMF\\AERInsights\\Code\\GenSynthetics_NLopt.jl:41\n",
      "┌ Warning: indexing with colon as row will create a copy in the future use df[col_inds] to get the columns without copying\n",
      "│   caller = #GenSynthetics#761(::Float64, ::Array{Float64,1}, ::Array{Float64,2}, ::Function, ::DataFrame, ::DataFrame, ::Array{Symbol,1}, ::Array{Symbol,1}) at GenSynthetics_NLopt.jl:70\n",
      "└ @ Main C:\\Users\\kevin\\Desktop\\IMF\\AERInsights\\Code\\GenSynthetics_NLopt.jl:70\n"
     ]
    },
    {
     "name": "stdout",
     "output_type": "stream",
     "text": [
      "ANGOLA       1996 has no local matches\n",
      "Albania 1994 has no local matches\n"
     ]
    },
    {
     "name": "stderr",
     "output_type": "stream",
     "text": [
      "┌ Warning: indexing with colon as row will create a copy in the future use df[col_inds] to get the columns without copying\n",
      "│   caller = #GenSynthetics#761(::Float64, ::Array{Float64,1}, ::Array{Float64,2}, ::Function, ::DataFrame, ::DataFrame, ::Array{Symbol,1}, ::Array{Symbol,1}) at GenSynthetics_NLopt.jl:99\n",
      "└ @ Main C:\\Users\\kevin\\Desktop\\IMF\\AERInsights\\Code\\GenSynthetics_NLopt.jl:99\n"
     ]
    },
    {
     "name": "stdout",
     "output_type": "stream",
     "text": [
      "Belarus 1999 has no local matches\n",
      "CONGO, DEM. REP. 1994 has no local matches\n",
      "GEORGIA      1991 has no local matches\n",
      "GUINEA-BISSAU 1980 has no local matches\n",
      "Equatorial Guinea 1994 has no local matches\n",
      "Iran 1985 has no local matches\n",
      "LIBERIA 1991 has no local matches\n",
      "NIGERIA      2009 has no local matches\n",
      "[6.0 7.0 8.0 9.0 10.0 11.0 Inf; 71.149 69.6122 71.2296 77.8672 92.0512 102.279 178.834; 74.4751 78.9699 70.5689 84.8901 103.261 112.509 160.28; 112.085 101.881 100.745 113.572 136.658 145.079 264.58; 75.8265 81.7692 75.7806 87.451 126.9 137.338 189.139; 111.562 97.0666 93.3892 143.634 201.438 215.899 306.86; 66.867 86.3333 87.3781 80.7892 0.0 0.0 0.0]This function takes: matching variables, weights on these matches, outcomes to predict, and Pool DataFrame as arguments and returns two DataFrames: placebos that have matches and then their synthetic controls.\n"
     ]
    },
    {
     "name": "stderr",
     "output_type": "stream",
     "text": [
      "┌ Warning: indexing with colon as row will create a copy in the future use df[col_inds] to get the columns without copying\n",
      "│   caller = RunningPlacebos(::Array{Symbol,1}, ::Array{Float64,2}, ::Array{Float64,1}, ::Array{Symbol,1}, ::DataFrame) at RunningPlacebosFunction.jl:18\n",
      "└ @ Main C:\\Users\\kevin\\Desktop\\IMF\\AERInsights\\Code\\RunningPlacebosFunction.jl:18\n",
      "┌ Warning: indexing with colon as row will create a copy in the future use df[col_inds] to get the columns without copying\n",
      "│   caller = RunningPlacebos(::Array{Symbol,1}, ::Array{Float64,2}, ::Array{Float64,1}, ::Array{Symbol,1}, ::DataFrame) at RunningPlacebosFunction.jl:23\n",
      "└ @ Main C:\\Users\\kevin\\Desktop\\IMF\\AERInsights\\Code\\RunningPlacebosFunction.jl:23\n",
      "┌ Warning: indexing with colon as row will create a copy in the future use df[col_inds] to get the columns without copying\n",
      "│   caller = #GenSynthetics#780(::Float64, ::Array{Float64,1}, ::Array{Float64,2}, ::Function, ::DataFrame, ::DataFrame, ::Array{Symbol,1}, ::Array{Symbol,1}) at GenSynthetics_NLopt.jl:24\n",
      "└ @ Main C:\\Users\\kevin\\Desktop\\IMF\\AERInsights\\Code\\GenSynthetics_NLopt.jl:24\n",
      "┌ Warning: indexing with colon as row will create a copy in the future use df[col_inds] to get the columns without copying\n",
      "│   caller = #GenSynthetics#780(::Float64, ::Array{Float64,1}, ::Array{Float64,2}, ::Function, ::DataFrame, ::DataFrame, ::Array{Symbol,1}, ::Array{Symbol,1}) at GenSynthetics_NLopt.jl:25\n",
      "└ @ Main C:\\Users\\kevin\\Desktop\\IMF\\AERInsights\\Code\\GenSynthetics_NLopt.jl:25\n",
      "┌ Warning: indexing with colon as row will create a copy in the future use df[col_inds] to get the columns without copying\n",
      "│   caller = #GenSynthetics#780(::Float64, ::Array{Float64,1}, ::Array{Float64,2}, ::Function, ::DataFrame, ::DataFrame, ::Array{Symbol,1}, ::Array{Symbol,1}) at GenSynthetics_NLopt.jl:41\n",
      "└ @ Main C:\\Users\\kevin\\Desktop\\IMF\\AERInsights\\Code\\GenSynthetics_NLopt.jl:41\n"
     ]
    },
    {
     "name": "stdout",
     "output_type": "stream",
     "text": [
      "ANGOLA       1996 has no local matches\n"
     ]
    },
    {
     "name": "stderr",
     "output_type": "stream",
     "text": [
      "┌ Warning: indexing with colon as row will create a copy in the future use df[col_inds] to get the columns without copying\n",
      "│   caller = #GenSynthetics#780(::Float64, ::Array{Float64,1}, ::Array{Float64,2}, ::Function, ::DataFrame, ::DataFrame, ::Array{Symbol,1}, ::Array{Symbol,1}) at GenSynthetics_NLopt.jl:70\n",
      "└ @ Main C:\\Users\\kevin\\Desktop\\IMF\\AERInsights\\Code\\GenSynthetics_NLopt.jl:70\n",
      "┌ Warning: indexing with colon as row will create a copy in the future use df[col_inds] to get the columns without copying\n",
      "│   caller = #GenSynthetics#780(::Float64, ::Array{Float64,1}, ::Array{Float64,2}, ::Function, ::DataFrame, ::DataFrame, ::Array{Symbol,1}, ::Array{Symbol,1}) at GenSynthetics_NLopt.jl:99\n",
      "└ @ Main C:\\Users\\kevin\\Desktop\\IMF\\AERInsights\\Code\\GenSynthetics_NLopt.jl:99\n"
     ]
    },
    {
     "name": "stdout",
     "output_type": "stream",
     "text": [
      "Albania 1994 has no local matches\n",
      "GEORGIA      1991 has no local matches\n",
      "Equatorial Guinea 1994 has no local matches"
     ]
    }
   ],
   "source": [
    "include(\"C:\\\\Users\\\\kevin\\\\Desktop\\\\IMF\\\\AERInsights\\\\Code\\\\PlaceboComparisonTable.jl\")"
   ]
  },
  {
   "cell_type": "code",
   "execution_count": 3,
   "metadata": {},
   "outputs": [
    {
     "data": {
      "text/plain": [
       "7×1 Array{Float64,2}:\n",
       "   6.0             \n",
       "  71.13216014151546\n",
       "  79.8646973813978 \n",
       " 113.38626568851753\n",
       "  80.67168453760439\n",
       " 115.18315306999024\n",
       "  68.1519298274558 "
      ]
     },
     "execution_count": 3,
     "metadata": {},
     "output_type": "execute_result"
    }
   ],
   "source": [
    "TableA2"
   ]
  },
  {
   "cell_type": "code",
   "execution_count": null,
   "metadata": {},
   "outputs": [
    {
     "name": "stdout",
     "output_type": "stream",
     "text": [
      "This function takes: matching variables, weights on these matches, outcomes to predict, and Pool DataFrame as arguments and returns two DataFrames: placebos that have matches and then their synthetic controls.\n",
      "Number of total crises for path is 336\n"
     ]
    },
    {
     "name": "stderr",
     "output_type": "stream",
     "text": [
      "┌ Warning: `getindex(df::DataFrame, col_ind::ColumnIndex)` is deprecated, use `df[!, col_ind]` instead.\n",
      "│   caller = top-level scope at AppendixDataTable.jl:27 [inlined]\n",
      "└ @ Core C:\\Users\\Admin\\OneDrive\\IMF\\AERInsights\\Code\\AppendixDataTable.jl:27\n",
      "┌ Warning: `setindex!(df::DataFrame, v::AbstractVector, col_ind::ColumnIndex)` is deprecated, use `begin\n",
      "│     df[!, col_ind] = v\n",
      "│     df\n",
      "│ end` instead.\n",
      "│   caller = top-level scope at AppendixDataTable.jl:27 [inlined]\n",
      "└ @ Core C:\\Users\\Admin\\OneDrive\\IMF\\AERInsights\\Code\\AppendixDataTable.jl:27\n",
      "┌ Warning: `setindex!(df::DataFrame, v::AbstractVector, col_ind::ColumnIndex)` is deprecated, use `begin\n",
      "│     df[!, col_ind] = v\n",
      "│     df\n",
      "│ end` instead.\n",
      "│   caller = top-level scope at none:0\n",
      "└ @ Core none:0\n",
      "┌ Warning: `setindex!(df::DataFrame, v::AbstractVector, col_ind::ColumnIndex)` is deprecated, use `begin\n",
      "│     df[!, col_ind] = v\n",
      "│     df\n",
      "│ end` instead.\n",
      "│   caller = top-level scope at none:0\n",
      "└ @ Core none:0\n",
      "┌ Warning: `setindex!(df::DataFrame, v::AbstractVector, col_ind::ColumnIndex)` is deprecated, use `begin\n",
      "│     df[!, col_ind] = v\n",
      "│     df\n",
      "│ end` instead.\n",
      "│   caller = #GenSynthetics#3(::Float64, ::Array{Float64,1}, ::Array{Float64,2}, ::Function, ::DataFrame, ::DataFrame, ::Array{Symbol,1}, ::Array{Symbol,1}) at GenSynthetics_NLopt.jl:20\n",
      "└ @ Main C:\\Users\\Admin\\OneDrive\\IMF\\AERInsights\\Code\\GenSynthetics_NLopt.jl:20\n",
      "┌ Warning: `setindex!(df::DataFrame, v::AbstractVector, col_ind::ColumnIndex)` is deprecated, use `begin\n",
      "│     df[!, col_ind] = v\n",
      "│     df\n",
      "│ end` instead.\n",
      "│   caller = #GenSynthetics#3(::Float64, ::Array{Float64,1}, ::Array{Float64,2}, ::Function, ::DataFrame, ::DataFrame, ::Array{Symbol,1}, ::Array{Symbol,1}) at GenSynthetics_NLopt.jl:21\n",
      "└ @ Main C:\\Users\\Admin\\OneDrive\\IMF\\AERInsights\\Code\\GenSynthetics_NLopt.jl:21\n",
      "┌ Warning: `getindex(df::DataFrame, col_ind::ColumnIndex)` is deprecated, use `df[!, col_ind]` instead.\n",
      "│   caller = #GenSynthetics#3(::Float64, ::Array{Float64,1}, ::Array{Float64,2}, ::Function, ::DataFrame, ::DataFrame, ::Array{Symbol,1}, ::Array{Symbol,1}) at GenSynthetics_NLopt.jl:27\n",
      "└ @ Main C:\\Users\\Admin\\OneDrive\\IMF\\AERInsights\\Code\\GenSynthetics_NLopt.jl:27\n",
      "┌ Warning: `getindex(df::DataFrame, col_ind::ColumnIndex)` is deprecated, use `df[!, col_ind]` instead.\n",
      "│   caller = #GenSynthetics#3(::Float64, ::Array{Float64,1}, ::Array{Float64,2}, ::Function, ::DataFrame, ::DataFrame, ::Array{Symbol,1}, ::Array{Symbol,1}) at GenSynthetics_NLopt.jl:28\n",
      "└ @ Main C:\\Users\\Admin\\OneDrive\\IMF\\AERInsights\\Code\\GenSynthetics_NLopt.jl:28\n",
      "┌ Warning: `setindex!(df::DataFrame, v::AbstractVector, col_ind::ColumnIndex)` is deprecated, use `begin\n",
      "│     df[!, col_ind] = v\n",
      "│     df\n",
      "│ end` instead.\n",
      "│   caller = #GenSynthetics#3(::Float64, ::Array{Float64,1}, ::Array{Float64,2}, ::Function, ::DataFrame, ::DataFrame, ::Array{Symbol,1}, ::Array{Symbol,1}) at GenSynthetics_NLopt.jl:37\n",
      "└ @ Main C:\\Users\\Admin\\OneDrive\\IMF\\AERInsights\\Code\\GenSynthetics_NLopt.jl:37\n",
      "┌ Warning: `setindex!(df::DataFrame, v::AbstractVector, col_ind::ColumnIndex)` is deprecated, use `begin\n",
      "│     df[!, col_ind] = v\n",
      "│     df\n",
      "│ end` instead.\n",
      "│   caller = #GenSynthetics#3(::Float64, ::Array{Float64,1}, ::Array{Float64,2}, ::Function, ::DataFrame, ::DataFrame, ::Array{Symbol,1}, ::Array{Symbol,1}) at GenSynthetics_NLopt.jl:38\n",
      "└ @ Main C:\\Users\\Admin\\OneDrive\\IMF\\AERInsights\\Code\\GenSynthetics_NLopt.jl:38\n",
      "┌ Warning: `setindex!(df::DataFrame, v::AbstractVector, col_ind::ColumnIndex)` is deprecated, use `begin\n",
      "│     df[!, col_ind] = v\n",
      "│     df\n",
      "│ end` instead.\n",
      "│   caller = #GenSynthetics#3(::Float64, ::Array{Float64,1}, ::Array{Float64,2}, ::Function, ::DataFrame, ::DataFrame, ::Array{Symbol,1}, ::Array{Symbol,1}) at GenSynthetics_NLopt.jl:42\n",
      "└ @ Main C:\\Users\\Admin\\OneDrive\\IMF\\AERInsights\\Code\\GenSynthetics_NLopt.jl:42\n",
      "┌ Warning: `getindex(df::DataFrame, col_ind::ColumnIndex)` is deprecated, use `df[!, col_ind]` instead.\n",
      "│   caller = #GenSynthetics#3(::Float64, ::Array{Float64,1}, ::Array{Float64,2}, ::Function, ::DataFrame, ::DataFrame, ::Array{Symbol,1}, ::Array{Symbol,1}) at GenSynthetics_NLopt.jl:48\n",
      "└ @ Main C:\\Users\\Admin\\OneDrive\\IMF\\AERInsights\\Code\\GenSynthetics_NLopt.jl:48\n",
      "┌ Warning: `getindex(df::DataFrame, col_ind::ColumnIndex)` is deprecated, use `df[!, col_ind]` instead.\n",
      "│   caller = #GenSynthetics#3(::Float64, ::Array{Float64,1}, ::Array{Float64,2}, ::Function, ::DataFrame, ::DataFrame, ::Array{Symbol,1}, ::Array{Symbol,1}) at GenSynthetics_NLopt.jl:53\n",
      "└ @ Main C:\\Users\\Admin\\OneDrive\\IMF\\AERInsights\\Code\\GenSynthetics_NLopt.jl:53\n",
      "┌ Warning: `getindex(df::DataFrame, col_ind::ColumnIndex)` is deprecated, use `df[!, col_ind]` instead.\n",
      "│   caller = #GenSynthetics#3(::Float64, ::Array{Float64,1}, ::Array{Float64,2}, ::Function, ::DataFrame, ::DataFrame, ::Array{Symbol,1}, ::Array{Symbol,1}) at GenSynthetics_NLopt.jl:59\n",
      "└ @ Main C:\\Users\\Admin\\OneDrive\\IMF\\AERInsights\\Code\\GenSynthetics_NLopt.jl:59\n",
      "┌ Warning: `getindex(df::DataFrame, col_ind::ColumnIndex)` is deprecated, use `df[!, col_ind]` instead.\n",
      "│   caller = #GenSynthetics#3(::Float64, ::Array{Float64,1}, ::Array{Float64,2}, ::Function, ::DataFrame, ::DataFrame, ::Array{Symbol,1}, ::Array{Symbol,1}) at GenSynthetics_NLopt.jl:62\n",
      "└ @ Main C:\\Users\\Admin\\OneDrive\\IMF\\AERInsights\\Code\\GenSynthetics_NLopt.jl:62\n",
      "┌ Warning: `convert(::Type{Array}, df::AbstractDataFrame)` is deprecated, use `convert(Matrix, df)` instead.\n",
      "│   caller = #GenSynthetics#3(::Float64, ::Array{Float64,1}, ::Array{Float64,2}, ::Function, ::DataFrame, ::DataFrame, ::Array{Symbol,1}, ::Array{Symbol,1}) at GenSynthetics_NLopt.jl:66\n",
      "└ @ Main C:\\Users\\Admin\\OneDrive\\IMF\\AERInsights\\Code\\GenSynthetics_NLopt.jl:66\n",
      "┌ Warning: `convert(::Type{Array}, df::AbstractDataFrame)` is deprecated, use `convert(Matrix, df)` instead.\n",
      "│   caller = #GenSynthetics#3(::Float64, ::Array{Float64,1}, ::Array{Float64,2}, ::Function, ::DataFrame, ::DataFrame, ::Array{Symbol,1}, ::Array{Symbol,1}) at GenSynthetics_NLopt.jl:99\n",
      "└ @ Main C:\\Users\\Admin\\OneDrive\\IMF\\AERInsights\\Code\\GenSynthetics_NLopt.jl:99\n",
      "┌ Warning: `convert(::Type{Array}, dfr::DataFrameRow)` is deprecated, use `permutedims(Vector(dfr))` instead.\n",
      "│   caller = #GenSynthetics#3(::Float64, ::Array{Float64,1}, ::Array{Float64,2}, ::Function, ::DataFrame, ::DataFrame, ::Array{Symbol,1}, ::Array{Symbol,1}) at GenSynthetics_NLopt.jl:103\n",
      "└ @ Main C:\\Users\\Admin\\OneDrive\\IMF\\AERInsights\\Code\\GenSynthetics_NLopt.jl:103\n",
      "┌ Warning: `setindex!(df::DataFrame, v::AbstractVector, col_ind::ColumnIndex)` is deprecated, use `begin\n",
      "│     df[!, col_ind] = v\n",
      "│     df\n",
      "│ end` instead.\n",
      "│   caller = #GenSynthetics#3(::Float64, ::Array{Float64,1}, ::Array{Float64,2}, ::Function, ::DataFrame, ::DataFrame, ::Array{Symbol,1}, ::Array{Symbol,1}) at GenSynthetics_NLopt.jl:105\n",
      "└ @ Main C:\\Users\\Admin\\OneDrive\\IMF\\AERInsights\\Code\\GenSynthetics_NLopt.jl:105\n"
     ]
    }
   ],
   "source": [
    "include(\"AppendixDataTable.jl\")"
   ]
  },
  {
   "cell_type": "code",
   "execution_count": 117,
   "metadata": {
    "scrolled": true
   },
   "outputs": [
    {
     "data": {
      "text/html": [
       "<table class=\"data-frame\"><thead><tr><th></th><th>Country</th><th>year</th><th>rgdpe</th><th>pop</th><th>Gshare</th><th>GDPRank</th><th>CAB</th></tr><tr><th></th><th>String</th><th>Int64</th><th>Float64⍰</th><th>Float64⍰</th><th>Float64⍰</th><th>Float64⍰</th><th>Float64⍰</th></tr></thead><tbody><p>140 rows × 72 columns (omitted printing of 65 columns)</p><tr><th>1</th><td>Albania</td><td>1997</td><td>12886.2</td><td>3.09247</td><td>0.249426</td><td>0.34588</td><td>-13.0465</td></tr><tr><th>2</th><td>Argentina</td><td>1975</td><td>1.11644e5</td><td>26.067</td><td>0.0748918</td><td>0.427278</td><td>-1.6533</td></tr><tr><th>3</th><td>Argentina</td><td>1987</td><td>1.75065e5</td><td>31.3265</td><td>0.0893325</td><td>0.567852</td><td>-3.59341</td></tr><tr><th>4</th><td>Argentina</td><td>1989</td><td>1.80501e5</td><td>32.2636</td><td>0.115883</td><td>0.538273</td><td>1.23635</td></tr><tr><th>5</th><td>Argentina</td><td>1995</td><td>4.19159e5</td><td>34.9948</td><td>0.126188</td><td>1.06803</td><td>-1.8224</td></tr><tr><th>6</th><td>BENIN       </td><td>1988</td><td>6218.21</td><td>4.68537</td><td>0.142414</td><td>0.132286</td><td>-7.40606</td></tr><tr><th>7</th><td>BURKINA FASO</td><td>1990</td><td>8036.22</td><td>8.81103</td><td>0.168448</td><td>0.084447</td><td>-4.21941</td></tr><tr><th>8</th><td>BANGLADESH  </td><td>1987</td><td>1.17936e5</td><td>98.1493</td><td>0.132489</td><td>0.122097</td><td>-1.72386</td></tr><tr><th>9</th><td>Bulgaria</td><td>1990</td><td>1.06086e5</td><td>8.82111</td><td>0.423322</td><td>1.1135</td><td>-8.65041</td></tr><tr><th>10</th><td>Bulgaria</td><td>1996</td><td>70589.3</td><td>8.27466</td><td>0.237203</td><td>0.731073</td><td>4.6514</td></tr><tr><th>11</th><td>Belarus</td><td>2009</td><td>134128.0</td><td>9.50532</td><td>0.234898</td><td>0.812055</td><td>-12.0261</td></tr><tr><th>12</th><td>BOLIVIA     </td><td>1980</td><td>11840.1</td><td>5.58957</td><td>0.202786</td><td>0.186095</td><td>-0.200053</td></tr><tr><th>13</th><td>BOLIVIA     </td><td>1986</td><td>13687.8</td><td>6.33789</td><td>0.195768</td><td>0.227409</td><td>-7.6</td></tr><tr><th>14</th><td>BOLIVIA     </td><td>1994</td><td>19451.8</td><td>7.41886</td><td>0.288273</td><td>0.240371</td><td>-3.98863</td></tr><tr><th>15</th><td>Brazil</td><td>1982</td><td>6.89713e5</td><td>128.055</td><td>0.0699811</td><td>0.533467</td><td>-8.72476</td></tr><tr><th>16</th><td>Brazil</td><td>1987</td><td>8.89042e5</td><td>142.437</td><td>0.096418</td><td>0.634228</td><td>-0.479951</td></tr><tr><th>17</th><td>Brazil</td><td>1992</td><td>9.80539e5</td><td>155.379</td><td>0.147468</td><td>0.593721</td><td>1.53978</td></tr><tr><th>18</th><td>CENTRAL AFR. REP.</td><td>1994</td><td>3324.63</td><td>3.2537</td><td>0.208894</td><td>0.0936753</td><td>0.806499</td></tr><tr><th>19</th><td>COTE D'IVOIRE</td><td>1984</td><td>24531.3</td><td>9.7691</td><td>0.25524</td><td>0.25124</td><td>-1.08037</td></tr><tr><th>20</th><td>COTE D'IVOIRE</td><td>1988</td><td>27706.2</td><td>11.3371</td><td>0.234944</td><td>0.243594</td><td>-12.1287</td></tr><tr><th>21</th><td>COTE D'IVOIRE</td><td>1994</td><td>31801.4</td><td>13.9538</td><td>0.145564</td><td>0.208936</td><td>-0.16544</td></tr><tr><th>22</th><td>COTE D'IVOIRE</td><td>2001</td><td>40230.4</td><td>16.8654</td><td>0.108383</td><td>0.177063</td><td>-0.546976</td></tr><tr><th>23</th><td>CAMEROON    </td><td>1987</td><td>28276.6</td><td>11.0315</td><td>0.224741</td><td>0.260459</td><td>-6.37598</td></tr><tr><th>24</th><td>CAMEROON    </td><td>1994</td><td>27481.0</td><td>13.5468</td><td>0.10358</td><td>0.185975</td><td>-0.608958</td></tr><tr><th>25</th><td>CONGO, DEM. REP.</td><td>1976</td><td>39864.1</td><td>23.5568</td><td>0.37106</td><td>0.163893</td><td>-2.22726</td></tr><tr><th>26</th><td>CONGO, DEM. REP.</td><td>1983</td><td>51660.2</td><td>28.4481</td><td>0.259266</td><td>0.184871</td><td>-0.551378</td></tr><tr><th>27</th><td>CONGO, DEM. REP.</td><td>1989</td><td>59201.5</td><td>33.7631</td><td>0.262922</td><td>0.168705</td><td>-2.15475</td></tr><tr><th>28</th><td>CONGO, DEM. REP.</td><td>2009</td><td>21503.3</td><td>63.8451</td><td>0.628338</td><td>0.0193825</td><td>-6.13207</td></tr><tr><th>29</th><td>CONGO, REP</td><td>1986</td><td>4960.77</td><td>2.14253</td><td>0.539645</td><td>0.243805</td><td>-34.4048</td></tr><tr><th>30</th><td>CONGO, REP</td><td>1994</td><td>3782.61</td><td>2.64996</td><td>0.346757</td><td>0.130861</td><td>-44.8406</td></tr><tr><th>&vellip;</th><td>&vellip;</td><td>&vellip;</td><td>&vellip;</td><td>&vellip;</td><td>&vellip;</td><td>&vellip;</td><td>&vellip;</td></tr></tbody></table>"
      ],
      "text/latex": [
       "\\begin{tabular}{r|cccccccc}\n",
       "\t& Country & year & rgdpe & pop & Gshare & GDPRank & CAB & \\\\\n",
       "\t\\hline\n",
       "\t& String & Int64 & Float64⍰ & Float64⍰ & Float64⍰ & Float64⍰ & Float64⍰ & \\\\\n",
       "\t\\hline\n",
       "\t1 & Albania & 1997 & 12886.2 & 3.09247 & 0.249426 & 0.34588 & -13.0465 & $\\dots$ \\\\\n",
       "\t2 & Argentina & 1975 & 1.11644e5 & 26.067 & 0.0748918 & 0.427278 & -1.6533 & $\\dots$ \\\\\n",
       "\t3 & Argentina & 1987 & 1.75065e5 & 31.3265 & 0.0893325 & 0.567852 & -3.59341 & $\\dots$ \\\\\n",
       "\t4 & Argentina & 1989 & 1.80501e5 & 32.2636 & 0.115883 & 0.538273 & 1.23635 & $\\dots$ \\\\\n",
       "\t5 & Argentina & 1995 & 4.19159e5 & 34.9948 & 0.126188 & 1.06803 & -1.8224 & $\\dots$ \\\\\n",
       "\t6 & BENIN        & 1988 & 6218.21 & 4.68537 & 0.142414 & 0.132286 & -7.40606 & $\\dots$ \\\\\n",
       "\t7 & BURKINA FASO & 1990 & 8036.22 & 8.81103 & 0.168448 & 0.084447 & -4.21941 & $\\dots$ \\\\\n",
       "\t8 & BANGLADESH   & 1987 & 1.17936e5 & 98.1493 & 0.132489 & 0.122097 & -1.72386 & $\\dots$ \\\\\n",
       "\t9 & Bulgaria & 1990 & 1.06086e5 & 8.82111 & 0.423322 & 1.1135 & -8.65041 & $\\dots$ \\\\\n",
       "\t10 & Bulgaria & 1996 & 70589.3 & 8.27466 & 0.237203 & 0.731073 & 4.6514 & $\\dots$ \\\\\n",
       "\t11 & Belarus & 2009 & 134128.0 & 9.50532 & 0.234898 & 0.812055 & -12.0261 & $\\dots$ \\\\\n",
       "\t12 & BOLIVIA      & 1980 & 11840.1 & 5.58957 & 0.202786 & 0.186095 & -0.200053 & $\\dots$ \\\\\n",
       "\t13 & BOLIVIA      & 1986 & 13687.8 & 6.33789 & 0.195768 & 0.227409 & -7.6 & $\\dots$ \\\\\n",
       "\t14 & BOLIVIA      & 1994 & 19451.8 & 7.41886 & 0.288273 & 0.240371 & -3.98863 & $\\dots$ \\\\\n",
       "\t15 & Brazil & 1982 & 6.89713e5 & 128.055 & 0.0699811 & 0.533467 & -8.72476 & $\\dots$ \\\\\n",
       "\t16 & Brazil & 1987 & 8.89042e5 & 142.437 & 0.096418 & 0.634228 & -0.479951 & $\\dots$ \\\\\n",
       "\t17 & Brazil & 1992 & 9.80539e5 & 155.379 & 0.147468 & 0.593721 & 1.53978 & $\\dots$ \\\\\n",
       "\t18 & CENTRAL AFR. REP. & 1994 & 3324.63 & 3.2537 & 0.208894 & 0.0936753 & 0.806499 & $\\dots$ \\\\\n",
       "\t19 & COTE D'IVOIRE & 1984 & 24531.3 & 9.7691 & 0.25524 & 0.25124 & -1.08037 & $\\dots$ \\\\\n",
       "\t20 & COTE D'IVOIRE & 1988 & 27706.2 & 11.3371 & 0.234944 & 0.243594 & -12.1287 & $\\dots$ \\\\\n",
       "\t21 & COTE D'IVOIRE & 1994 & 31801.4 & 13.9538 & 0.145564 & 0.208936 & -0.16544 & $\\dots$ \\\\\n",
       "\t22 & COTE D'IVOIRE & 2001 & 40230.4 & 16.8654 & 0.108383 & 0.177063 & -0.546976 & $\\dots$ \\\\\n",
       "\t23 & CAMEROON     & 1987 & 28276.6 & 11.0315 & 0.224741 & 0.260459 & -6.37598 & $\\dots$ \\\\\n",
       "\t24 & CAMEROON     & 1994 & 27481.0 & 13.5468 & 0.10358 & 0.185975 & -0.608958 & $\\dots$ \\\\\n",
       "\t25 & CONGO, DEM. REP. & 1976 & 39864.1 & 23.5568 & 0.37106 & 0.163893 & -2.22726 & $\\dots$ \\\\\n",
       "\t26 & CONGO, DEM. REP. & 1983 & 51660.2 & 28.4481 & 0.259266 & 0.184871 & -0.551378 & $\\dots$ \\\\\n",
       "\t27 & CONGO, DEM. REP. & 1989 & 59201.5 & 33.7631 & 0.262922 & 0.168705 & -2.15475 & $\\dots$ \\\\\n",
       "\t28 & CONGO, DEM. REP. & 2009 & 21503.3 & 63.8451 & 0.628338 & 0.0193825 & -6.13207 & $\\dots$ \\\\\n",
       "\t29 & CONGO, REP & 1986 & 4960.77 & 2.14253 & 0.539645 & 0.243805 & -34.4048 & $\\dots$ \\\\\n",
       "\t30 & CONGO, REP & 1994 & 3782.61 & 2.64996 & 0.346757 & 0.130861 & -44.8406 & $\\dots$ \\\\\n",
       "\t$\\dots$ & $\\dots$ & $\\dots$ & $\\dots$ & $\\dots$ & $\\dots$ & $\\dots$ & $\\dots$ &  \\\\\n",
       "\\end{tabular}\n"
      ],
      "text/plain": [
       "140×72 DataFrame. Omitted printing of 66 columns\n",
       "│ Row │ Country      │ year  │ rgdpe     │ pop      │ Gshare    │ GDPRank   │\n",
       "│     │ \u001b[90mString\u001b[39m       │ \u001b[90mInt64\u001b[39m │ \u001b[90mFloat64⍰\u001b[39m  │ \u001b[90mFloat64⍰\u001b[39m │ \u001b[90mFloat64⍰\u001b[39m  │ \u001b[90mFloat64⍰\u001b[39m  │\n",
       "├─────┼──────────────┼───────┼───────────┼──────────┼───────────┼───────────┤\n",
       "│ 1   │ Albania      │ 1997  │ 12886.2   │ 3.09247  │ 0.249426  │ 0.34588   │\n",
       "│ 2   │ Argentina    │ 1975  │ 1.11644e5 │ 26.067   │ 0.0748918 │ 0.427278  │\n",
       "│ 3   │ Argentina    │ 1987  │ 1.75065e5 │ 31.3265  │ 0.0893325 │ 0.567852  │\n",
       "│ 4   │ Argentina    │ 1989  │ 1.80501e5 │ 32.2636  │ 0.115883  │ 0.538273  │\n",
       "│ 5   │ Argentina    │ 1995  │ 4.19159e5 │ 34.9948  │ 0.126188  │ 1.06803   │\n",
       "│ 6   │ BENIN        │ 1988  │ 6218.21   │ 4.68537  │ 0.142414  │ 0.132286  │\n",
       "│ 7   │ BURKINA FASO │ 1990  │ 8036.22   │ 8.81103  │ 0.168448  │ 0.084447  │\n",
       "│ 8   │ BANGLADESH   │ 1987  │ 1.17936e5 │ 98.1493  │ 0.132489  │ 0.122097  │\n",
       "│ 9   │ Bulgaria     │ 1990  │ 1.06086e5 │ 8.82111  │ 0.423322  │ 1.1135    │\n",
       "│ 10  │ Bulgaria     │ 1996  │ 70589.3   │ 8.27466  │ 0.237203  │ 0.731073  │\n",
       "⋮\n",
       "│ 130 │ Uruguay      │ 1981  │ 28288.7   │ 2.93504  │ 0.142414  │ 0.881394  │\n",
       "│ 131 │ Uruguay      │ 1983  │ 22943.0   │ 2.97346  │ 0.176519  │ 0.785515  │\n",
       "│ 132 │ Uruguay      │ 1990  │ 27874.7   │ 3.10999  │ 0.2106    │ 0.829872  │\n",
       "│ 133 │ Uruguay      │ 2002  │ 31942.2   │ 3.32777  │ 0.128723  │ 0.700452  │\n",
       "│ 134 │ UZBEKISTAN   │ 1994  │ 85906.9   │ 22.2761  │ 0.527966  │ 0.353547  │\n",
       "│ 135 │ Venezuela    │ 1989  │ 1.5344e5  │ 19.3883  │ 0.319834  │ 0.76144   │\n",
       "│ 136 │ ZAMBIA       │ 1983  │ 10400.4   │ 6.57167  │ 0.513516  │ 0.161116  │\n",
       "│ 137 │ ZAMBIA       │ 1995  │ 9223.97   │ 9.25353  │ 0.122546  │ 0.0888826 │\n",
       "│ 138 │ ZIMBABWE     │ 1983  │ 28736.4   │ 8.19756  │ 0.330427  │ 0.356873  │\n",
       "│ 139 │ ZIMBABWE     │ 1991  │ 52277.5   │ 10.763   │ 0.207964  │ 0.4604    │\n",
       "│ 140 │ ZIMBABWE     │ 1998  │ 45291.7   │ 12.2267  │ 0.14348   │ 0.301674  │"
      ]
     },
     "execution_count": 117,
     "metadata": {},
     "output_type": "execute_result"
    }
   ],
   "source": [
    "f = IMFCrises[IMFCrises[:year].>1965]"
   ]
  },
  {
   "cell_type": "code",
   "execution_count": 116,
   "metadata": {},
   "outputs": [
    {
     "ename": "MethodError",
     "evalue": "MethodError: no method matching getindex(::DataFrameRow{DataFrame,DataFrames.SubIndex{DataFrames.Index,Array{Int32,1},Array{Int32,1}}}, ::Int32, ::Colon)\nClosest candidates are:\n  getindex(::DataFrameRow, ::Union{Signed, Symbol, Unsigned}) at C:\\Users\\Admin\\.julia\\packages\\DataFrames\\yH0f6\\src\\dataframerow\\dataframerow.jl:95\n  getindex(::DataFrameRow, !Matched::Union{Regex, AbstractArray{T,1} where T, All, Between, InvertedIndex}) at C:\\Users\\Admin\\.julia\\packages\\DataFrames\\yH0f6\\src\\dataframerow\\dataframerow.jl:97\n  getindex(::DataFrameRow, !Matched::Colon) at C:\\Users\\Admin\\.julia\\packages\\DataFrames\\yH0f6\\src\\dataframerow\\dataframerow.jl:99",
     "output_type": "error",
     "traceback": [
      "MethodError: no method matching getindex(::DataFrameRow{DataFrame,DataFrames.SubIndex{DataFrames.Index,Array{Int32,1},Array{Int32,1}}}, ::Int32, ::Colon)\nClosest candidates are:\n  getindex(::DataFrameRow, ::Union{Signed, Symbol, Unsigned}) at C:\\Users\\Admin\\.julia\\packages\\DataFrames\\yH0f6\\src\\dataframerow\\dataframerow.jl:95\n  getindex(::DataFrameRow, !Matched::Union{Regex, AbstractArray{T,1} where T, All, Between, InvertedIndex}) at C:\\Users\\Admin\\.julia\\packages\\DataFrames\\yH0f6\\src\\dataframerow\\dataframerow.jl:97\n  getindex(::DataFrameRow, !Matched::Colon) at C:\\Users\\Admin\\.julia\\packages\\DataFrames\\yH0f6\\src\\dataframerow\\dataframerow.jl:99",
      "",
      "Stacktrace:",
      " [1] top-level scope at In[116]:1"
     ]
    }
   ],
   "source": [
    "Temp[1,:]"
   ]
  },
  {
   "cell_type": "code",
   "execution_count": 109,
   "metadata": {},
   "outputs": [
    {
     "data": {
      "text/html": [
       "<table class=\"data-frame\"><thead><tr><th></th><th>Country</th><th>year</th></tr><tr><th></th><th>String</th><th>Int64</th></tr></thead><tbody><p>1 rows × 2 columns</p><tr><th>1</th><td>Albania</td><td>1997</td></tr></tbody></table>"
      ],
      "text/latex": [
       "\\begin{tabular}{r|cc}\n",
       "\t& Country & year\\\\\n",
       "\t\\hline\n",
       "\t& String & Int64\\\\\n",
       "\t\\hline\n",
       "\t1 & Albania & 1997 \\\\\n",
       "\\end{tabular}\n"
      ],
      "text/plain": [
       "1×2 DataFrame\n",
       "│ Row │ Country │ year  │\n",
       "│     │ \u001b[90mString\u001b[39m  │ \u001b[90mInt64\u001b[39m │\n",
       "├─────┼─────────┼───────┤\n",
       "│ 1   │ Albania │ 1997  │"
      ]
     },
     "execution_count": 109,
     "metadata": {},
     "output_type": "execute_result"
    }
   ],
   "source": [
    "Temp= DataFrame(IMFCrises[1,[:Country, :year]])"
   ]
  },
  {
   "cell_type": "code",
   "execution_count": 2,
   "metadata": {
    "scrolled": true
   },
   "outputs": [
    {
     "name": "stdout",
     "output_type": "stream",
     "text": [
      "This function takes: matching variables, weights on these matches, outcomes to predict, and Pool DataFrame as arguments and returns two DataFrames: placebos that have matches and then their synthetic controls.\n",
      "Number of total crises for path is 336\n"
     ]
    },
    {
     "name": "stderr",
     "output_type": "stream",
     "text": [
      "┌ Warning: `getindex(df::DataFrame, col_ind::ColumnIndex)` is deprecated, use `df[!, col_ind]` instead.\n",
      "│   caller = top-level scope at In[2]:27\n",
      "└ @ Core .\\In[2]:27\n",
      "┌ Warning: `setindex!(df::DataFrame, v::AbstractVector, col_ind::ColumnIndex)` is deprecated, use `begin\n",
      "│     df[!, col_ind] = v\n",
      "│     df\n",
      "│ end` instead.\n",
      "│   caller = top-level scope at In[2]:27\n",
      "└ @ Core .\\In[2]:27\n",
      "┌ Warning: `setindex!(df::DataFrame, v::AbstractVector, col_ind::ColumnIndex)` is deprecated, use `begin\n",
      "│     df[!, col_ind] = v\n",
      "│     df\n",
      "│ end` instead.\n",
      "│   caller = top-level scope at In[2]:30\n",
      "└ @ Core In[2]:30\n",
      "┌ Warning: `setindex!(df::DataFrame, v::AbstractVector, col_ind::ColumnIndex)` is deprecated, use `begin\n",
      "│     df[!, col_ind] = v\n",
      "│     df\n",
      "│ end` instead.\n",
      "│   caller = top-level scope at In[2]:36\n",
      "└ @ Core In[2]:36\n"
     ]
    },
    {
     "data": {
      "text/html": [
       "<table class=\"data-frame\"><thead><tr><th></th><th>Country</th><th>year</th><th>rgdpe</th><th>pop</th><th>Gshare</th><th>GDPRank</th><th>CAB</th></tr><tr><th></th><th>String</th><th>Int64</th><th>Float64⍰</th><th>Float64⍰</th><th>Float64⍰</th><th>Float64⍰</th><th>Float64⍰</th></tr></thead><tbody><p>141 rows × 71 columns (omitted printing of 64 columns)</p><tr><th>1</th><td>ANGOLA      </td><td>1991</td><td>27015.7</td><td>11.4722</td><td>0.10119</td><td>0.223216</td><td>-5.3216</td></tr><tr><th>2</th><td>ANGOLA      </td><td>1996</td><td>42065.9</td><td>13.4248</td><td>0.0263607</td><td>0.268531</td><td>49.9795</td></tr><tr><th>3</th><td>Albania</td><td>1990</td><td>13103.8</td><td>3.28145</td><td>0.145067</td><td>0.369734</td><td>-4.31294</td></tr><tr><th>4</th><td>Albania</td><td>1994</td><td>12423.7</td><td>3.14063</td><td>0.206342</td><td>0.362653</td><td>-3.70618</td></tr><tr><th>5</th><td>Argentina</td><td>1980</td><td>1.28657e5</td><td>28.1059</td><td>0.0784215</td><td>0.402154</td><td>-1.13581</td></tr><tr><th>6</th><td>Austria</td><td>2008</td><td>3.53267e5</td><td>8.33146</td><td>0.153254</td><td>2.28405</td><td>4.5182</td></tr><tr><th>7</th><td>BURUNDI     </td><td>1994</td><td>4460.05</td><td>6.13404</td><td>0.114076</td><td>0.0666579</td><td>1.65049</td></tr><tr><th>8</th><td>Belgium</td><td>2008</td><td>4.22803e5</td><td>10.7792</td><td>0.179589</td><td>2.1129</td><td>-0.999249</td></tr><tr><th>9</th><td>BENIN       </td><td>1994</td><td>6100.06</td><td>5.78679</td><td>0.104374</td><td>0.0966395</td><td>-2.47704</td></tr><tr><th>10</th><td>BURKINA FASO</td><td>1994</td><td>8446.5</td><td>9.81659</td><td>0.188506</td><td>0.0788815</td><td>-0.977654</td></tr><tr><th>11</th><td>BANGLADESH  </td><td>1976</td><td>84864.7</td><td>72.9302</td><td>0.161996</td><td>0.112697</td><td>-3.67683</td></tr><tr><th>12</th><td>Belarus</td><td>1999</td><td>78521.0</td><td>10.0053</td><td>0.335149</td><td>0.617365</td><td>-1.60085</td></tr><tr><th>13</th><td>BOLIVIA     </td><td>1973</td><td>8801.63</td><td>4.79851</td><td>0.180061</td><td>0.188519</td><td>missing</td></tr><tr><th>14</th><td>Brazil</td><td>1976</td><td>5.80594e5</td><td>111.076</td><td>0.105939</td><td>0.506227</td><td>-6.45638</td></tr><tr><th>15</th><td>Brazil</td><td>1990</td><td>8.85781e5</td><td>150.393</td><td>0.116191</td><td>0.545327</td><td>-0.796643</td></tr><tr><th>16</th><td>Brazil</td><td>1994</td><td>1.19028e6</td><td>160.261</td><td>0.197337</td><td>0.680897</td><td>-0.301038</td></tr><tr><th>17</th><td>Botswana</td><td>1984</td><td>3184.81</td><td>1.14472</td><td>0.336498</td><td>0.278361</td><td>-4.89192</td></tr><tr><th>18</th><td>CENTRAL AFR. REP.</td><td>1976</td><td>2418.51</td><td>2.06155</td><td>0.258714</td><td>0.113618</td><td>14.3398</td></tr><tr><th>19</th><td>Switzerland</td><td>2008</td><td>3.99927e5</td><td>7.64654</td><td>0.0704789</td><td>2.81735</td><td>2.42533</td></tr><tr><th>20</th><td>Chile</td><td>1972</td><td>74193.3</td><td>9.91656</td><td>0.210221</td><td>0.796767</td><td>missing</td></tr><tr><th>21</th><td>Chile</td><td>1976</td><td>60226.3</td><td>10.5842</td><td>0.261561</td><td>0.551086</td><td>1.43594</td></tr><tr><th>22</th><td>China</td><td>1998</td><td>4.65212e6</td><td>1255.26</td><td>0.221509</td><td>0.301818</td><td>3.04786</td></tr><tr><th>23</th><td>CAMEROON    </td><td>1989</td><td>27909.4</td><td>11.717</td><td>0.189709</td><td>0.229177</td><td>-2.28658</td></tr><tr><th>24</th><td>CONGO, DEM. REP.</td><td>1991</td><td>38473.4</td><td>36.3092</td><td>0.235388</td><td>0.100438</td><td>-2.3459</td></tr><tr><th>25</th><td>CONGO, DEM. REP.</td><td>1994</td><td>31861.5</td><td>40.804</td><td>0.148766</td><td>0.0715849</td><td>-1.07925</td></tr><tr><th>26</th><td>CONGO, DEM. REP.</td><td>1999</td><td>28245.6</td><td>46.7882</td><td>0.084224</td><td>0.0474896</td><td>-0.588249</td></tr><tr><th>27</th><td>CONGO, REP</td><td>1992</td><td>3983.93</td><td>2.51491</td><td>0.394159</td><td>0.149039</td><td>-10.7934</td></tr><tr><th>28</th><td>Colombia</td><td>1982</td><td>1.94423e5</td><td>29.0272</td><td>0.104241</td><td>0.663402</td><td>-5.28557</td></tr><tr><th>29</th><td>Colombia</td><td>1985</td><td>1.99257e5</td><td>31.0117</td><td>0.0937712</td><td>0.65126</td><td>-3.26536</td></tr><tr><th>30</th><td>COMOROS     </td><td>1994</td><td>726.98</td><td>0.466309</td><td>0.380701</td><td>0.142925</td><td>-3.87744</td></tr><tr><th>&vellip;</th><td>&vellip;</td><td>&vellip;</td><td>&vellip;</td><td>&vellip;</td><td>&vellip;</td><td>&vellip;</td><td>&vellip;</td></tr></tbody></table>"
      ],
      "text/latex": [
       "\\begin{tabular}{r|cccccccc}\n",
       "\t& Country & year & rgdpe & pop & Gshare & GDPRank & CAB & \\\\\n",
       "\t\\hline\n",
       "\t& String & Int64 & Float64⍰ & Float64⍰ & Float64⍰ & Float64⍰ & Float64⍰ & \\\\\n",
       "\t\\hline\n",
       "\t1 & ANGOLA       & 1991 & 27015.7 & 11.4722 & 0.10119 & 0.223216 & -5.3216 & $\\dots$ \\\\\n",
       "\t2 & ANGOLA       & 1996 & 42065.9 & 13.4248 & 0.0263607 & 0.268531 & 49.9795 & $\\dots$ \\\\\n",
       "\t3 & Albania & 1990 & 13103.8 & 3.28145 & 0.145067 & 0.369734 & -4.31294 & $\\dots$ \\\\\n",
       "\t4 & Albania & 1994 & 12423.7 & 3.14063 & 0.206342 & 0.362653 & -3.70618 & $\\dots$ \\\\\n",
       "\t5 & Argentina & 1980 & 1.28657e5 & 28.1059 & 0.0784215 & 0.402154 & -1.13581 & $\\dots$ \\\\\n",
       "\t6 & Austria & 2008 & 3.53267e5 & 8.33146 & 0.153254 & 2.28405 & 4.5182 & $\\dots$ \\\\\n",
       "\t7 & BURUNDI      & 1994 & 4460.05 & 6.13404 & 0.114076 & 0.0666579 & 1.65049 & $\\dots$ \\\\\n",
       "\t8 & Belgium & 2008 & 4.22803e5 & 10.7792 & 0.179589 & 2.1129 & -0.999249 & $\\dots$ \\\\\n",
       "\t9 & BENIN        & 1994 & 6100.06 & 5.78679 & 0.104374 & 0.0966395 & -2.47704 & $\\dots$ \\\\\n",
       "\t10 & BURKINA FASO & 1994 & 8446.5 & 9.81659 & 0.188506 & 0.0788815 & -0.977654 & $\\dots$ \\\\\n",
       "\t11 & BANGLADESH   & 1976 & 84864.7 & 72.9302 & 0.161996 & 0.112697 & -3.67683 & $\\dots$ \\\\\n",
       "\t12 & Belarus & 1999 & 78521.0 & 10.0053 & 0.335149 & 0.617365 & -1.60085 & $\\dots$ \\\\\n",
       "\t13 & BOLIVIA      & 1973 & 8801.63 & 4.79851 & 0.180061 & 0.188519 &  & $\\dots$ \\\\\n",
       "\t14 & Brazil & 1976 & 5.80594e5 & 111.076 & 0.105939 & 0.506227 & -6.45638 & $\\dots$ \\\\\n",
       "\t15 & Brazil & 1990 & 8.85781e5 & 150.393 & 0.116191 & 0.545327 & -0.796643 & $\\dots$ \\\\\n",
       "\t16 & Brazil & 1994 & 1.19028e6 & 160.261 & 0.197337 & 0.680897 & -0.301038 & $\\dots$ \\\\\n",
       "\t17 & Botswana & 1984 & 3184.81 & 1.14472 & 0.336498 & 0.278361 & -4.89192 & $\\dots$ \\\\\n",
       "\t18 & CENTRAL AFR. REP. & 1976 & 2418.51 & 2.06155 & 0.258714 & 0.113618 & 14.3398 & $\\dots$ \\\\\n",
       "\t19 & Switzerland & 2008 & 3.99927e5 & 7.64654 & 0.0704789 & 2.81735 & 2.42533 & $\\dots$ \\\\\n",
       "\t20 & Chile & 1972 & 74193.3 & 9.91656 & 0.210221 & 0.796767 &  & $\\dots$ \\\\\n",
       "\t21 & Chile & 1976 & 60226.3 & 10.5842 & 0.261561 & 0.551086 & 1.43594 & $\\dots$ \\\\\n",
       "\t22 & China & 1998 & 4.65212e6 & 1255.26 & 0.221509 & 0.301818 & 3.04786 & $\\dots$ \\\\\n",
       "\t23 & CAMEROON     & 1989 & 27909.4 & 11.717 & 0.189709 & 0.229177 & -2.28658 & $\\dots$ \\\\\n",
       "\t24 & CONGO, DEM. REP. & 1991 & 38473.4 & 36.3092 & 0.235388 & 0.100438 & -2.3459 & $\\dots$ \\\\\n",
       "\t25 & CONGO, DEM. REP. & 1994 & 31861.5 & 40.804 & 0.148766 & 0.0715849 & -1.07925 & $\\dots$ \\\\\n",
       "\t26 & CONGO, DEM. REP. & 1999 & 28245.6 & 46.7882 & 0.084224 & 0.0474896 & -0.588249 & $\\dots$ \\\\\n",
       "\t27 & CONGO, REP & 1992 & 3983.93 & 2.51491 & 0.394159 & 0.149039 & -10.7934 & $\\dots$ \\\\\n",
       "\t28 & Colombia & 1982 & 1.94423e5 & 29.0272 & 0.104241 & 0.663402 & -5.28557 & $\\dots$ \\\\\n",
       "\t29 & Colombia & 1985 & 1.99257e5 & 31.0117 & 0.0937712 & 0.65126 & -3.26536 & $\\dots$ \\\\\n",
       "\t30 & COMOROS      & 1994 & 726.98 & 0.466309 & 0.380701 & 0.142925 & -3.87744 & $\\dots$ \\\\\n",
       "\t$\\dots$ & $\\dots$ & $\\dots$ & $\\dots$ & $\\dots$ & $\\dots$ & $\\dots$ & $\\dots$ &  \\\\\n",
       "\\end{tabular}\n"
      ],
      "text/plain": [
       "141×71 DataFrame. Omitted printing of 65 columns\n",
       "│ Row │ Country       │ year  │ rgdpe     │ pop      │ Gshare    │ GDPRank   │\n",
       "│     │ \u001b[90mString\u001b[39m        │ \u001b[90mInt64\u001b[39m │ \u001b[90mFloat64⍰\u001b[39m  │ \u001b[90mFloat64⍰\u001b[39m │ \u001b[90mFloat64⍰\u001b[39m  │ \u001b[90mFloat64⍰\u001b[39m  │\n",
       "├─────┼───────────────┼───────┼───────────┼──────────┼───────────┼───────────┤\n",
       "│ 1   │ ANGOLA        │ 1991  │ 27015.7   │ 11.4722  │ 0.10119   │ 0.223216  │\n",
       "│ 2   │ ANGOLA        │ 1996  │ 42065.9   │ 13.4248  │ 0.0263607 │ 0.268531  │\n",
       "│ 3   │ Albania       │ 1990  │ 13103.8   │ 3.28145  │ 0.145067  │ 0.369734  │\n",
       "│ 4   │ Albania       │ 1994  │ 12423.7   │ 3.14063  │ 0.206342  │ 0.362653  │\n",
       "│ 5   │ Argentina     │ 1980  │ 1.28657e5 │ 28.1059  │ 0.0784215 │ 0.402154  │\n",
       "│ 6   │ Austria       │ 2008  │ 3.53267e5 │ 8.33146  │ 0.153254  │ 2.28405   │\n",
       "│ 7   │ BURUNDI       │ 1994  │ 4460.05   │ 6.13404  │ 0.114076  │ 0.0666579 │\n",
       "│ 8   │ Belgium       │ 2008  │ 4.22803e5 │ 10.7792  │ 0.179589  │ 2.1129    │\n",
       "│ 9   │ BENIN         │ 1994  │ 6100.06   │ 5.78679  │ 0.104374  │ 0.0966395 │\n",
       "│ 10  │ BURKINA FASO  │ 1994  │ 8446.5    │ 9.81659  │ 0.188506  │ 0.0788815 │\n",
       "⋮\n",
       "│ 131 │ United States │ 1988  │ 8.74827e6 │ 247.865  │ 0.112661  │ 3.51803   │\n",
       "│ 132 │ United States │ 2007  │ 1.5606e7  │ 301.656  │ 0.110963  │ 2.88782   │\n",
       "│ 133 │ UZBEKISTAN    │ 2000  │ 99108.8   │ 24.5182  │ 0.513663  │ 0.299907  │\n",
       "│ 134 │ Venezuela     │ 1982  │ 1.50148e5 │ 16.1859  │ 0.252959  │ 0.918795  │\n",
       "│ 135 │ Venezuela     │ 1984  │ 1.57743e5 │ 17.0578  │ 0.242385  │ 0.925233  │\n",
       "│ 136 │ Venezuela     │ 1994  │ 1.61054e5 │ 21.7268  │ 0.296262  │ 0.679572  │\n",
       "│ 137 │ Venezuela     │ 2002  │ 1.69759e5 │ 25.3991  │ 0.144703  │ 0.487731  │\n",
       "│ 138 │ VIETNAM       │ 1997  │ 1.43914e5 │ 77.4604  │ 0.165057  │ 0.154216  │\n",
       "│ 139 │ South Africa  │ 1984  │ 294247.0  │ 32.205   │ 0.135848  │ 0.914138  │\n",
       "│ 140 │ ZAMBIA        │ 1989  │ 10856.1   │ 7.92103  │ 0.22879   │ 0.131864  │\n",
       "│ 141 │ ZIMBABWE      │ 2003  │ 23336.7   │ 12.7742  │ 0.164606  │ 0.129989  │"
      ]
     },
     "execution_count": 2,
     "metadata": {},
     "output_type": "execute_result"
    }
   ],
   "source": [
    "using Plots\n",
    "using Statistics\n",
    "using ColorTypes\n",
    "using DataFrames\n",
    "using CSV\n",
    "using Ipopt\n",
    "using NLopt\n",
    "using LinearAlgebra\n",
    "using StatsPlots\n",
    "include(\"LinearRegression.jl\")\n",
    "include(\"RunningPlacebosFunction.jl\")\n",
    "\n",
    "CurrentPath = \"C:\\\\Users\\\\Admin\\\\OneDrive\\\\IMF\\\\AERInsights\\\\\"\n",
    "\n",
    "#############################################################\n",
    "# Things to define for entire paper                         #\n",
    "#############################################################\n",
    "t = collect(-5:1:6)\n",
    "growths = [:LGrowth5, :LGrowth4, :LGrowth3, :LGrowth2, :LGrowth1, :DWDI, :FGrowth1, :FGrowth2, :FGrowth3, :FGrowth4, :FGrowth5, :FGrowth6]\n",
    "treatedblue = :black\n",
    "controlred = RGB(120/255, 120/255, 120/255)\n",
    "\n",
    "AllData\t\t\t\t\t= CSV.read(string(CurrentPath,\"Data\\\\MasterData.csv\"))\n",
    "NAllCrises \t\t\t\t= size(AllData)[1]\n",
    "println(\"Number of total crises for path is $NAllCrises\")\n",
    "\t\tfor z in (:Banking, :Currency, :Debt)\n",
    "       \t\tAllData[z] = AllData[z]*.5*2\n",
    "\t\tend\n",
    "IMFCrises \t\t\t\t= AllData[AllData[:, :IMF].==1, :]\n",
    "IMFCrises[:i]\t\t\t= collect(1:1:size(IMFCrises)[1])\n",
    "IMFCrisesGrowths\t\t= IMFCrises[:,[growths; :i]]\n",
    "IMFCrisesGrowths \t\t= IMFCrises[completecases(IMFCrisesGrowths), :]\n",
    "IMFCrises \t\t\t\t= join(IMFCrises, IMFCrisesGrowths, on=:i, kind=:inner, makeunique=true)\n",
    "\n",
    "NoIMFCrises\t\t\t\t= AllData[AllData[:, :IMF].==0, :]\n",
    "NoIMFCrises[:i]\t\t\t= collect(1:1:size(NoIMFCrises)[1])\n",
    "NoIMFCrisesGrowths \t\t= NoIMFCrises[:,[growths; :i]]\n",
    "NoIMFCrisesGrowths \t\t= NoIMFCrises[completecases(NoIMFCrisesGrowths), :]\n",
    "NoIMFCrises \t\t\t= join(NoIMFCrises, NoIMFCrisesGrowths, on=:i, kind=:inner, makeunique=true)\n",
    "\n"
   ]
  },
  {
   "cell_type": "code",
   "execution_count": 3,
   "metadata": {
    "jupyter": {
     "outputs_hidden": true
    }
   },
   "outputs": [
    {
     "data": {
      "text/html": [
       "<table class=\"data-frame\"><thead><tr><th></th><th>Country</th><th>year</th><th>rgdpe</th><th>pop</th><th>Gshare</th><th>GDPRank</th><th>CAB</th></tr><tr><th></th><th>String</th><th>Int64</th><th>Float64⍰</th><th>Float64⍰</th><th>Float64⍰</th><th>Float64⍰</th><th>Float64⍰</th></tr></thead><tbody><p>140 rows × 71 columns (omitted printing of 64 columns)</p><tr><th>1</th><td>Albania</td><td>1997</td><td>12886.2</td><td>3.09247</td><td>0.249426</td><td>0.34588</td><td>-13.0465</td></tr><tr><th>2</th><td>Argentina</td><td>1975</td><td>1.11644e5</td><td>26.067</td><td>0.0748918</td><td>0.427278</td><td>-1.6533</td></tr><tr><th>3</th><td>Argentina</td><td>1987</td><td>1.75065e5</td><td>31.3265</td><td>0.0893325</td><td>0.567852</td><td>-3.59341</td></tr><tr><th>4</th><td>Argentina</td><td>1989</td><td>1.80501e5</td><td>32.2636</td><td>0.115883</td><td>0.538273</td><td>1.23635</td></tr><tr><th>5</th><td>Argentina</td><td>1995</td><td>4.19159e5</td><td>34.9948</td><td>0.126188</td><td>1.06803</td><td>-1.8224</td></tr><tr><th>6</th><td>BENIN       </td><td>1988</td><td>6218.21</td><td>4.68537</td><td>0.142414</td><td>0.132286</td><td>-7.40606</td></tr><tr><th>7</th><td>BURKINA FASO</td><td>1990</td><td>8036.22</td><td>8.81103</td><td>0.168448</td><td>0.084447</td><td>-4.21941</td></tr><tr><th>8</th><td>BANGLADESH  </td><td>1987</td><td>1.17936e5</td><td>98.1493</td><td>0.132489</td><td>0.122097</td><td>-1.72386</td></tr><tr><th>9</th><td>Bulgaria</td><td>1990</td><td>1.06086e5</td><td>8.82111</td><td>0.423322</td><td>1.1135</td><td>-8.65041</td></tr><tr><th>10</th><td>Bulgaria</td><td>1996</td><td>70589.3</td><td>8.27466</td><td>0.237203</td><td>0.731073</td><td>4.6514</td></tr><tr><th>11</th><td>Belarus</td><td>2009</td><td>134128.0</td><td>9.50532</td><td>0.234898</td><td>0.812055</td><td>-12.0261</td></tr><tr><th>12</th><td>BOLIVIA     </td><td>1980</td><td>11840.1</td><td>5.58957</td><td>0.202786</td><td>0.186095</td><td>-0.200053</td></tr><tr><th>13</th><td>BOLIVIA     </td><td>1986</td><td>13687.8</td><td>6.33789</td><td>0.195768</td><td>0.227409</td><td>-7.6</td></tr><tr><th>14</th><td>BOLIVIA     </td><td>1994</td><td>19451.8</td><td>7.41886</td><td>0.288273</td><td>0.240371</td><td>-3.98863</td></tr><tr><th>15</th><td>Brazil</td><td>1982</td><td>6.89713e5</td><td>128.055</td><td>0.0699811</td><td>0.533467</td><td>-8.72476</td></tr><tr><th>16</th><td>Brazil</td><td>1987</td><td>8.89042e5</td><td>142.437</td><td>0.096418</td><td>0.634228</td><td>-0.479951</td></tr><tr><th>17</th><td>Brazil</td><td>1992</td><td>9.80539e5</td><td>155.379</td><td>0.147468</td><td>0.593721</td><td>1.53978</td></tr><tr><th>18</th><td>CENTRAL AFR. REP.</td><td>1994</td><td>3324.63</td><td>3.2537</td><td>0.208894</td><td>0.0936753</td><td>0.806499</td></tr><tr><th>19</th><td>COTE D'IVOIRE</td><td>1984</td><td>24531.3</td><td>9.7691</td><td>0.25524</td><td>0.25124</td><td>-1.08037</td></tr><tr><th>20</th><td>COTE D'IVOIRE</td><td>1988</td><td>27706.2</td><td>11.3371</td><td>0.234944</td><td>0.243594</td><td>-12.1287</td></tr><tr><th>21</th><td>COTE D'IVOIRE</td><td>1994</td><td>31801.4</td><td>13.9538</td><td>0.145564</td><td>0.208936</td><td>-0.16544</td></tr><tr><th>22</th><td>COTE D'IVOIRE</td><td>2001</td><td>40230.4</td><td>16.8654</td><td>0.108383</td><td>0.177063</td><td>-0.546976</td></tr><tr><th>23</th><td>CAMEROON    </td><td>1987</td><td>28276.6</td><td>11.0315</td><td>0.224741</td><td>0.260459</td><td>-6.37598</td></tr><tr><th>24</th><td>CAMEROON    </td><td>1994</td><td>27481.0</td><td>13.5468</td><td>0.10358</td><td>0.185975</td><td>-0.608958</td></tr><tr><th>25</th><td>CONGO, DEM. REP.</td><td>1976</td><td>39864.1</td><td>23.5568</td><td>0.37106</td><td>0.163893</td><td>-2.22726</td></tr><tr><th>26</th><td>CONGO, DEM. REP.</td><td>1983</td><td>51660.2</td><td>28.4481</td><td>0.259266</td><td>0.184871</td><td>-0.551378</td></tr><tr><th>27</th><td>CONGO, DEM. REP.</td><td>1989</td><td>59201.5</td><td>33.7631</td><td>0.262922</td><td>0.168705</td><td>-2.15475</td></tr><tr><th>28</th><td>CONGO, DEM. REP.</td><td>2009</td><td>21503.3</td><td>63.8451</td><td>0.628338</td><td>0.0193825</td><td>-6.13207</td></tr><tr><th>29</th><td>CONGO, REP</td><td>1986</td><td>4960.77</td><td>2.14253</td><td>0.539645</td><td>0.243805</td><td>-34.4048</td></tr><tr><th>30</th><td>CONGO, REP</td><td>1994</td><td>3782.61</td><td>2.64996</td><td>0.346757</td><td>0.130861</td><td>-44.8406</td></tr><tr><th>&vellip;</th><td>&vellip;</td><td>&vellip;</td><td>&vellip;</td><td>&vellip;</td><td>&vellip;</td><td>&vellip;</td><td>&vellip;</td></tr></tbody></table>"
      ],
      "text/latex": [
       "\\begin{tabular}{r|cccccccc}\n",
       "\t& Country & year & rgdpe & pop & Gshare & GDPRank & CAB & \\\\\n",
       "\t\\hline\n",
       "\t& String & Int64 & Float64⍰ & Float64⍰ & Float64⍰ & Float64⍰ & Float64⍰ & \\\\\n",
       "\t\\hline\n",
       "\t1 & Albania & 1997 & 12886.2 & 3.09247 & 0.249426 & 0.34588 & -13.0465 & $\\dots$ \\\\\n",
       "\t2 & Argentina & 1975 & 1.11644e5 & 26.067 & 0.0748918 & 0.427278 & -1.6533 & $\\dots$ \\\\\n",
       "\t3 & Argentina & 1987 & 1.75065e5 & 31.3265 & 0.0893325 & 0.567852 & -3.59341 & $\\dots$ \\\\\n",
       "\t4 & Argentina & 1989 & 1.80501e5 & 32.2636 & 0.115883 & 0.538273 & 1.23635 & $\\dots$ \\\\\n",
       "\t5 & Argentina & 1995 & 4.19159e5 & 34.9948 & 0.126188 & 1.06803 & -1.8224 & $\\dots$ \\\\\n",
       "\t6 & BENIN        & 1988 & 6218.21 & 4.68537 & 0.142414 & 0.132286 & -7.40606 & $\\dots$ \\\\\n",
       "\t7 & BURKINA FASO & 1990 & 8036.22 & 8.81103 & 0.168448 & 0.084447 & -4.21941 & $\\dots$ \\\\\n",
       "\t8 & BANGLADESH   & 1987 & 1.17936e5 & 98.1493 & 0.132489 & 0.122097 & -1.72386 & $\\dots$ \\\\\n",
       "\t9 & Bulgaria & 1990 & 1.06086e5 & 8.82111 & 0.423322 & 1.1135 & -8.65041 & $\\dots$ \\\\\n",
       "\t10 & Bulgaria & 1996 & 70589.3 & 8.27466 & 0.237203 & 0.731073 & 4.6514 & $\\dots$ \\\\\n",
       "\t11 & Belarus & 2009 & 134128.0 & 9.50532 & 0.234898 & 0.812055 & -12.0261 & $\\dots$ \\\\\n",
       "\t12 & BOLIVIA      & 1980 & 11840.1 & 5.58957 & 0.202786 & 0.186095 & -0.200053 & $\\dots$ \\\\\n",
       "\t13 & BOLIVIA      & 1986 & 13687.8 & 6.33789 & 0.195768 & 0.227409 & -7.6 & $\\dots$ \\\\\n",
       "\t14 & BOLIVIA      & 1994 & 19451.8 & 7.41886 & 0.288273 & 0.240371 & -3.98863 & $\\dots$ \\\\\n",
       "\t15 & Brazil & 1982 & 6.89713e5 & 128.055 & 0.0699811 & 0.533467 & -8.72476 & $\\dots$ \\\\\n",
       "\t16 & Brazil & 1987 & 8.89042e5 & 142.437 & 0.096418 & 0.634228 & -0.479951 & $\\dots$ \\\\\n",
       "\t17 & Brazil & 1992 & 9.80539e5 & 155.379 & 0.147468 & 0.593721 & 1.53978 & $\\dots$ \\\\\n",
       "\t18 & CENTRAL AFR. REP. & 1994 & 3324.63 & 3.2537 & 0.208894 & 0.0936753 & 0.806499 & $\\dots$ \\\\\n",
       "\t19 & COTE D'IVOIRE & 1984 & 24531.3 & 9.7691 & 0.25524 & 0.25124 & -1.08037 & $\\dots$ \\\\\n",
       "\t20 & COTE D'IVOIRE & 1988 & 27706.2 & 11.3371 & 0.234944 & 0.243594 & -12.1287 & $\\dots$ \\\\\n",
       "\t21 & COTE D'IVOIRE & 1994 & 31801.4 & 13.9538 & 0.145564 & 0.208936 & -0.16544 & $\\dots$ \\\\\n",
       "\t22 & COTE D'IVOIRE & 2001 & 40230.4 & 16.8654 & 0.108383 & 0.177063 & -0.546976 & $\\dots$ \\\\\n",
       "\t23 & CAMEROON     & 1987 & 28276.6 & 11.0315 & 0.224741 & 0.260459 & -6.37598 & $\\dots$ \\\\\n",
       "\t24 & CAMEROON     & 1994 & 27481.0 & 13.5468 & 0.10358 & 0.185975 & -0.608958 & $\\dots$ \\\\\n",
       "\t25 & CONGO, DEM. REP. & 1976 & 39864.1 & 23.5568 & 0.37106 & 0.163893 & -2.22726 & $\\dots$ \\\\\n",
       "\t26 & CONGO, DEM. REP. & 1983 & 51660.2 & 28.4481 & 0.259266 & 0.184871 & -0.551378 & $\\dots$ \\\\\n",
       "\t27 & CONGO, DEM. REP. & 1989 & 59201.5 & 33.7631 & 0.262922 & 0.168705 & -2.15475 & $\\dots$ \\\\\n",
       "\t28 & CONGO, DEM. REP. & 2009 & 21503.3 & 63.8451 & 0.628338 & 0.0193825 & -6.13207 & $\\dots$ \\\\\n",
       "\t29 & CONGO, REP & 1986 & 4960.77 & 2.14253 & 0.539645 & 0.243805 & -34.4048 & $\\dots$ \\\\\n",
       "\t30 & CONGO, REP & 1994 & 3782.61 & 2.64996 & 0.346757 & 0.130861 & -44.8406 & $\\dots$ \\\\\n",
       "\t$\\dots$ & $\\dots$ & $\\dots$ & $\\dots$ & $\\dots$ & $\\dots$ & $\\dots$ & $\\dots$ &  \\\\\n",
       "\\end{tabular}\n"
      ],
      "text/plain": [
       "140×71 DataFrame. Omitted printing of 65 columns\n",
       "│ Row │ Country      │ year  │ rgdpe     │ pop      │ Gshare    │ GDPRank   │\n",
       "│     │ \u001b[90mString\u001b[39m       │ \u001b[90mInt64\u001b[39m │ \u001b[90mFloat64⍰\u001b[39m  │ \u001b[90mFloat64⍰\u001b[39m │ \u001b[90mFloat64⍰\u001b[39m  │ \u001b[90mFloat64⍰\u001b[39m  │\n",
       "├─────┼──────────────┼───────┼───────────┼──────────┼───────────┼───────────┤\n",
       "│ 1   │ Albania      │ 1997  │ 12886.2   │ 3.09247  │ 0.249426  │ 0.34588   │\n",
       "│ 2   │ Argentina    │ 1975  │ 1.11644e5 │ 26.067   │ 0.0748918 │ 0.427278  │\n",
       "│ 3   │ Argentina    │ 1987  │ 1.75065e5 │ 31.3265  │ 0.0893325 │ 0.567852  │\n",
       "│ 4   │ Argentina    │ 1989  │ 1.80501e5 │ 32.2636  │ 0.115883  │ 0.538273  │\n",
       "│ 5   │ Argentina    │ 1995  │ 4.19159e5 │ 34.9948  │ 0.126188  │ 1.06803   │\n",
       "│ 6   │ BENIN        │ 1988  │ 6218.21   │ 4.68537  │ 0.142414  │ 0.132286  │\n",
       "│ 7   │ BURKINA FASO │ 1990  │ 8036.22   │ 8.81103  │ 0.168448  │ 0.084447  │\n",
       "│ 8   │ BANGLADESH   │ 1987  │ 1.17936e5 │ 98.1493  │ 0.132489  │ 0.122097  │\n",
       "│ 9   │ Bulgaria     │ 1990  │ 1.06086e5 │ 8.82111  │ 0.423322  │ 1.1135    │\n",
       "│ 10  │ Bulgaria     │ 1996  │ 70589.3   │ 8.27466  │ 0.237203  │ 0.731073  │\n",
       "⋮\n",
       "│ 130 │ Uruguay      │ 1981  │ 28288.7   │ 2.93504  │ 0.142414  │ 0.881394  │\n",
       "│ 131 │ Uruguay      │ 1983  │ 22943.0   │ 2.97346  │ 0.176519  │ 0.785515  │\n",
       "│ 132 │ Uruguay      │ 1990  │ 27874.7   │ 3.10999  │ 0.2106    │ 0.829872  │\n",
       "│ 133 │ Uruguay      │ 2002  │ 31942.2   │ 3.32777  │ 0.128723  │ 0.700452  │\n",
       "│ 134 │ UZBEKISTAN   │ 1994  │ 85906.9   │ 22.2761  │ 0.527966  │ 0.353547  │\n",
       "│ 135 │ Venezuela    │ 1989  │ 1.5344e5  │ 19.3883  │ 0.319834  │ 0.76144   │\n",
       "│ 136 │ ZAMBIA       │ 1983  │ 10400.4   │ 6.57167  │ 0.513516  │ 0.161116  │\n",
       "│ 137 │ ZAMBIA       │ 1995  │ 9223.97   │ 9.25353  │ 0.122546  │ 0.0888826 │\n",
       "│ 138 │ ZIMBABWE     │ 1983  │ 28736.4   │ 8.19756  │ 0.330427  │ 0.356873  │\n",
       "│ 139 │ ZIMBABWE     │ 1991  │ 52277.5   │ 10.763   │ 0.207964  │ 0.4604    │\n",
       "│ 140 │ ZIMBABWE     │ 1998  │ 45291.7   │ 12.2267  │ 0.14348   │ 0.301674  │"
      ]
     },
     "execution_count": 3,
     "metadata": {},
     "output_type": "execute_result"
    }
   ],
   "source": [
    "W \t\t= ones(10,1)  #diaganol of weighting matrix (equal weights in baseline)\n",
    "matchweights = W\n",
    "matchon = [:LGrowth5, :LGrowth4, :LGrowth3, :LGrowth2, :LGrowth1, :DWDI, :Banking, :Currency, :Debt]\n",
    "predict = [:FGrowth1, :FGrowth2, :FGrowth3, :FGrowth4, :FGrowth5, :FGrowth6]\n",
    "matchtol= Inf\t  ### For if I want to throw away bad matches \n",
    "bounds  = [7, 7, 7, 7, 7, 7, .5, .5, .5]\n",
    "localtol = bounds\n",
    "Pool = NoIMFCrises\n",
    "Treated = IMFCrises"
   ]
  },
  {
   "cell_type": "code",
   "execution_count": null,
   "metadata": {
    "jupyter": {
     "outputs_hidden": true
    },
    "scrolled": true
   },
   "outputs": [
    {
     "name": "stdout",
     "output_type": "stream",
     "text": [
      "Checkpoint 0\n"
     ]
    },
    {
     "name": "stderr",
     "output_type": "stream",
     "text": [
      "┌ Warning: `setindex!(df::DataFrame, v::AbstractVector, col_ind::ColumnIndex)` is deprecated, use `begin\n",
      "│     df[!, col_ind] = v\n",
      "│     df\n",
      "│ end` instead.\n",
      "│   caller = #GenSynthetics#3(::Float64, ::Array{Float64,1}, ::Array{Float64,2}, ::Function, ::DataFrame, ::DataFrame, ::Array{Symbol,1}, ::Array{Symbol,1}) at GenSynthetics_NLopt.jl:21\n",
      "└ @ Main C:\\Users\\Admin\\OneDrive\\IMF\\AERInsights\\Code\\GenSynthetics_NLopt.jl:21\n",
      "┌ Warning: `setindex!(df::DataFrame, v::AbstractVector, col_ind::ColumnIndex)` is deprecated, use `begin\n",
      "│     df[!, col_ind] = v\n",
      "│     df\n",
      "│ end` instead.\n",
      "│   caller = #GenSynthetics#3(::Float64, ::Array{Float64,1}, ::Array{Float64,2}, ::Function, ::DataFrame, ::DataFrame, ::Array{Symbol,1}, ::Array{Symbol,1}) at GenSynthetics_NLopt.jl:22\n",
      "└ @ Main C:\\Users\\Admin\\OneDrive\\IMF\\AERInsights\\Code\\GenSynthetics_NLopt.jl:22\n",
      "┌ Warning: `getindex(df::DataFrame, col_ind::ColumnIndex)` is deprecated, use `df[!, col_ind]` instead.\n",
      "│   caller = #GenSynthetics#3(::Float64, ::Array{Float64,1}, ::Array{Float64,2}, ::Function, ::DataFrame, ::DataFrame, ::Array{Symbol,1}, ::Array{Symbol,1}) at GenSynthetics_NLopt.jl:28\n",
      "└ @ Main C:\\Users\\Admin\\OneDrive\\IMF\\AERInsights\\Code\\GenSynthetics_NLopt.jl:28\n"
     ]
    },
    {
     "data": {
      "text/html": [
       "<table class=\"data-frame\"><thead><tr><th></th><th>Country</th><th>year</th><th>rgdpe</th><th>pop</th><th>Gshare</th><th>GDPRank</th><th>CAB</th></tr><tr><th></th><th>String</th><th>Int64</th><th>Float64⍰</th><th>Float64⍰</th><th>Float64⍰</th><th>Float64⍰</th><th>Float64⍰</th></tr></thead><tbody><p>140 rows × 72 columns (omitted printing of 65 columns)</p><tr><th>1</th><td>Albania</td><td>1997</td><td>12886.2</td><td>3.09247</td><td>0.249426</td><td>0.34588</td><td>-13.0465</td></tr><tr><th>2</th><td>Argentina</td><td>1975</td><td>1.11644e5</td><td>26.067</td><td>0.0748918</td><td>0.427278</td><td>-1.6533</td></tr><tr><th>3</th><td>Argentina</td><td>1987</td><td>1.75065e5</td><td>31.3265</td><td>0.0893325</td><td>0.567852</td><td>-3.59341</td></tr><tr><th>4</th><td>Argentina</td><td>1989</td><td>1.80501e5</td><td>32.2636</td><td>0.115883</td><td>0.538273</td><td>1.23635</td></tr><tr><th>5</th><td>Argentina</td><td>1995</td><td>4.19159e5</td><td>34.9948</td><td>0.126188</td><td>1.06803</td><td>-1.8224</td></tr><tr><th>6</th><td>BENIN       </td><td>1988</td><td>6218.21</td><td>4.68537</td><td>0.142414</td><td>0.132286</td><td>-7.40606</td></tr><tr><th>7</th><td>BURKINA FASO</td><td>1990</td><td>8036.22</td><td>8.81103</td><td>0.168448</td><td>0.084447</td><td>-4.21941</td></tr><tr><th>8</th><td>BANGLADESH  </td><td>1987</td><td>1.17936e5</td><td>98.1493</td><td>0.132489</td><td>0.122097</td><td>-1.72386</td></tr><tr><th>9</th><td>Bulgaria</td><td>1990</td><td>1.06086e5</td><td>8.82111</td><td>0.423322</td><td>1.1135</td><td>-8.65041</td></tr><tr><th>10</th><td>Bulgaria</td><td>1996</td><td>70589.3</td><td>8.27466</td><td>0.237203</td><td>0.731073</td><td>4.6514</td></tr><tr><th>11</th><td>Belarus</td><td>2009</td><td>134128.0</td><td>9.50532</td><td>0.234898</td><td>0.812055</td><td>-12.0261</td></tr><tr><th>12</th><td>BOLIVIA     </td><td>1980</td><td>11840.1</td><td>5.58957</td><td>0.202786</td><td>0.186095</td><td>-0.200053</td></tr><tr><th>13</th><td>BOLIVIA     </td><td>1986</td><td>13687.8</td><td>6.33789</td><td>0.195768</td><td>0.227409</td><td>-7.6</td></tr><tr><th>14</th><td>BOLIVIA     </td><td>1994</td><td>19451.8</td><td>7.41886</td><td>0.288273</td><td>0.240371</td><td>-3.98863</td></tr><tr><th>15</th><td>Brazil</td><td>1982</td><td>6.89713e5</td><td>128.055</td><td>0.0699811</td><td>0.533467</td><td>-8.72476</td></tr><tr><th>16</th><td>Brazil</td><td>1987</td><td>8.89042e5</td><td>142.437</td><td>0.096418</td><td>0.634228</td><td>-0.479951</td></tr><tr><th>17</th><td>Brazil</td><td>1992</td><td>9.80539e5</td><td>155.379</td><td>0.147468</td><td>0.593721</td><td>1.53978</td></tr><tr><th>18</th><td>CENTRAL AFR. REP.</td><td>1994</td><td>3324.63</td><td>3.2537</td><td>0.208894</td><td>0.0936753</td><td>0.806499</td></tr><tr><th>19</th><td>COTE D'IVOIRE</td><td>1984</td><td>24531.3</td><td>9.7691</td><td>0.25524</td><td>0.25124</td><td>-1.08037</td></tr><tr><th>20</th><td>COTE D'IVOIRE</td><td>1988</td><td>27706.2</td><td>11.3371</td><td>0.234944</td><td>0.243594</td><td>-12.1287</td></tr><tr><th>21</th><td>COTE D'IVOIRE</td><td>1994</td><td>31801.4</td><td>13.9538</td><td>0.145564</td><td>0.208936</td><td>-0.16544</td></tr><tr><th>22</th><td>COTE D'IVOIRE</td><td>2001</td><td>40230.4</td><td>16.8654</td><td>0.108383</td><td>0.177063</td><td>-0.546976</td></tr><tr><th>23</th><td>CAMEROON    </td><td>1987</td><td>28276.6</td><td>11.0315</td><td>0.224741</td><td>0.260459</td><td>-6.37598</td></tr><tr><th>24</th><td>CAMEROON    </td><td>1994</td><td>27481.0</td><td>13.5468</td><td>0.10358</td><td>0.185975</td><td>-0.608958</td></tr><tr><th>25</th><td>CONGO, DEM. REP.</td><td>1976</td><td>39864.1</td><td>23.5568</td><td>0.37106</td><td>0.163893</td><td>-2.22726</td></tr><tr><th>26</th><td>CONGO, DEM. REP.</td><td>1983</td><td>51660.2</td><td>28.4481</td><td>0.259266</td><td>0.184871</td><td>-0.551378</td></tr><tr><th>27</th><td>CONGO, DEM. REP.</td><td>1989</td><td>59201.5</td><td>33.7631</td><td>0.262922</td><td>0.168705</td><td>-2.15475</td></tr><tr><th>28</th><td>CONGO, DEM. REP.</td><td>2009</td><td>21503.3</td><td>63.8451</td><td>0.628338</td><td>0.0193825</td><td>-6.13207</td></tr><tr><th>29</th><td>CONGO, REP</td><td>1986</td><td>4960.77</td><td>2.14253</td><td>0.539645</td><td>0.243805</td><td>-34.4048</td></tr><tr><th>30</th><td>CONGO, REP</td><td>1994</td><td>3782.61</td><td>2.64996</td><td>0.346757</td><td>0.130861</td><td>-44.8406</td></tr><tr><th>&vellip;</th><td>&vellip;</td><td>&vellip;</td><td>&vellip;</td><td>&vellip;</td><td>&vellip;</td><td>&vellip;</td><td>&vellip;</td></tr></tbody></table>"
      ],
      "text/latex": [
       "\\begin{tabular}{r|cccccccc}\n",
       "\t& Country & year & rgdpe & pop & Gshare & GDPRank & CAB & \\\\\n",
       "\t\\hline\n",
       "\t& String & Int64 & Float64⍰ & Float64⍰ & Float64⍰ & Float64⍰ & Float64⍰ & \\\\\n",
       "\t\\hline\n",
       "\t1 & Albania & 1997 & 12886.2 & 3.09247 & 0.249426 & 0.34588 & -13.0465 & $\\dots$ \\\\\n",
       "\t2 & Argentina & 1975 & 1.11644e5 & 26.067 & 0.0748918 & 0.427278 & -1.6533 & $\\dots$ \\\\\n",
       "\t3 & Argentina & 1987 & 1.75065e5 & 31.3265 & 0.0893325 & 0.567852 & -3.59341 & $\\dots$ \\\\\n",
       "\t4 & Argentina & 1989 & 1.80501e5 & 32.2636 & 0.115883 & 0.538273 & 1.23635 & $\\dots$ \\\\\n",
       "\t5 & Argentina & 1995 & 4.19159e5 & 34.9948 & 0.126188 & 1.06803 & -1.8224 & $\\dots$ \\\\\n",
       "\t6 & BENIN        & 1988 & 6218.21 & 4.68537 & 0.142414 & 0.132286 & -7.40606 & $\\dots$ \\\\\n",
       "\t7 & BURKINA FASO & 1990 & 8036.22 & 8.81103 & 0.168448 & 0.084447 & -4.21941 & $\\dots$ \\\\\n",
       "\t8 & BANGLADESH   & 1987 & 1.17936e5 & 98.1493 & 0.132489 & 0.122097 & -1.72386 & $\\dots$ \\\\\n",
       "\t9 & Bulgaria & 1990 & 1.06086e5 & 8.82111 & 0.423322 & 1.1135 & -8.65041 & $\\dots$ \\\\\n",
       "\t10 & Bulgaria & 1996 & 70589.3 & 8.27466 & 0.237203 & 0.731073 & 4.6514 & $\\dots$ \\\\\n",
       "\t11 & Belarus & 2009 & 134128.0 & 9.50532 & 0.234898 & 0.812055 & -12.0261 & $\\dots$ \\\\\n",
       "\t12 & BOLIVIA      & 1980 & 11840.1 & 5.58957 & 0.202786 & 0.186095 & -0.200053 & $\\dots$ \\\\\n",
       "\t13 & BOLIVIA      & 1986 & 13687.8 & 6.33789 & 0.195768 & 0.227409 & -7.6 & $\\dots$ \\\\\n",
       "\t14 & BOLIVIA      & 1994 & 19451.8 & 7.41886 & 0.288273 & 0.240371 & -3.98863 & $\\dots$ \\\\\n",
       "\t15 & Brazil & 1982 & 6.89713e5 & 128.055 & 0.0699811 & 0.533467 & -8.72476 & $\\dots$ \\\\\n",
       "\t16 & Brazil & 1987 & 8.89042e5 & 142.437 & 0.096418 & 0.634228 & -0.479951 & $\\dots$ \\\\\n",
       "\t17 & Brazil & 1992 & 9.80539e5 & 155.379 & 0.147468 & 0.593721 & 1.53978 & $\\dots$ \\\\\n",
       "\t18 & CENTRAL AFR. REP. & 1994 & 3324.63 & 3.2537 & 0.208894 & 0.0936753 & 0.806499 & $\\dots$ \\\\\n",
       "\t19 & COTE D'IVOIRE & 1984 & 24531.3 & 9.7691 & 0.25524 & 0.25124 & -1.08037 & $\\dots$ \\\\\n",
       "\t20 & COTE D'IVOIRE & 1988 & 27706.2 & 11.3371 & 0.234944 & 0.243594 & -12.1287 & $\\dots$ \\\\\n",
       "\t21 & COTE D'IVOIRE & 1994 & 31801.4 & 13.9538 & 0.145564 & 0.208936 & -0.16544 & $\\dots$ \\\\\n",
       "\t22 & COTE D'IVOIRE & 2001 & 40230.4 & 16.8654 & 0.108383 & 0.177063 & -0.546976 & $\\dots$ \\\\\n",
       "\t23 & CAMEROON     & 1987 & 28276.6 & 11.0315 & 0.224741 & 0.260459 & -6.37598 & $\\dots$ \\\\\n",
       "\t24 & CAMEROON     & 1994 & 27481.0 & 13.5468 & 0.10358 & 0.185975 & -0.608958 & $\\dots$ \\\\\n",
       "\t25 & CONGO, DEM. REP. & 1976 & 39864.1 & 23.5568 & 0.37106 & 0.163893 & -2.22726 & $\\dots$ \\\\\n",
       "\t26 & CONGO, DEM. REP. & 1983 & 51660.2 & 28.4481 & 0.259266 & 0.184871 & -0.551378 & $\\dots$ \\\\\n",
       "\t27 & CONGO, DEM. REP. & 1989 & 59201.5 & 33.7631 & 0.262922 & 0.168705 & -2.15475 & $\\dots$ \\\\\n",
       "\t28 & CONGO, DEM. REP. & 2009 & 21503.3 & 63.8451 & 0.628338 & 0.0193825 & -6.13207 & $\\dots$ \\\\\n",
       "\t29 & CONGO, REP & 1986 & 4960.77 & 2.14253 & 0.539645 & 0.243805 & -34.4048 & $\\dots$ \\\\\n",
       "\t30 & CONGO, REP & 1994 & 3782.61 & 2.64996 & 0.346757 & 0.130861 & -44.8406 & $\\dots$ \\\\\n",
       "\t$\\dots$ & $\\dots$ & $\\dots$ & $\\dots$ & $\\dots$ & $\\dots$ & $\\dots$ & $\\dots$ &  \\\\\n",
       "\\end{tabular}\n"
      ],
      "text/plain": [
       "140×72 DataFrame. Omitted printing of 66 columns\n",
       "│ Row │ Country      │ year  │ rgdpe     │ pop      │ Gshare    │ GDPRank   │\n",
       "│     │ \u001b[90mString\u001b[39m       │ \u001b[90mInt64\u001b[39m │ \u001b[90mFloat64⍰\u001b[39m  │ \u001b[90mFloat64⍰\u001b[39m │ \u001b[90mFloat64⍰\u001b[39m  │ \u001b[90mFloat64⍰\u001b[39m  │\n",
       "├─────┼──────────────┼───────┼───────────┼──────────┼───────────┼───────────┤\n",
       "│ 1   │ Albania      │ 1997  │ 12886.2   │ 3.09247  │ 0.249426  │ 0.34588   │\n",
       "│ 2   │ Argentina    │ 1975  │ 1.11644e5 │ 26.067   │ 0.0748918 │ 0.427278  │\n",
       "│ 3   │ Argentina    │ 1987  │ 1.75065e5 │ 31.3265  │ 0.0893325 │ 0.567852  │\n",
       "│ 4   │ Argentina    │ 1989  │ 1.80501e5 │ 32.2636  │ 0.115883  │ 0.538273  │\n",
       "│ 5   │ Argentina    │ 1995  │ 4.19159e5 │ 34.9948  │ 0.126188  │ 1.06803   │\n",
       "│ 6   │ BENIN        │ 1988  │ 6218.21   │ 4.68537  │ 0.142414  │ 0.132286  │\n",
       "│ 7   │ BURKINA FASO │ 1990  │ 8036.22   │ 8.81103  │ 0.168448  │ 0.084447  │\n",
       "│ 8   │ BANGLADESH   │ 1987  │ 1.17936e5 │ 98.1493  │ 0.132489  │ 0.122097  │\n",
       "│ 9   │ Bulgaria     │ 1990  │ 1.06086e5 │ 8.82111  │ 0.423322  │ 1.1135    │\n",
       "│ 10  │ Bulgaria     │ 1996  │ 70589.3   │ 8.27466  │ 0.237203  │ 0.731073  │\n",
       "⋮\n",
       "│ 130 │ Uruguay      │ 1981  │ 28288.7   │ 2.93504  │ 0.142414  │ 0.881394  │\n",
       "│ 131 │ Uruguay      │ 1983  │ 22943.0   │ 2.97346  │ 0.176519  │ 0.785515  │\n",
       "│ 132 │ Uruguay      │ 1990  │ 27874.7   │ 3.10999  │ 0.2106    │ 0.829872  │\n",
       "│ 133 │ Uruguay      │ 2002  │ 31942.2   │ 3.32777  │ 0.128723  │ 0.700452  │\n",
       "│ 134 │ UZBEKISTAN   │ 1994  │ 85906.9   │ 22.2761  │ 0.527966  │ 0.353547  │\n",
       "│ 135 │ Venezuela    │ 1989  │ 1.5344e5  │ 19.3883  │ 0.319834  │ 0.76144   │\n",
       "│ 136 │ ZAMBIA       │ 1983  │ 10400.4   │ 6.57167  │ 0.513516  │ 0.161116  │\n",
       "│ 137 │ ZAMBIA       │ 1995  │ 9223.97   │ 9.25353  │ 0.122546  │ 0.0888826 │\n",
       "│ 138 │ ZIMBABWE     │ 1983  │ 28736.4   │ 8.19756  │ 0.330427  │ 0.356873  │\n",
       "│ 139 │ ZIMBABWE     │ 1991  │ 52277.5   │ 10.763   │ 0.207964  │ 0.4604    │\n",
       "│ 140 │ ZIMBABWE     │ 1998  │ 45291.7   │ 12.2267  │ 0.14348   │ 0.301674  │"
      ]
     },
     "metadata": {},
     "output_type": "display_data"
    },
    {
     "name": "stderr",
     "output_type": "stream",
     "text": [
      "┌ Warning: `getindex(df::DataFrame, col_ind::ColumnIndex)` is deprecated, use `df[!, col_ind]` instead.\n",
      "│   caller = #GenSynthetics#3(::Float64, ::Array{Float64,1}, ::Array{Float64,2}, ::Function, ::DataFrame, ::DataFrame, ::Array{Symbol,1}, ::Array{Symbol,1}) at GenSynthetics_NLopt.jl:29\n",
      "└ @ Main C:\\Users\\Admin\\OneDrive\\IMF\\AERInsights\\Code\\GenSynthetics_NLopt.jl:29\n"
     ]
    },
    {
     "name": "stdout",
     "output_type": "stream",
     "text": [
      "Checkpoint1\n"
     ]
    },
    {
     "name": "stderr",
     "output_type": "stream",
     "text": [
      "┌ Warning: `setindex!(df::DataFrame, v::AbstractVector, col_ind::ColumnIndex)` is deprecated, use `begin\n",
      "│     df[!, col_ind] = v\n",
      "│     df\n",
      "│ end` instead.\n",
      "│   caller = #GenSynthetics#3(::Float64, ::Array{Float64,1}, ::Array{Float64,2}, ::Function, ::DataFrame, ::DataFrame, ::Array{Symbol,1}, ::Array{Symbol,1}) at GenSynthetics_NLopt.jl:40\n",
      "└ @ Main C:\\Users\\Admin\\OneDrive\\IMF\\AERInsights\\Code\\GenSynthetics_NLopt.jl:40\n",
      "┌ Warning: `setindex!(df::DataFrame, v::AbstractVector, col_ind::ColumnIndex)` is deprecated, use `begin\n",
      "│     df[!, col_ind] = v\n",
      "│     df\n",
      "│ end` instead.\n",
      "│   caller = #GenSynthetics#3(::Float64, ::Array{Float64,1}, ::Array{Float64,2}, ::Function, ::DataFrame, ::DataFrame, ::Array{Symbol,1}, ::Array{Symbol,1}) at GenSynthetics_NLopt.jl:41\n",
      "└ @ Main C:\\Users\\Admin\\OneDrive\\IMF\\AERInsights\\Code\\GenSynthetics_NLopt.jl:41\n"
     ]
    },
    {
     "name": "stdout",
     "output_type": "stream",
     "text": [
      "Checkpoint2\n",
      "Checkpiont3\n",
      "Checkpoint4"
     ]
    },
    {
     "name": "stderr",
     "output_type": "stream",
     "text": [
      "┌ Warning: `setindex!(df::DataFrame, v::AbstractVector, col_ind::ColumnIndex)` is deprecated, use `begin\n",
      "│     df[!, col_ind] = v\n",
      "│     df\n",
      "│ end` instead.\n",
      "│   caller = #GenSynthetics#3(::Float64, ::Array{Float64,1}, ::Array{Float64,2}, ::Function, ::DataFrame, ::DataFrame, ::Array{Symbol,1}, ::Array{Symbol,1}) at GenSynthetics_NLopt.jl:45\n",
      "└ @ Main C:\\Users\\Admin\\OneDrive\\IMF\\AERInsights\\Code\\GenSynthetics_NLopt.jl:45\n"
     ]
    },
    {
     "name": "stdout",
     "output_type": "stream",
     "text": [
      "\n"
     ]
    },
    {
     "name": "stderr",
     "output_type": "stream",
     "text": [
      "┌ Warning: `getindex(df::DataFrame, col_ind::ColumnIndex)` is deprecated, use `df[!, col_ind]` instead.\n",
      "│   caller = #GenSynthetics#3(::Float64, ::Array{Float64,1}, ::Array{Float64,2}, ::Function, ::DataFrame, ::DataFrame, ::Array{Symbol,1}, ::Array{Symbol,1}) at GenSynthetics_NLopt.jl:54\n",
      "└ @ Main C:\\Users\\Admin\\OneDrive\\IMF\\AERInsights\\Code\\GenSynthetics_NLopt.jl:54\n"
     ]
    },
    {
     "name": "stdout",
     "output_type": "stream",
     "text": [
      "Checkpoint5\n",
      "Checkpoint6\n",
      "Checkpoint7\n"
     ]
    },
    {
     "name": "stderr",
     "output_type": "stream",
     "text": [
      "┌ Warning: `getindex(df::DataFrame, col_ind::ColumnIndex)` is deprecated, use `df[!, col_ind]` instead.\n",
      "│   caller = #GenSynthetics#3(::Float64, ::Array{Float64,1}, ::Array{Float64,2}, ::Function, ::DataFrame, ::DataFrame, ::Array{Symbol,1}, ::Array{Symbol,1}) at GenSynthetics_NLopt.jl:62\n",
      "└ @ Main C:\\Users\\Admin\\OneDrive\\IMF\\AERInsights\\Code\\GenSynthetics_NLopt.jl:62\n"
     ]
    },
    {
     "name": "stdout",
     "output_type": "stream",
     "text": [
      "Checkpoint8\n"
     ]
    },
    {
     "name": "stderr",
     "output_type": "stream",
     "text": [
      "┌ Warning: `getindex(df::DataFrame, col_ind::ColumnIndex)` is deprecated, use `df[!, col_ind]` instead.\n",
      "│   caller = #GenSynthetics#3(::Float64, ::Array{Float64,1}, ::Array{Float64,2}, ::Function, ::DataFrame, ::DataFrame, ::Array{Symbol,1}, ::Array{Symbol,1}) at GenSynthetics_NLopt.jl:69\n",
      "└ @ Main C:\\Users\\Admin\\OneDrive\\IMF\\AERInsights\\Code\\GenSynthetics_NLopt.jl:69\n"
     ]
    },
    {
     "name": "stdout",
     "output_type": "stream",
     "text": [
      "Checkpoint9\n",
      "Albania 1997 has matches\n"
     ]
    },
    {
     "name": "stderr",
     "output_type": "stream",
     "text": [
      "┌ Warning: `getindex(df::DataFrame, col_ind::ColumnIndex)` is deprecated, use `df[!, col_ind]` instead.\n",
      "│   caller = #GenSynthetics#3(::Float64, ::Array{Float64,1}, ::Array{Float64,2}, ::Function, ::DataFrame, ::DataFrame, ::Array{Symbol,1}, ::Array{Symbol,1}) at GenSynthetics_NLopt.jl:73\n",
      "└ @ Main C:\\Users\\Admin\\OneDrive\\IMF\\AERInsights\\Code\\GenSynthetics_NLopt.jl:73\n"
     ]
    },
    {
     "name": "stdout",
     "output_type": "stream",
     "text": [
      "opting!\n"
     ]
    },
    {
     "name": "stderr",
     "output_type": "stream",
     "text": [
      "┌ Warning: `convert(::Type{Array}, df::AbstractDataFrame)` is deprecated, use `convert(Matrix, df)` instead.\n",
      "│   caller = #GenSynthetics#3(::Float64, ::Array{Float64,1}, ::Array{Float64,2}, ::Function, ::DataFrame, ::DataFrame, ::Array{Symbol,1}, ::Array{Symbol,1}) at GenSynthetics_NLopt.jl:78\n",
      "└ @ Main C:\\Users\\Admin\\OneDrive\\IMF\\AERInsights\\Code\\GenSynthetics_NLopt.jl:78\n",
      "┌ Warning: `convert(::Type{Array}, df::AbstractDataFrame)` is deprecated, use `convert(Matrix, df)` instead.\n",
      "│   caller = #GenSynthetics#3(::Float64, ::Array{Float64,1}, ::Array{Float64,2}, ::Function, ::DataFrame, ::DataFrame, ::Array{Symbol,1}, ::Array{Symbol,1}) at GenSynthetics_NLopt.jl:112\n",
      "└ @ Main C:\\Users\\Admin\\OneDrive\\IMF\\AERInsights\\Code\\GenSynthetics_NLopt.jl:112\n",
      "┌ Warning: `convert(::Type{Array}, dfr::DataFrameRow)` is deprecated, use `permutedims(Vector(dfr))` instead.\n",
      "│   caller = #GenSynthetics#3(::Float64, ::Array{Float64,1}, ::Array{Float64,2}, ::Function, ::DataFrame, ::DataFrame, ::Array{Symbol,1}, ::Array{Symbol,1}) at GenSynthetics_NLopt.jl:116\n",
      "└ @ Main C:\\Users\\Admin\\OneDrive\\IMF\\AERInsights\\Code\\GenSynthetics_NLopt.jl:116\n",
      "┌ Warning: `setindex!(df::DataFrame, v::AbstractVector, col_ind::ColumnIndex)` is deprecated, use `begin\n",
      "│     df[!, col_ind] = v\n",
      "│     df\n",
      "│ end` instead.\n",
      "│   caller = #GenSynthetics#3(::Float64, ::Array{Float64,1}, ::Array{Float64,2}, ::Function, ::DataFrame, ::DataFrame, ::Array{Symbol,1}, ::Array{Symbol,1}) at GenSynthetics_NLopt.jl:118\n",
      "└ @ Main C:\\Users\\Admin\\OneDrive\\IMF\\AERInsights\\Code\\GenSynthetics_NLopt.jl:118\n"
     ]
    },
    {
     "name": "stdout",
     "output_type": "stream",
     "text": [
      "Checkpiont3\n",
      "Checkpoint4\n",
      "Checkpoint5\n",
      "Checkpoint6\n",
      "Checkpoint7\n",
      "Checkpoint8\n",
      "Checkpoint9\n",
      "Argentina 1975 has matches\n",
      "opting!\n",
      "Checkpiont3\n",
      "Checkpoint4\n",
      "Checkpoint5\n",
      "Checkpoint6\n",
      "Checkpoint7\n",
      "Checkpoint8\n",
      "Checkpoint9\n",
      "Argentina 1987 has matches\n",
      "opting!\n",
      "Checkpiont3\n",
      "Checkpoint4\n",
      "Checkpoint5\n",
      "Checkpoint6\n",
      "Checkpoint7\n",
      "Checkpoint8\n",
      "Checkpoint9\n",
      "Argentina 1989 has no local matches\n",
      "Checkpiont3\n",
      "Checkpoint4\n",
      "Checkpoint5\n",
      "Checkpoint6\n",
      "Checkpoint7\n",
      "Checkpoint8\n",
      "Checkpoint9\n",
      "Argentina 1995 has matches\n",
      "opting!\n",
      "Checkpiont3\n",
      "Checkpoint4\n",
      "Checkpoint5\n",
      "Checkpoint6\n",
      "Checkpoint7\n",
      "Checkpoint8\n",
      "Checkpoint9\n",
      "BENIN        1988 has matches\n",
      "opting!\n",
      "Checkpiont3\n",
      "Checkpoint4\n",
      "Checkpoint5\n",
      "Checkpoint6\n",
      "Checkpoint7\n",
      "Checkpoint8\n",
      "Checkpoint9\n",
      "BURKINA FASO 1990 has matches\n",
      "opting!\n",
      "Checkpiont3\n",
      "Checkpoint4\n",
      "Checkpoint5\n",
      "Checkpoint6\n",
      "Checkpoint7\n"
     ]
    }
   ],
   "source": [
    "(TreatedMatched, Synthetics, DonorWeights) = GenSynthetics(IMFCrises, NoIMFCrises, matchon, predict, localtol=bounds, matchweights=W)\n"
   ]
  },
  {
   "cell_type": "code",
   "execution_count": 4,
   "metadata": {},
   "outputs": [
    {
     "name": "stderr",
     "output_type": "stream",
     "text": [
      "┌ Warning: `setindex!(df::DataFrame, v::AbstractVector, col_ind::ColumnIndex)` is deprecated, use `begin\n",
      "│     df[!, col_ind] = v\n",
      "│     df\n",
      "│ end` instead.\n",
      "│   caller = top-level scope at In[4]:14\n",
      "└ @ Core In[4]:14\n",
      "┌ Warning: `setindex!(df::DataFrame, v::AbstractVector, col_ind::ColumnIndex)` is deprecated, use `begin\n",
      "│     df[!, col_ind] = v\n",
      "│     df\n",
      "│ end` instead.\n",
      "│   caller = top-level scope at In[4]:15\n",
      "└ @ Core In[4]:15\n",
      "┌ Warning: `getindex(df::DataFrame, col_ind::ColumnIndex)` is deprecated, use `df[!, col_ind]` instead.\n",
      "│   caller = top-level scope at In[4]:21\n",
      "└ @ Core In[4]:21\n"
     ]
    },
    {
     "data": {
      "text/html": [
       "<table class=\"data-frame\"><thead><tr><th></th><th>Country</th><th>year</th><th>rgdpe</th><th>pop</th><th>Gshare</th><th>GDPRank</th><th>CAB</th></tr><tr><th></th><th>String</th><th>Int64</th><th>Float64⍰</th><th>Float64⍰</th><th>Float64⍰</th><th>Float64⍰</th><th>Float64⍰</th></tr></thead><tbody><p>140 rows × 72 columns (omitted printing of 65 columns)</p><tr><th>1</th><td>Albania</td><td>1997</td><td>12886.2</td><td>3.09247</td><td>0.249426</td><td>0.34588</td><td>-13.0465</td></tr><tr><th>2</th><td>Argentina</td><td>1975</td><td>1.11644e5</td><td>26.067</td><td>0.0748918</td><td>0.427278</td><td>-1.6533</td></tr><tr><th>3</th><td>Argentina</td><td>1987</td><td>1.75065e5</td><td>31.3265</td><td>0.0893325</td><td>0.567852</td><td>-3.59341</td></tr><tr><th>4</th><td>Argentina</td><td>1989</td><td>1.80501e5</td><td>32.2636</td><td>0.115883</td><td>0.538273</td><td>1.23635</td></tr><tr><th>5</th><td>Argentina</td><td>1995</td><td>4.19159e5</td><td>34.9948</td><td>0.126188</td><td>1.06803</td><td>-1.8224</td></tr><tr><th>6</th><td>BENIN       </td><td>1988</td><td>6218.21</td><td>4.68537</td><td>0.142414</td><td>0.132286</td><td>-7.40606</td></tr><tr><th>7</th><td>BURKINA FASO</td><td>1990</td><td>8036.22</td><td>8.81103</td><td>0.168448</td><td>0.084447</td><td>-4.21941</td></tr><tr><th>8</th><td>BANGLADESH  </td><td>1987</td><td>1.17936e5</td><td>98.1493</td><td>0.132489</td><td>0.122097</td><td>-1.72386</td></tr><tr><th>9</th><td>Bulgaria</td><td>1990</td><td>1.06086e5</td><td>8.82111</td><td>0.423322</td><td>1.1135</td><td>-8.65041</td></tr><tr><th>10</th><td>Bulgaria</td><td>1996</td><td>70589.3</td><td>8.27466</td><td>0.237203</td><td>0.731073</td><td>4.6514</td></tr><tr><th>11</th><td>Belarus</td><td>2009</td><td>134128.0</td><td>9.50532</td><td>0.234898</td><td>0.812055</td><td>-12.0261</td></tr><tr><th>12</th><td>BOLIVIA     </td><td>1980</td><td>11840.1</td><td>5.58957</td><td>0.202786</td><td>0.186095</td><td>-0.200053</td></tr><tr><th>13</th><td>BOLIVIA     </td><td>1986</td><td>13687.8</td><td>6.33789</td><td>0.195768</td><td>0.227409</td><td>-7.6</td></tr><tr><th>14</th><td>BOLIVIA     </td><td>1994</td><td>19451.8</td><td>7.41886</td><td>0.288273</td><td>0.240371</td><td>-3.98863</td></tr><tr><th>15</th><td>Brazil</td><td>1982</td><td>6.89713e5</td><td>128.055</td><td>0.0699811</td><td>0.533467</td><td>-8.72476</td></tr><tr><th>16</th><td>Brazil</td><td>1987</td><td>8.89042e5</td><td>142.437</td><td>0.096418</td><td>0.634228</td><td>-0.479951</td></tr><tr><th>17</th><td>Brazil</td><td>1992</td><td>9.80539e5</td><td>155.379</td><td>0.147468</td><td>0.593721</td><td>1.53978</td></tr><tr><th>18</th><td>CENTRAL AFR. REP.</td><td>1994</td><td>3324.63</td><td>3.2537</td><td>0.208894</td><td>0.0936753</td><td>0.806499</td></tr><tr><th>19</th><td>COTE D'IVOIRE</td><td>1984</td><td>24531.3</td><td>9.7691</td><td>0.25524</td><td>0.25124</td><td>-1.08037</td></tr><tr><th>20</th><td>COTE D'IVOIRE</td><td>1988</td><td>27706.2</td><td>11.3371</td><td>0.234944</td><td>0.243594</td><td>-12.1287</td></tr><tr><th>21</th><td>COTE D'IVOIRE</td><td>1994</td><td>31801.4</td><td>13.9538</td><td>0.145564</td><td>0.208936</td><td>-0.16544</td></tr><tr><th>22</th><td>COTE D'IVOIRE</td><td>2001</td><td>40230.4</td><td>16.8654</td><td>0.108383</td><td>0.177063</td><td>-0.546976</td></tr><tr><th>23</th><td>CAMEROON    </td><td>1987</td><td>28276.6</td><td>11.0315</td><td>0.224741</td><td>0.260459</td><td>-6.37598</td></tr><tr><th>24</th><td>CAMEROON    </td><td>1994</td><td>27481.0</td><td>13.5468</td><td>0.10358</td><td>0.185975</td><td>-0.608958</td></tr><tr><th>25</th><td>CONGO, DEM. REP.</td><td>1976</td><td>39864.1</td><td>23.5568</td><td>0.37106</td><td>0.163893</td><td>-2.22726</td></tr><tr><th>26</th><td>CONGO, DEM. REP.</td><td>1983</td><td>51660.2</td><td>28.4481</td><td>0.259266</td><td>0.184871</td><td>-0.551378</td></tr><tr><th>27</th><td>CONGO, DEM. REP.</td><td>1989</td><td>59201.5</td><td>33.7631</td><td>0.262922</td><td>0.168705</td><td>-2.15475</td></tr><tr><th>28</th><td>CONGO, DEM. REP.</td><td>2009</td><td>21503.3</td><td>63.8451</td><td>0.628338</td><td>0.0193825</td><td>-6.13207</td></tr><tr><th>29</th><td>CONGO, REP</td><td>1986</td><td>4960.77</td><td>2.14253</td><td>0.539645</td><td>0.243805</td><td>-34.4048</td></tr><tr><th>30</th><td>CONGO, REP</td><td>1994</td><td>3782.61</td><td>2.64996</td><td>0.346757</td><td>0.130861</td><td>-44.8406</td></tr><tr><th>&vellip;</th><td>&vellip;</td><td>&vellip;</td><td>&vellip;</td><td>&vellip;</td><td>&vellip;</td><td>&vellip;</td><td>&vellip;</td></tr></tbody></table>"
      ],
      "text/latex": [
       "\\begin{tabular}{r|cccccccc}\n",
       "\t& Country & year & rgdpe & pop & Gshare & GDPRank & CAB & \\\\\n",
       "\t\\hline\n",
       "\t& String & Int64 & Float64⍰ & Float64⍰ & Float64⍰ & Float64⍰ & Float64⍰ & \\\\\n",
       "\t\\hline\n",
       "\t1 & Albania & 1997 & 12886.2 & 3.09247 & 0.249426 & 0.34588 & -13.0465 & $\\dots$ \\\\\n",
       "\t2 & Argentina & 1975 & 1.11644e5 & 26.067 & 0.0748918 & 0.427278 & -1.6533 & $\\dots$ \\\\\n",
       "\t3 & Argentina & 1987 & 1.75065e5 & 31.3265 & 0.0893325 & 0.567852 & -3.59341 & $\\dots$ \\\\\n",
       "\t4 & Argentina & 1989 & 1.80501e5 & 32.2636 & 0.115883 & 0.538273 & 1.23635 & $\\dots$ \\\\\n",
       "\t5 & Argentina & 1995 & 4.19159e5 & 34.9948 & 0.126188 & 1.06803 & -1.8224 & $\\dots$ \\\\\n",
       "\t6 & BENIN        & 1988 & 6218.21 & 4.68537 & 0.142414 & 0.132286 & -7.40606 & $\\dots$ \\\\\n",
       "\t7 & BURKINA FASO & 1990 & 8036.22 & 8.81103 & 0.168448 & 0.084447 & -4.21941 & $\\dots$ \\\\\n",
       "\t8 & BANGLADESH   & 1987 & 1.17936e5 & 98.1493 & 0.132489 & 0.122097 & -1.72386 & $\\dots$ \\\\\n",
       "\t9 & Bulgaria & 1990 & 1.06086e5 & 8.82111 & 0.423322 & 1.1135 & -8.65041 & $\\dots$ \\\\\n",
       "\t10 & Bulgaria & 1996 & 70589.3 & 8.27466 & 0.237203 & 0.731073 & 4.6514 & $\\dots$ \\\\\n",
       "\t11 & Belarus & 2009 & 134128.0 & 9.50532 & 0.234898 & 0.812055 & -12.0261 & $\\dots$ \\\\\n",
       "\t12 & BOLIVIA      & 1980 & 11840.1 & 5.58957 & 0.202786 & 0.186095 & -0.200053 & $\\dots$ \\\\\n",
       "\t13 & BOLIVIA      & 1986 & 13687.8 & 6.33789 & 0.195768 & 0.227409 & -7.6 & $\\dots$ \\\\\n",
       "\t14 & BOLIVIA      & 1994 & 19451.8 & 7.41886 & 0.288273 & 0.240371 & -3.98863 & $\\dots$ \\\\\n",
       "\t15 & Brazil & 1982 & 6.89713e5 & 128.055 & 0.0699811 & 0.533467 & -8.72476 & $\\dots$ \\\\\n",
       "\t16 & Brazil & 1987 & 8.89042e5 & 142.437 & 0.096418 & 0.634228 & -0.479951 & $\\dots$ \\\\\n",
       "\t17 & Brazil & 1992 & 9.80539e5 & 155.379 & 0.147468 & 0.593721 & 1.53978 & $\\dots$ \\\\\n",
       "\t18 & CENTRAL AFR. REP. & 1994 & 3324.63 & 3.2537 & 0.208894 & 0.0936753 & 0.806499 & $\\dots$ \\\\\n",
       "\t19 & COTE D'IVOIRE & 1984 & 24531.3 & 9.7691 & 0.25524 & 0.25124 & -1.08037 & $\\dots$ \\\\\n",
       "\t20 & COTE D'IVOIRE & 1988 & 27706.2 & 11.3371 & 0.234944 & 0.243594 & -12.1287 & $\\dots$ \\\\\n",
       "\t21 & COTE D'IVOIRE & 1994 & 31801.4 & 13.9538 & 0.145564 & 0.208936 & -0.16544 & $\\dots$ \\\\\n",
       "\t22 & COTE D'IVOIRE & 2001 & 40230.4 & 16.8654 & 0.108383 & 0.177063 & -0.546976 & $\\dots$ \\\\\n",
       "\t23 & CAMEROON     & 1987 & 28276.6 & 11.0315 & 0.224741 & 0.260459 & -6.37598 & $\\dots$ \\\\\n",
       "\t24 & CAMEROON     & 1994 & 27481.0 & 13.5468 & 0.10358 & 0.185975 & -0.608958 & $\\dots$ \\\\\n",
       "\t25 & CONGO, DEM. REP. & 1976 & 39864.1 & 23.5568 & 0.37106 & 0.163893 & -2.22726 & $\\dots$ \\\\\n",
       "\t26 & CONGO, DEM. REP. & 1983 & 51660.2 & 28.4481 & 0.259266 & 0.184871 & -0.551378 & $\\dots$ \\\\\n",
       "\t27 & CONGO, DEM. REP. & 1989 & 59201.5 & 33.7631 & 0.262922 & 0.168705 & -2.15475 & $\\dots$ \\\\\n",
       "\t28 & CONGO, DEM. REP. & 2009 & 21503.3 & 63.8451 & 0.628338 & 0.0193825 & -6.13207 & $\\dots$ \\\\\n",
       "\t29 & CONGO, REP & 1986 & 4960.77 & 2.14253 & 0.539645 & 0.243805 & -34.4048 & $\\dots$ \\\\\n",
       "\t30 & CONGO, REP & 1994 & 3782.61 & 2.64996 & 0.346757 & 0.130861 & -44.8406 & $\\dots$ \\\\\n",
       "\t$\\dots$ & $\\dots$ & $\\dots$ & $\\dots$ & $\\dots$ & $\\dots$ & $\\dots$ & $\\dots$ &  \\\\\n",
       "\\end{tabular}\n"
      ],
      "text/plain": [
       "140×72 DataFrame. Omitted printing of 66 columns\n",
       "│ Row │ Country      │ year  │ rgdpe     │ pop      │ Gshare    │ GDPRank   │\n",
       "│     │ \u001b[90mString\u001b[39m       │ \u001b[90mInt64\u001b[39m │ \u001b[90mFloat64⍰\u001b[39m  │ \u001b[90mFloat64⍰\u001b[39m │ \u001b[90mFloat64⍰\u001b[39m  │ \u001b[90mFloat64⍰\u001b[39m  │\n",
       "├─────┼──────────────┼───────┼───────────┼──────────┼───────────┼───────────┤\n",
       "│ 1   │ Albania      │ 1997  │ 12886.2   │ 3.09247  │ 0.249426  │ 0.34588   │\n",
       "│ 2   │ Argentina    │ 1975  │ 1.11644e5 │ 26.067   │ 0.0748918 │ 0.427278  │\n",
       "│ 3   │ Argentina    │ 1987  │ 1.75065e5 │ 31.3265  │ 0.0893325 │ 0.567852  │\n",
       "│ 4   │ Argentina    │ 1989  │ 1.80501e5 │ 32.2636  │ 0.115883  │ 0.538273  │\n",
       "│ 5   │ Argentina    │ 1995  │ 4.19159e5 │ 34.9948  │ 0.126188  │ 1.06803   │\n",
       "│ 6   │ BENIN        │ 1988  │ 6218.21   │ 4.68537  │ 0.142414  │ 0.132286  │\n",
       "│ 7   │ BURKINA FASO │ 1990  │ 8036.22   │ 8.81103  │ 0.168448  │ 0.084447  │\n",
       "│ 8   │ BANGLADESH   │ 1987  │ 1.17936e5 │ 98.1493  │ 0.132489  │ 0.122097  │\n",
       "│ 9   │ Bulgaria     │ 1990  │ 1.06086e5 │ 8.82111  │ 0.423322  │ 1.1135    │\n",
       "│ 10  │ Bulgaria     │ 1996  │ 70589.3   │ 8.27466  │ 0.237203  │ 0.731073  │\n",
       "⋮\n",
       "│ 130 │ Uruguay      │ 1981  │ 28288.7   │ 2.93504  │ 0.142414  │ 0.881394  │\n",
       "│ 131 │ Uruguay      │ 1983  │ 22943.0   │ 2.97346  │ 0.176519  │ 0.785515  │\n",
       "│ 132 │ Uruguay      │ 1990  │ 27874.7   │ 3.10999  │ 0.2106    │ 0.829872  │\n",
       "│ 133 │ Uruguay      │ 2002  │ 31942.2   │ 3.32777  │ 0.128723  │ 0.700452  │\n",
       "│ 134 │ UZBEKISTAN   │ 1994  │ 85906.9   │ 22.2761  │ 0.527966  │ 0.353547  │\n",
       "│ 135 │ Venezuela    │ 1989  │ 1.5344e5  │ 19.3883  │ 0.319834  │ 0.76144   │\n",
       "│ 136 │ ZAMBIA       │ 1983  │ 10400.4   │ 6.57167  │ 0.513516  │ 0.161116  │\n",
       "│ 137 │ ZAMBIA       │ 1995  │ 9223.97   │ 9.25353  │ 0.122546  │ 0.0888826 │\n",
       "│ 138 │ ZIMBABWE     │ 1983  │ 28736.4   │ 8.19756  │ 0.330427  │ 0.356873  │\n",
       "│ 139 │ ZIMBABWE     │ 1991  │ 52277.5   │ 10.763   │ 0.207964  │ 0.4604    │\n",
       "│ 140 │ ZIMBABWE     │ 1998  │ 45291.7   │ 12.2267  │ 0.14348   │ 0.301674  │"
      ]
     },
     "metadata": {},
     "output_type": "display_data"
    },
    {
     "name": "stdout",
     "output_type": "stream",
     "text": [
      "Checkpoint1\n"
     ]
    },
    {
     "name": "stderr",
     "output_type": "stream",
     "text": [
      "┌ Warning: `getindex(df::DataFrame, col_ind::ColumnIndex)` is deprecated, use `df[!, col_ind]` instead.\n",
      "│   caller = top-level scope at In[4]:22\n",
      "└ @ Core In[4]:22\n"
     ]
    }
   ],
   "source": [
    "m = size(matchon)[1]\n",
    "\tb = size(localtol)[1]\n",
    "\t\tif m >b  \n",
    "\t\tprintln(\"Must include more bounds than matching variables. Program only fitted to handled 10 matching vars, if including more must manually enter a vector of tolerances as localtol=[Inf ... Inf]\")\n",
    "\t\treturn false\n",
    "\t\tend\n",
    "\n",
    "\t#################################################################\n",
    "\t# First step is to get rid of any observations missing either the matching variables\n",
    "\t# or the main outcome variable we plan to track (growth paths here)\n",
    "\t#################################################################\n",
    "\tbign = size(Treated)[1]\n",
    "\tbigp = size(Pool)[1]\n",
    "\tTreated[:ID] = collect(1:1:bign)\n",
    "\tPool[:ID] = collect(1:1:bigp)\n",
    "\tcompletecheck = [:ID; matchon; predict]\n",
    "\ttempTreat = Treated[:, completecheck]\n",
    "\ttempPool = Pool[:, completecheck]\n",
    "\ttempTreat = tempTreat[completecases(tempTreat),:]\n",
    "\ttempPool = tempPool[completecases(tempPool),:]\n",
    "\tTreatCompleteID = DataFrame(ID = tempTreat[:ID])\n",
    "\tPoolCompleteID = DataFrame(ID = tempPool[:ID])\n",
    "\tTreated = join(Treated, TreatCompleteID, on=:ID, kind=:inner)\n",
    "\tdisplay(Treated)\n",
    "\tPool = join(Pool, PoolCompleteID, on=:ID, kind=:inner)\n",
    "\tcompleten = size(Treated)[1]\n",
    "\tcompletep = size(Pool)[1]\n",
    "\tprintln(\"Checkpoint1\")"
   ]
  },
  {
   "cell_type": "code",
   "execution_count": 5,
   "metadata": {},
   "outputs": [
    {
     "name": "stderr",
     "output_type": "stream",
     "text": [
      "┌ Warning: `setindex!(df::DataFrame, v::AbstractVector, col_ind::ColumnIndex)` is deprecated, use `begin\n",
      "│     df[!, col_ind] = v\n",
      "│     df\n",
      "│ end` instead.\n",
      "│   caller = top-level scope at In[5]:1\n",
      "└ @ Core In[5]:1\n",
      "┌ Warning: `setindex!(df::DataFrame, v::AbstractVector, col_ind::ColumnIndex)` is deprecated, use `begin\n",
      "│     df[!, col_ind] = v\n",
      "│     df\n",
      "│ end` instead.\n",
      "│   caller = top-level scope at In[5]:2\n",
      "└ @ Core In[5]:2\n",
      "┌ Warning: `setindex!(df::DataFrame, v::AbstractVector, col_ind::ColumnIndex)` is deprecated, use `begin\n",
      "│     df[!, col_ind] = v\n",
      "│     df\n",
      "│ end` instead.\n",
      "│   caller = top-level scope at In[5]:6\n",
      "└ @ Core In[5]:6\n"
     ]
    },
    {
     "name": "stdout",
     "output_type": "stream",
     "text": [
      "Checkpoint2\n"
     ]
    },
    {
     "data": {
      "text/html": [
       "<table class=\"data-frame\"><thead><tr><th></th><th>Country</th><th>year</th><th>rgdpe</th><th>pop</th><th>Gshare</th><th>GDPRank</th><th>CAB</th></tr><tr><th></th><th>String</th><th>Int64</th><th>Float64⍰</th><th>Float64⍰</th><th>Float64⍰</th><th>Float64⍰</th><th>Float64⍰</th></tr></thead><tbody><p>139 rows × 72 columns (omitted printing of 65 columns)</p><tr><th>1</th><td>Albania</td><td>1997</td><td>12886.2</td><td>3.09247</td><td>0.249426</td><td>0.34588</td><td>-13.0465</td></tr><tr><th>2</th><td>Argentina</td><td>1975</td><td>1.11644e5</td><td>26.067</td><td>0.0748918</td><td>0.427278</td><td>-1.6533</td></tr><tr><th>3</th><td>Argentina</td><td>1987</td><td>1.75065e5</td><td>31.3265</td><td>0.0893325</td><td>0.567852</td><td>-3.59341</td></tr><tr><th>4</th><td>Argentina</td><td>1989</td><td>1.80501e5</td><td>32.2636</td><td>0.115883</td><td>0.538273</td><td>1.23635</td></tr><tr><th>5</th><td>Argentina</td><td>1995</td><td>4.19159e5</td><td>34.9948</td><td>0.126188</td><td>1.06803</td><td>-1.8224</td></tr><tr><th>6</th><td>BENIN       </td><td>1988</td><td>6218.21</td><td>4.68537</td><td>0.142414</td><td>0.132286</td><td>-7.40606</td></tr><tr><th>7</th><td>BURKINA FASO</td><td>1990</td><td>8036.22</td><td>8.81103</td><td>0.168448</td><td>0.084447</td><td>-4.21941</td></tr><tr><th>8</th><td>Bulgaria</td><td>1990</td><td>1.06086e5</td><td>8.82111</td><td>0.423322</td><td>1.1135</td><td>-8.65041</td></tr><tr><th>9</th><td>Bulgaria</td><td>1996</td><td>70589.3</td><td>8.27466</td><td>0.237203</td><td>0.731073</td><td>4.6514</td></tr><tr><th>10</th><td>Belarus</td><td>2009</td><td>134128.0</td><td>9.50532</td><td>0.234898</td><td>0.812055</td><td>-12.0261</td></tr><tr><th>11</th><td>BOLIVIA     </td><td>1980</td><td>11840.1</td><td>5.58957</td><td>0.202786</td><td>0.186095</td><td>-0.200053</td></tr><tr><th>12</th><td>BOLIVIA     </td><td>1986</td><td>13687.8</td><td>6.33789</td><td>0.195768</td><td>0.227409</td><td>-7.6</td></tr><tr><th>13</th><td>BOLIVIA     </td><td>1994</td><td>19451.8</td><td>7.41886</td><td>0.288273</td><td>0.240371</td><td>-3.98863</td></tr><tr><th>14</th><td>Brazil</td><td>1982</td><td>6.89713e5</td><td>128.055</td><td>0.0699811</td><td>0.533467</td><td>-8.72476</td></tr><tr><th>15</th><td>Brazil</td><td>1987</td><td>8.89042e5</td><td>142.437</td><td>0.096418</td><td>0.634228</td><td>-0.479951</td></tr><tr><th>16</th><td>Brazil</td><td>1992</td><td>9.80539e5</td><td>155.379</td><td>0.147468</td><td>0.593721</td><td>1.53978</td></tr><tr><th>17</th><td>CENTRAL AFR. REP.</td><td>1994</td><td>3324.63</td><td>3.2537</td><td>0.208894</td><td>0.0936753</td><td>0.806499</td></tr><tr><th>18</th><td>COTE D'IVOIRE</td><td>1984</td><td>24531.3</td><td>9.7691</td><td>0.25524</td><td>0.25124</td><td>-1.08037</td></tr><tr><th>19</th><td>COTE D'IVOIRE</td><td>1988</td><td>27706.2</td><td>11.3371</td><td>0.234944</td><td>0.243594</td><td>-12.1287</td></tr><tr><th>20</th><td>COTE D'IVOIRE</td><td>1994</td><td>31801.4</td><td>13.9538</td><td>0.145564</td><td>0.208936</td><td>-0.16544</td></tr><tr><th>21</th><td>COTE D'IVOIRE</td><td>2001</td><td>40230.4</td><td>16.8654</td><td>0.108383</td><td>0.177063</td><td>-0.546976</td></tr><tr><th>22</th><td>CAMEROON    </td><td>1987</td><td>28276.6</td><td>11.0315</td><td>0.224741</td><td>0.260459</td><td>-6.37598</td></tr><tr><th>23</th><td>CAMEROON    </td><td>1994</td><td>27481.0</td><td>13.5468</td><td>0.10358</td><td>0.185975</td><td>-0.608958</td></tr><tr><th>24</th><td>CONGO, DEM. REP.</td><td>1976</td><td>39864.1</td><td>23.5568</td><td>0.37106</td><td>0.163893</td><td>-2.22726</td></tr><tr><th>25</th><td>CONGO, DEM. REP.</td><td>1983</td><td>51660.2</td><td>28.4481</td><td>0.259266</td><td>0.184871</td><td>-0.551378</td></tr><tr><th>26</th><td>CONGO, DEM. REP.</td><td>1989</td><td>59201.5</td><td>33.7631</td><td>0.262922</td><td>0.168705</td><td>-2.15475</td></tr><tr><th>27</th><td>CONGO, DEM. REP.</td><td>2009</td><td>21503.3</td><td>63.8451</td><td>0.628338</td><td>0.0193825</td><td>-6.13207</td></tr><tr><th>28</th><td>CONGO, REP</td><td>1986</td><td>4960.77</td><td>2.14253</td><td>0.539645</td><td>0.243805</td><td>-34.4048</td></tr><tr><th>29</th><td>CONGO, REP</td><td>1994</td><td>3782.61</td><td>2.64996</td><td>0.346757</td><td>0.130861</td><td>-44.8406</td></tr><tr><th>30</th><td>Colombia</td><td>1998</td><td>2.88026e5</td><td>39.2341</td><td>0.123024</td><td>0.597858</td><td>-4.10151</td></tr><tr><th>&vellip;</th><td>&vellip;</td><td>&vellip;</td><td>&vellip;</td><td>&vellip;</td><td>&vellip;</td><td>&vellip;</td><td>&vellip;</td></tr></tbody></table>"
      ],
      "text/latex": [
       "\\begin{tabular}{r|cccccccc}\n",
       "\t& Country & year & rgdpe & pop & Gshare & GDPRank & CAB & \\\\\n",
       "\t\\hline\n",
       "\t& String & Int64 & Float64⍰ & Float64⍰ & Float64⍰ & Float64⍰ & Float64⍰ & \\\\\n",
       "\t\\hline\n",
       "\t1 & Albania & 1997 & 12886.2 & 3.09247 & 0.249426 & 0.34588 & -13.0465 & $\\dots$ \\\\\n",
       "\t2 & Argentina & 1975 & 1.11644e5 & 26.067 & 0.0748918 & 0.427278 & -1.6533 & $\\dots$ \\\\\n",
       "\t3 & Argentina & 1987 & 1.75065e5 & 31.3265 & 0.0893325 & 0.567852 & -3.59341 & $\\dots$ \\\\\n",
       "\t4 & Argentina & 1989 & 1.80501e5 & 32.2636 & 0.115883 & 0.538273 & 1.23635 & $\\dots$ \\\\\n",
       "\t5 & Argentina & 1995 & 4.19159e5 & 34.9948 & 0.126188 & 1.06803 & -1.8224 & $\\dots$ \\\\\n",
       "\t6 & BENIN        & 1988 & 6218.21 & 4.68537 & 0.142414 & 0.132286 & -7.40606 & $\\dots$ \\\\\n",
       "\t7 & BURKINA FASO & 1990 & 8036.22 & 8.81103 & 0.168448 & 0.084447 & -4.21941 & $\\dots$ \\\\\n",
       "\t8 & Bulgaria & 1990 & 1.06086e5 & 8.82111 & 0.423322 & 1.1135 & -8.65041 & $\\dots$ \\\\\n",
       "\t9 & Bulgaria & 1996 & 70589.3 & 8.27466 & 0.237203 & 0.731073 & 4.6514 & $\\dots$ \\\\\n",
       "\t10 & Belarus & 2009 & 134128.0 & 9.50532 & 0.234898 & 0.812055 & -12.0261 & $\\dots$ \\\\\n",
       "\t11 & BOLIVIA      & 1980 & 11840.1 & 5.58957 & 0.202786 & 0.186095 & -0.200053 & $\\dots$ \\\\\n",
       "\t12 & BOLIVIA      & 1986 & 13687.8 & 6.33789 & 0.195768 & 0.227409 & -7.6 & $\\dots$ \\\\\n",
       "\t13 & BOLIVIA      & 1994 & 19451.8 & 7.41886 & 0.288273 & 0.240371 & -3.98863 & $\\dots$ \\\\\n",
       "\t14 & Brazil & 1982 & 6.89713e5 & 128.055 & 0.0699811 & 0.533467 & -8.72476 & $\\dots$ \\\\\n",
       "\t15 & Brazil & 1987 & 8.89042e5 & 142.437 & 0.096418 & 0.634228 & -0.479951 & $\\dots$ \\\\\n",
       "\t16 & Brazil & 1992 & 9.80539e5 & 155.379 & 0.147468 & 0.593721 & 1.53978 & $\\dots$ \\\\\n",
       "\t17 & CENTRAL AFR. REP. & 1994 & 3324.63 & 3.2537 & 0.208894 & 0.0936753 & 0.806499 & $\\dots$ \\\\\n",
       "\t18 & COTE D'IVOIRE & 1984 & 24531.3 & 9.7691 & 0.25524 & 0.25124 & -1.08037 & $\\dots$ \\\\\n",
       "\t19 & COTE D'IVOIRE & 1988 & 27706.2 & 11.3371 & 0.234944 & 0.243594 & -12.1287 & $\\dots$ \\\\\n",
       "\t20 & COTE D'IVOIRE & 1994 & 31801.4 & 13.9538 & 0.145564 & 0.208936 & -0.16544 & $\\dots$ \\\\\n",
       "\t21 & COTE D'IVOIRE & 2001 & 40230.4 & 16.8654 & 0.108383 & 0.177063 & -0.546976 & $\\dots$ \\\\\n",
       "\t22 & CAMEROON     & 1987 & 28276.6 & 11.0315 & 0.224741 & 0.260459 & -6.37598 & $\\dots$ \\\\\n",
       "\t23 & CAMEROON     & 1994 & 27481.0 & 13.5468 & 0.10358 & 0.185975 & -0.608958 & $\\dots$ \\\\\n",
       "\t24 & CONGO, DEM. REP. & 1976 & 39864.1 & 23.5568 & 0.37106 & 0.163893 & -2.22726 & $\\dots$ \\\\\n",
       "\t25 & CONGO, DEM. REP. & 1983 & 51660.2 & 28.4481 & 0.259266 & 0.184871 & -0.551378 & $\\dots$ \\\\\n",
       "\t26 & CONGO, DEM. REP. & 1989 & 59201.5 & 33.7631 & 0.262922 & 0.168705 & -2.15475 & $\\dots$ \\\\\n",
       "\t27 & CONGO, DEM. REP. & 2009 & 21503.3 & 63.8451 & 0.628338 & 0.0193825 & -6.13207 & $\\dots$ \\\\\n",
       "\t28 & CONGO, REP & 1986 & 4960.77 & 2.14253 & 0.539645 & 0.243805 & -34.4048 & $\\dots$ \\\\\n",
       "\t29 & CONGO, REP & 1994 & 3782.61 & 2.64996 & 0.346757 & 0.130861 & -44.8406 & $\\dots$ \\\\\n",
       "\t30 & Colombia & 1998 & 2.88026e5 & 39.2341 & 0.123024 & 0.597858 & -4.10151 & $\\dots$ \\\\\n",
       "\t$\\dots$ & $\\dots$ & $\\dots$ & $\\dots$ & $\\dots$ & $\\dots$ & $\\dots$ & $\\dots$ &  \\\\\n",
       "\\end{tabular}\n"
      ],
      "text/plain": [
       "139×72 DataFrame. Omitted printing of 66 columns\n",
       "│ Row │ Country      │ year  │ rgdpe     │ pop      │ Gshare    │ GDPRank   │\n",
       "│     │ \u001b[90mString\u001b[39m       │ \u001b[90mInt64\u001b[39m │ \u001b[90mFloat64⍰\u001b[39m  │ \u001b[90mFloat64⍰\u001b[39m │ \u001b[90mFloat64⍰\u001b[39m  │ \u001b[90mFloat64⍰\u001b[39m  │\n",
       "├─────┼──────────────┼───────┼───────────┼──────────┼───────────┼───────────┤\n",
       "│ 1   │ Albania      │ 1997  │ 12886.2   │ 3.09247  │ 0.249426  │ 0.34588   │\n",
       "│ 2   │ Argentina    │ 1975  │ 1.11644e5 │ 26.067   │ 0.0748918 │ 0.427278  │\n",
       "│ 3   │ Argentina    │ 1987  │ 1.75065e5 │ 31.3265  │ 0.0893325 │ 0.567852  │\n",
       "│ 4   │ Argentina    │ 1989  │ 1.80501e5 │ 32.2636  │ 0.115883  │ 0.538273  │\n",
       "│ 5   │ Argentina    │ 1995  │ 4.19159e5 │ 34.9948  │ 0.126188  │ 1.06803   │\n",
       "│ 6   │ BENIN        │ 1988  │ 6218.21   │ 4.68537  │ 0.142414  │ 0.132286  │\n",
       "│ 7   │ BURKINA FASO │ 1990  │ 8036.22   │ 8.81103  │ 0.168448  │ 0.084447  │\n",
       "│ 8   │ Bulgaria     │ 1990  │ 1.06086e5 │ 8.82111  │ 0.423322  │ 1.1135    │\n",
       "│ 9   │ Bulgaria     │ 1996  │ 70589.3   │ 8.27466  │ 0.237203  │ 0.731073  │\n",
       "│ 10  │ Belarus      │ 2009  │ 134128.0  │ 9.50532  │ 0.234898  │ 0.812055  │\n",
       "⋮\n",
       "│ 129 │ Uruguay      │ 1981  │ 28288.7   │ 2.93504  │ 0.142414  │ 0.881394  │\n",
       "│ 130 │ Uruguay      │ 1983  │ 22943.0   │ 2.97346  │ 0.176519  │ 0.785515  │\n",
       "│ 131 │ Uruguay      │ 1990  │ 27874.7   │ 3.10999  │ 0.2106    │ 0.829872  │\n",
       "│ 132 │ Uruguay      │ 2002  │ 31942.2   │ 3.32777  │ 0.128723  │ 0.700452  │\n",
       "│ 133 │ UZBEKISTAN   │ 1994  │ 85906.9   │ 22.2761  │ 0.527966  │ 0.353547  │\n",
       "│ 134 │ Venezuela    │ 1989  │ 1.5344e5  │ 19.3883  │ 0.319834  │ 0.76144   │\n",
       "│ 135 │ ZAMBIA       │ 1983  │ 10400.4   │ 6.57167  │ 0.513516  │ 0.161116  │\n",
       "│ 136 │ ZAMBIA       │ 1995  │ 9223.97   │ 9.25353  │ 0.122546  │ 0.0888826 │\n",
       "│ 137 │ ZIMBABWE     │ 1983  │ 28736.4   │ 8.19756  │ 0.330427  │ 0.356873  │\n",
       "│ 138 │ ZIMBABWE     │ 1991  │ 52277.5   │ 10.763   │ 0.207964  │ 0.4604    │\n",
       "│ 139 │ ZIMBABWE     │ 1998  │ 45291.7   │ 12.2267  │ 0.14348   │ 0.301674  │"
      ]
     },
     "execution_count": 5,
     "metadata": {},
     "output_type": "execute_result"
    }
   ],
   "source": [
    "\tTreated[:ID] = collect(1:1:completen)\n",
    "\tPool[:ID] = collect(1:1:completep)\n",
    "\t#println(\"Put in new IDs\")\n",
    "\tWeights = DataFrame(Pool[:, [:Country, :year, :ID]])\n",
    "\tSynthetic = DataFrame(Pool[1,[[:Country, :year]; matchon; predict]])\n",
    "\tSynthetic[:SqError] = [0.]\n",
    "\tdeleterows!(Synthetic, 1)\n",
    "\tTreatedMatched = DataFrame(Treated[1,:])\n",
    "\tdeleterows!(TreatedMatched,1)\n",
    "\tprintln(\"Checkpoint2\")\n",
    "\n",
    "deleterows!(Treated,8)"
   ]
  },
  {
   "cell_type": "code",
   "execution_count": null,
   "metadata": {},
   "outputs": [
    {
     "name": "stdout",
     "output_type": "stream",
     "text": [
      "Checkpoint3\n"
     ]
    },
    {
     "name": "stderr",
     "output_type": "stream",
     "text": [
      "┌ Warning: `getindex(df::DataFrame, col_ind::ColumnIndex)` is deprecated, use `df[!, col_ind]` instead.\n",
      "│   caller = top-level scope at In[6]:5\n",
      "└ @ Core In[6]:5\n",
      "┌ Warning: `getindex(df::DataFrame, col_ind::ColumnIndex)` is deprecated, use `df[!, col_ind]` instead.\n",
      "│   caller = top-level scope at In[6]:13\n",
      "└ @ Core In[6]:13\n",
      "┌ Warning: `getindex(df::DataFrame, col_ind::ColumnIndex)` is deprecated, use `df[!, col_ind]` instead.\n",
      "│   caller = top-level scope at In[6]:20\n",
      "└ @ Core In[6]:20\n"
     ]
    },
    {
     "name": "stdout",
     "output_type": "stream",
     "text": [
      "32 left after 1 variables\n",
      "12 left after 2 variables\n",
      "8 left after 3 variables\n",
      "2 left after 4 variables\n",
      "2 left after 5 variables\n",
      "1 left after 6 variables\n",
      "1 left after 7 variables\n",
      "1 left after 8 variables\n",
      "1 left after 9 variables\n",
      "Albania 1997 has  matches\n"
     ]
    },
    {
     "name": "stderr",
     "output_type": "stream",
     "text": [
      "┌ Warning: `getindex(df::DataFrame, col_ind::ColumnIndex)` is deprecated, use `df[!, col_ind]` instead.\n",
      "│   caller = top-level scope at In[6]:26\n",
      "└ @ Core In[6]:26\n",
      "┌ Warning: `convert(::Type{Array}, df::AbstractDataFrame)` is deprecated, use `convert(Matrix, df)` instead.\n",
      "│   caller = top-level scope at In[6]:31\n",
      "└ @ Core In[6]:31\n"
     ]
    },
    {
     "name": "stdout",
     "output_type": "stream",
     "text": [
      "opting!\n",
      "Checkpoint3\n",
      "117 left after 1 variables\n",
      "99 left after 2 variables\n",
      "86 left after 3 variables\n",
      "75 left after 4 variables\n",
      "66 left after 5 variables\n",
      "62 left after 6 variables\n",
      "29 left after 7 variables\n",
      "28 left after 8 variables\n",
      "28 left after 9 variables\n",
      "Argentina 1975 has  matches\n",
      "opting!\n",
      "Checkpoint3\n",
      "55 left after 1 variables\n",
      "44 left after 2 variables\n",
      "42 left after 3 variables\n",
      "9 left after 4 variables\n",
      "4 left after 5 variables\n",
      "3 left after 6 variables\n",
      "2 left after 7 variables\n",
      "2 left after 8 variables\n",
      "2 left after 9 variables\n",
      "Argentina 1987 has  matches\n",
      "opting!\n",
      "Checkpoint3\n",
      "113 left after 1 variables\n",
      "18 left after 2 variables\n",
      "7 left after 3 variables\n",
      "5 left after 4 variables\n",
      "3 left after 5 variables\n",
      "0 left after 6 variables\n",
      "0 left after 7 variables\n",
      "0 left after 8 variables\n",
      "0 left after 9 variables\n",
      "Argentina 1989 has no local matches\n",
      "Checkpoint3\n",
      "87 left after 1 variables\n",
      "17 left after 2 variables\n",
      "11 left after 3 variables\n",
      "11 left after 4 variables\n",
      "9 left after 5 variables\n",
      "5 left after 6 variables\n",
      "4 left after 7 variables\n",
      "3 left after 8 variables\n",
      "3 left after 9 variables\n",
      "Argentina 1995 has  matches\n",
      "opting!\n",
      "Checkpoint3\n",
      "64 left after 1 variables\n",
      "42 left after 2 variables\n",
      "37 left after 3 variables\n",
      "34 left after 4 variables\n",
      "28 left after 5 variables\n",
      "26 left after 6 variables\n",
      "15 left after 7 variables\n",
      "14 left after 8 variables\n",
      "14 left after 9 variables\n",
      "BENIN        1988 has  matches\n",
      "opting!\n",
      "Checkpoint3\n",
      "86 left after 1 variables\n",
      "73 left after 2 variables\n",
      "58 left after 3 variables\n",
      "52 left after 4 variables\n",
      "48 left after 5 variables\n",
      "45 left after 6 variables\n",
      "22 left after 7 variables\n",
      "22 left after 8 variables\n",
      "22 left after 9 variables\n",
      "BURKINA FASO 1990 has  matches\n",
      "opting!\n",
      "Checkpoint3\n",
      "116 left after 1 variables\n",
      "103 left after 2 variables\n",
      "89 left after 3 variables\n",
      "35 left after 4 variables\n",
      "13 left after 5 variables\n",
      "2 left after 6 variables\n",
      "1 left after 7 variables\n",
      "0 left after 8 variables\n",
      "0 left after 9 variables\n",
      "Bulgaria 1990 has no local matches\n",
      "Checkpoint3\n",
      "22 left after 1 variables\n",
      "8 left after 2 variables\n",
      "7 left after 3 variables\n",
      "4 left after 4 variables\n",
      "4 left after 5 variables\n",
      "3 left after 6 variables\n",
      "1 left after 7 variables\n",
      "0 left after 8 variables\n",
      "0 left after 9 variables\n",
      "Bulgaria 1996 has no local matches\n",
      "Checkpoint3\n",
      "45 left after 1 variables\n",
      "38 left after 2 variables\n",
      "27 left after 3 variables\n",
      "23 left after 4 variables\n",
      "19 left after 5 variables\n",
      "12 left after 6 variables\n",
      "7 left after 7 variables"
     ]
    }
   ],
   "source": [
    "for i = 1:completen\n",
    "println(\"Checkpoint3\")\n",
    "\t\tobs = DataFrame(Treated[i,:])  #pull one obs to match\n",
    "\t\t#println(\"Checkpoint4\")\n",
    "\t\tLocalPool = DataFrame(Pool[Pool[:year].>0,:])  #just want to copy\n",
    "\t\t#println(\"Checkpoint5\") \n",
    "\t\tcountry = obs[1, :Country]\n",
    "\t\t#println(\"Checkpoint6\")\n",
    "\t\tyr = obs[1, :year]\n",
    "\t\t#println(\"Checkpoint7\")\n",
    "\t\ttomatch = ones(m)   # the vector of data to minimize distance between\n",
    "\t\t\tfor v = 1:m  #populate this vector\n",
    "\t\t\t\tj = convert(Array, obs[matchon[v]])\n",
    "\t\t\t\ttomatch[v] = j[1]\n",
    "\t\t\tend\n",
    "\t\t\t#println(\"Checkpoint8\")\n",
    "\t\t\t#Trim to only local matches\n",
    "\t\t\tfor v = 1:m\n",
    "\t\t\tq  = size(LocalPool)[1]\n",
    "\t\t\tLocalPool = DataFrame(LocalPool[abs.(LocalPool[matchon[v]]-tomatch[v]*ones(q)).<localtol[v],:])\n",
    "            q = size(LocalPool)[1]\n",
    "            println(\"$q left after $v variables\")\n",
    "\t\t\tend\n",
    "\t\t\t#println(\"Checkpoint9\")\n",
    "\t\t\tq = size(LocalPool)[1] #trimmed to local size\n",
    "\t\t\tPoolWeight = DataFrame(ID = LocalPool[:ID])\n",
    "    if q==0\n",
    "\t\tprintln(\"$country $yr has no local matches\")\n",
    "    else \n",
    "        println(\"$country $yr has  matches\")\n",
    "        \t\tobsvec = convert(Array, obs)\n",
    "\t\tpoolMatrixMatching = ones(q,m)\n",
    "\t\t\tfor v = 1:m\n",
    "\t\t\t\tpoolMatrixMatching[:,v] = convert(Array, LocalPool[:,matchon[v]])\n",
    "\t\t\tend\n",
    "\t\tpoolMatrixMatching = poolMatrixMatching'\n",
    "\t\tweightmatrix = zeros(m,m)\n",
    "\t\t\tfor M in 1:m\n",
    "\t\t\tweightmatrix[M,M] = matchweights[M]\n",
    "\t\t\tend\n",
    "        function SSE(x)\n",
    "\t\t\t(weightmatrix*(tomatch - poolMatrixMatching*x))'*(weightmatrix*(tomatch - poolMatrixMatching*x))\t\n",
    "\t\tend\n",
    "\t\tfunction sumone(x)\n",
    "\t\t\tsum(x) -1\n",
    "\t\tend\n",
    "\t\topt = Opt(:LN_COBYLA, q)\n",
    "\t\tlower_bounds!(opt, zeros(q))\n",
    "\t\tupper_bounds!(opt, ones(q))\n",
    "\t\tequality_constraint!(opt, (x, grad) -> sumone(x), 1e-13)\n",
    "\t\tftol_rel!(opt, 1e-8)\n",
    "\t\txtol_rel!(opt, 1e-5)\n",
    "\t\tmaxtime!(opt, 60)\n",
    "\t\tmin_objective!(opt, (x, grad) -> SSE(x))  #calls on the inner function above \n",
    "\n",
    "\t\tinitguess = 1/q * ones(q)\n",
    "\t\tprintln(\"opting!\")\n",
    "        (sol, weight, ret) = optimize(opt, initguess)\n",
    "    end\n",
    "end\n"
   ]
  },
  {
   "cell_type": "code",
   "execution_count": null,
   "metadata": {},
   "outputs": [],
   "source": [
    "\t\tobsvec = convert(Array, obs)\n",
    "\t\tpoolMatrixMatching = ones(q,m)\n",
    "\t\t\tfor v = 1:m\n",
    "\t\t\t\tpoolMatrixMatching[:,v] = convert(Array, LocalPool[:,matchon[v]])\n",
    "\t\t\tend\n",
    "\t\tpoolMatrixMatching = poolMatrixMatching'\n",
    "\t\tweightmatrix = zeros(m,m)\n",
    "\t\t\tfor M in 1:m\n",
    "\t\t\tweightmatrix[M,M] = matchweights[M]\n",
    "\t\t\tend\n",
    "\n",
    "\t#Now need to declare as a model to minimize over\n",
    "\t\tfunction SSE(x)\n",
    "\t\t\t(weightmatrix*(tomatch - poolMatrixMatching*x))'*(weightmatrix*(tomatch - poolMatrixMatching*x))\t\n",
    "\t\tend\n",
    "\t\tfunction sumone(x)\n",
    "\t\t\tsum(x) -1\n",
    "\t\tend\n",
    "\t\topt = Opt(:LN_COBYLA, q)\n",
    "\t\tlower_bounds!(opt, zeros(q))\n",
    "\t\tupper_bounds!(opt, ones(q))\n",
    "\t\tequality_constraint!(opt, (x, grad) -> sumone(x), 1e-13)\n",
    "\t\tftol_rel!(opt, 1e-8)\n",
    "\t\txtol_rel!(opt, 1e-5)\n",
    "\t\tmaxtime!(opt, 60)\n",
    "\t\tmin_objective!(opt, (x, grad) -> SSE(x))  #calls on the inner function above \n",
    "\n",
    "\t\tinitguess = 1/q * ones(q)\n",
    "\t\tprintln(\"opting!\")\n",
    "\t\t(sol, weight, ret) = optimize(opt, initguess);\n",
    "\n",
    "\t\t#Now want to create my synthetic observation\n",
    "\t\tif sol < matchtol\n",
    "\t\tRelevantPoolData = DataFrame(LocalPool[:, [matchon; predict]])\n",
    "\t\tpoolForCollapse = convert(Array, RelevantPoolData)\n",
    "\t\tCollapsed = weight'*poolForCollapse\n",
    "\t\tSynthvect = [\"Synthetic $country\" yr Collapsed sol]\n",
    "\t\tpush!(Synthetic, Synthvect)\n",
    "\t\tforadd = convert(Array, Treated[i,:])\n",
    "\t\tpush!(TreatedMatched, foradd)\n",
    "\t\tPoolWeight[:weight] = weight\n",
    "\t\tWeights = join(Weights, PoolWeight, on=:ID, kind=:outer, makeunique=true)\n",
    "\t\telse\n",
    "\t\tprintln(\"$country $yr has no good matches\")\n",
    "\t\tend"
   ]
  },
  {
   "cell_type": "code",
   "execution_count": 10,
   "metadata": {},
   "outputs": [
    {
     "data": {
      "text/html": [
       "<table class=\"data-frame\"><thead><tr><th></th><th>Country</th><th>year</th><th>rgdpe</th><th>pop</th><th>Gshare</th><th>GDPRank</th><th>CAB</th></tr><tr><th></th><th>String</th><th>Int64</th><th>Float64⍰</th><th>Float64⍰</th><th>Float64⍰</th><th>Float64⍰</th><th>Float64⍰</th></tr></thead><tbody><p>141 rows × 72 columns (omitted printing of 65 columns)</p><tr><th>1</th><td>ANGOLA      </td><td>1991</td><td>27015.7</td><td>11.4722</td><td>0.10119</td><td>0.223216</td><td>-5.3216</td></tr><tr><th>2</th><td>ANGOLA      </td><td>1996</td><td>42065.9</td><td>13.4248</td><td>0.0263607</td><td>0.268531</td><td>49.9795</td></tr><tr><th>3</th><td>Albania</td><td>1990</td><td>13103.8</td><td>3.28145</td><td>0.145067</td><td>0.369734</td><td>-4.31294</td></tr><tr><th>4</th><td>Albania</td><td>1994</td><td>12423.7</td><td>3.14063</td><td>0.206342</td><td>0.362653</td><td>-3.70618</td></tr><tr><th>5</th><td>Argentina</td><td>1980</td><td>1.28657e5</td><td>28.1059</td><td>0.0784215</td><td>0.402154</td><td>-1.13581</td></tr><tr><th>6</th><td>Austria</td><td>2008</td><td>3.53267e5</td><td>8.33146</td><td>0.153254</td><td>2.28405</td><td>4.5182</td></tr><tr><th>7</th><td>BURUNDI     </td><td>1994</td><td>4460.05</td><td>6.13404</td><td>0.114076</td><td>0.0666579</td><td>1.65049</td></tr><tr><th>8</th><td>Belgium</td><td>2008</td><td>4.22803e5</td><td>10.7792</td><td>0.179589</td><td>2.1129</td><td>-0.999249</td></tr><tr><th>9</th><td>BENIN       </td><td>1994</td><td>6100.06</td><td>5.78679</td><td>0.104374</td><td>0.0966395</td><td>-2.47704</td></tr><tr><th>10</th><td>BURKINA FASO</td><td>1994</td><td>8446.5</td><td>9.81659</td><td>0.188506</td><td>0.0788815</td><td>-0.977654</td></tr><tr><th>11</th><td>BANGLADESH  </td><td>1976</td><td>84864.7</td><td>72.9302</td><td>0.161996</td><td>0.112697</td><td>-3.67683</td></tr><tr><th>12</th><td>Belarus</td><td>1999</td><td>78521.0</td><td>10.0053</td><td>0.335149</td><td>0.617365</td><td>-1.60085</td></tr><tr><th>13</th><td>BOLIVIA     </td><td>1973</td><td>8801.63</td><td>4.79851</td><td>0.180061</td><td>0.188519</td><td>missing</td></tr><tr><th>14</th><td>Brazil</td><td>1976</td><td>5.80594e5</td><td>111.076</td><td>0.105939</td><td>0.506227</td><td>-6.45638</td></tr><tr><th>15</th><td>Brazil</td><td>1990</td><td>8.85781e5</td><td>150.393</td><td>0.116191</td><td>0.545327</td><td>-0.796643</td></tr><tr><th>16</th><td>Brazil</td><td>1994</td><td>1.19028e6</td><td>160.261</td><td>0.197337</td><td>0.680897</td><td>-0.301038</td></tr><tr><th>17</th><td>Botswana</td><td>1984</td><td>3184.81</td><td>1.14472</td><td>0.336498</td><td>0.278361</td><td>-4.89192</td></tr><tr><th>18</th><td>CENTRAL AFR. REP.</td><td>1976</td><td>2418.51</td><td>2.06155</td><td>0.258714</td><td>0.113618</td><td>14.3398</td></tr><tr><th>19</th><td>Switzerland</td><td>2008</td><td>3.99927e5</td><td>7.64654</td><td>0.0704789</td><td>2.81735</td><td>2.42533</td></tr><tr><th>20</th><td>Chile</td><td>1972</td><td>74193.3</td><td>9.91656</td><td>0.210221</td><td>0.796767</td><td>missing</td></tr><tr><th>21</th><td>Chile</td><td>1976</td><td>60226.3</td><td>10.5842</td><td>0.261561</td><td>0.551086</td><td>1.43594</td></tr><tr><th>22</th><td>China</td><td>1998</td><td>4.65212e6</td><td>1255.26</td><td>0.221509</td><td>0.301818</td><td>3.04786</td></tr><tr><th>23</th><td>CAMEROON    </td><td>1989</td><td>27909.4</td><td>11.717</td><td>0.189709</td><td>0.229177</td><td>-2.28658</td></tr><tr><th>24</th><td>CONGO, DEM. REP.</td><td>1991</td><td>38473.4</td><td>36.3092</td><td>0.235388</td><td>0.100438</td><td>-2.3459</td></tr><tr><th>25</th><td>CONGO, DEM. REP.</td><td>1994</td><td>31861.5</td><td>40.804</td><td>0.148766</td><td>0.0715849</td><td>-1.07925</td></tr><tr><th>26</th><td>CONGO, DEM. REP.</td><td>1999</td><td>28245.6</td><td>46.7882</td><td>0.084224</td><td>0.0474896</td><td>-0.588249</td></tr><tr><th>27</th><td>CONGO, REP</td><td>1992</td><td>3983.93</td><td>2.51491</td><td>0.394159</td><td>0.149039</td><td>-10.7934</td></tr><tr><th>28</th><td>Colombia</td><td>1982</td><td>1.94423e5</td><td>29.0272</td><td>0.104241</td><td>0.663402</td><td>-5.28557</td></tr><tr><th>29</th><td>Colombia</td><td>1985</td><td>1.99257e5</td><td>31.0117</td><td>0.0937712</td><td>0.65126</td><td>-3.26536</td></tr><tr><th>30</th><td>COMOROS     </td><td>1994</td><td>726.98</td><td>0.466309</td><td>0.380701</td><td>0.142925</td><td>-3.87744</td></tr><tr><th>&vellip;</th><td>&vellip;</td><td>&vellip;</td><td>&vellip;</td><td>&vellip;</td><td>&vellip;</td><td>&vellip;</td><td>&vellip;</td></tr></tbody></table>"
      ],
      "text/latex": [
       "\\begin{tabular}{r|cccccccc}\n",
       "\t& Country & year & rgdpe & pop & Gshare & GDPRank & CAB & \\\\\n",
       "\t\\hline\n",
       "\t& String & Int64 & Float64⍰ & Float64⍰ & Float64⍰ & Float64⍰ & Float64⍰ & \\\\\n",
       "\t\\hline\n",
       "\t1 & ANGOLA       & 1991 & 27015.7 & 11.4722 & 0.10119 & 0.223216 & -5.3216 & $\\dots$ \\\\\n",
       "\t2 & ANGOLA       & 1996 & 42065.9 & 13.4248 & 0.0263607 & 0.268531 & 49.9795 & $\\dots$ \\\\\n",
       "\t3 & Albania & 1990 & 13103.8 & 3.28145 & 0.145067 & 0.369734 & -4.31294 & $\\dots$ \\\\\n",
       "\t4 & Albania & 1994 & 12423.7 & 3.14063 & 0.206342 & 0.362653 & -3.70618 & $\\dots$ \\\\\n",
       "\t5 & Argentina & 1980 & 1.28657e5 & 28.1059 & 0.0784215 & 0.402154 & -1.13581 & $\\dots$ \\\\\n",
       "\t6 & Austria & 2008 & 3.53267e5 & 8.33146 & 0.153254 & 2.28405 & 4.5182 & $\\dots$ \\\\\n",
       "\t7 & BURUNDI      & 1994 & 4460.05 & 6.13404 & 0.114076 & 0.0666579 & 1.65049 & $\\dots$ \\\\\n",
       "\t8 & Belgium & 2008 & 4.22803e5 & 10.7792 & 0.179589 & 2.1129 & -0.999249 & $\\dots$ \\\\\n",
       "\t9 & BENIN        & 1994 & 6100.06 & 5.78679 & 0.104374 & 0.0966395 & -2.47704 & $\\dots$ \\\\\n",
       "\t10 & BURKINA FASO & 1994 & 8446.5 & 9.81659 & 0.188506 & 0.0788815 & -0.977654 & $\\dots$ \\\\\n",
       "\t11 & BANGLADESH   & 1976 & 84864.7 & 72.9302 & 0.161996 & 0.112697 & -3.67683 & $\\dots$ \\\\\n",
       "\t12 & Belarus & 1999 & 78521.0 & 10.0053 & 0.335149 & 0.617365 & -1.60085 & $\\dots$ \\\\\n",
       "\t13 & BOLIVIA      & 1973 & 8801.63 & 4.79851 & 0.180061 & 0.188519 &  & $\\dots$ \\\\\n",
       "\t14 & Brazil & 1976 & 5.80594e5 & 111.076 & 0.105939 & 0.506227 & -6.45638 & $\\dots$ \\\\\n",
       "\t15 & Brazil & 1990 & 8.85781e5 & 150.393 & 0.116191 & 0.545327 & -0.796643 & $\\dots$ \\\\\n",
       "\t16 & Brazil & 1994 & 1.19028e6 & 160.261 & 0.197337 & 0.680897 & -0.301038 & $\\dots$ \\\\\n",
       "\t17 & Botswana & 1984 & 3184.81 & 1.14472 & 0.336498 & 0.278361 & -4.89192 & $\\dots$ \\\\\n",
       "\t18 & CENTRAL AFR. REP. & 1976 & 2418.51 & 2.06155 & 0.258714 & 0.113618 & 14.3398 & $\\dots$ \\\\\n",
       "\t19 & Switzerland & 2008 & 3.99927e5 & 7.64654 & 0.0704789 & 2.81735 & 2.42533 & $\\dots$ \\\\\n",
       "\t20 & Chile & 1972 & 74193.3 & 9.91656 & 0.210221 & 0.796767 &  & $\\dots$ \\\\\n",
       "\t21 & Chile & 1976 & 60226.3 & 10.5842 & 0.261561 & 0.551086 & 1.43594 & $\\dots$ \\\\\n",
       "\t22 & China & 1998 & 4.65212e6 & 1255.26 & 0.221509 & 0.301818 & 3.04786 & $\\dots$ \\\\\n",
       "\t23 & CAMEROON     & 1989 & 27909.4 & 11.717 & 0.189709 & 0.229177 & -2.28658 & $\\dots$ \\\\\n",
       "\t24 & CONGO, DEM. REP. & 1991 & 38473.4 & 36.3092 & 0.235388 & 0.100438 & -2.3459 & $\\dots$ \\\\\n",
       "\t25 & CONGO, DEM. REP. & 1994 & 31861.5 & 40.804 & 0.148766 & 0.0715849 & -1.07925 & $\\dots$ \\\\\n",
       "\t26 & CONGO, DEM. REP. & 1999 & 28245.6 & 46.7882 & 0.084224 & 0.0474896 & -0.588249 & $\\dots$ \\\\\n",
       "\t27 & CONGO, REP & 1992 & 3983.93 & 2.51491 & 0.394159 & 0.149039 & -10.7934 & $\\dots$ \\\\\n",
       "\t28 & Colombia & 1982 & 1.94423e5 & 29.0272 & 0.104241 & 0.663402 & -5.28557 & $\\dots$ \\\\\n",
       "\t29 & Colombia & 1985 & 1.99257e5 & 31.0117 & 0.0937712 & 0.65126 & -3.26536 & $\\dots$ \\\\\n",
       "\t30 & COMOROS      & 1994 & 726.98 & 0.466309 & 0.380701 & 0.142925 & -3.87744 & $\\dots$ \\\\\n",
       "\t$\\dots$ & $\\dots$ & $\\dots$ & $\\dots$ & $\\dots$ & $\\dots$ & $\\dots$ & $\\dots$ &  \\\\\n",
       "\\end{tabular}\n"
      ],
      "text/plain": [
       "141×72 DataFrame. Omitted printing of 66 columns\n",
       "│ Row │ Country       │ year  │ rgdpe     │ pop      │ Gshare    │ GDPRank   │\n",
       "│     │ \u001b[90mString\u001b[39m        │ \u001b[90mInt64\u001b[39m │ \u001b[90mFloat64⍰\u001b[39m  │ \u001b[90mFloat64⍰\u001b[39m │ \u001b[90mFloat64⍰\u001b[39m  │ \u001b[90mFloat64⍰\u001b[39m  │\n",
       "├─────┼───────────────┼───────┼───────────┼──────────┼───────────┼───────────┤\n",
       "│ 1   │ ANGOLA        │ 1991  │ 27015.7   │ 11.4722  │ 0.10119   │ 0.223216  │\n",
       "│ 2   │ ANGOLA        │ 1996  │ 42065.9   │ 13.4248  │ 0.0263607 │ 0.268531  │\n",
       "│ 3   │ Albania       │ 1990  │ 13103.8   │ 3.28145  │ 0.145067  │ 0.369734  │\n",
       "│ 4   │ Albania       │ 1994  │ 12423.7   │ 3.14063  │ 0.206342  │ 0.362653  │\n",
       "│ 5   │ Argentina     │ 1980  │ 1.28657e5 │ 28.1059  │ 0.0784215 │ 0.402154  │\n",
       "│ 6   │ Austria       │ 2008  │ 3.53267e5 │ 8.33146  │ 0.153254  │ 2.28405   │\n",
       "│ 7   │ BURUNDI       │ 1994  │ 4460.05   │ 6.13404  │ 0.114076  │ 0.0666579 │\n",
       "│ 8   │ Belgium       │ 2008  │ 4.22803e5 │ 10.7792  │ 0.179589  │ 2.1129    │\n",
       "│ 9   │ BENIN         │ 1994  │ 6100.06   │ 5.78679  │ 0.104374  │ 0.0966395 │\n",
       "│ 10  │ BURKINA FASO  │ 1994  │ 8446.5    │ 9.81659  │ 0.188506  │ 0.0788815 │\n",
       "⋮\n",
       "│ 131 │ United States │ 1988  │ 8.74827e6 │ 247.865  │ 0.112661  │ 3.51803   │\n",
       "│ 132 │ United States │ 2007  │ 1.5606e7  │ 301.656  │ 0.110963  │ 2.88782   │\n",
       "│ 133 │ UZBEKISTAN    │ 2000  │ 99108.8   │ 24.5182  │ 0.513663  │ 0.299907  │\n",
       "│ 134 │ Venezuela     │ 1982  │ 1.50148e5 │ 16.1859  │ 0.252959  │ 0.918795  │\n",
       "│ 135 │ Venezuela     │ 1984  │ 1.57743e5 │ 17.0578  │ 0.242385  │ 0.925233  │\n",
       "│ 136 │ Venezuela     │ 1994  │ 1.61054e5 │ 21.7268  │ 0.296262  │ 0.679572  │\n",
       "│ 137 │ Venezuela     │ 2002  │ 1.69759e5 │ 25.3991  │ 0.144703  │ 0.487731  │\n",
       "│ 138 │ VIETNAM       │ 1997  │ 1.43914e5 │ 77.4604  │ 0.165057  │ 0.154216  │\n",
       "│ 139 │ South Africa  │ 1984  │ 294247.0  │ 32.205   │ 0.135848  │ 0.914138  │\n",
       "│ 140 │ ZAMBIA        │ 1989  │ 10856.1   │ 7.92103  │ 0.22879   │ 0.131864  │\n",
       "│ 141 │ ZIMBABWE      │ 2003  │ 23336.7   │ 12.7742  │ 0.164606  │ 0.129989  │"
      ]
     },
     "execution_count": 10,
     "metadata": {},
     "output_type": "execute_result"
    }
   ],
   "source": [
    "Pool"
   ]
  },
  {
   "cell_type": "code",
   "execution_count": null,
   "metadata": {},
   "outputs": [],
   "source": []
  }
 ],
 "metadata": {
  "kernelspec": {
   "display_name": "Julia 1.0.4",
   "language": "julia",
   "name": "julia-1.0"
  },
  "language_info": {
   "file_extension": ".jl",
   "mimetype": "application/julia",
   "name": "julia",
   "version": "1.0.4"
  }
 },
 "nbformat": 4,
 "nbformat_minor": 4
}
