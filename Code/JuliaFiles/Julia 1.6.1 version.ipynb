{
 "cells": [
  {
   "cell_type": "code",
   "execution_count": 1,
   "metadata": {},
   "outputs": [
    {
     "name": "stdout",
     "output_type": "stream",
     "text": [
      "Average Number of IMF programs is 20.25.\n",
      "Average Size of all IMF programs is 3.052745340312058.\n",
      "0.6707317073170732 of loans withdraw less than the full amount.\n",
      "Number of Short-Term Loans for Summary Path is 467\n",
      "Number of crises with IMF lending is 149\n",
      "Number of crises without IMF lending is 120\n",
      "Number of total crises for path is 269\n",
      "Avg Loan Size for Matched Obs: 3.3110648461016945\n",
      "Avg Debt Crisis Length for Matched Obs: 35.128889713333336\n",
      "Avg Debt Crisis Length for Control Obs: 24.60017588443619\n",
      "The number of treated observations with synthetic controls is 118\n",
      "P value for Hotelling T-sq is 2.7354451003159727e-5\n"
     ]
    },
    {
     "name": "stderr",
     "output_type": "stream",
     "text": [
      "┌ Warning: Indices Base.OneTo(1) of attribute `markercolor` does not match data indices 1:7.\n",
      "└ @ Plots C:\\Users\\Admin\\.julia\\packages\\Plots\\HcxwM\\src\\utils.jl:129\n",
      "┌ Warning: Indices Base.OneTo(1) of attribute `markersize` does not match data indices 1:7.\n",
      "└ @ Plots C:\\Users\\Admin\\.julia\\packages\\Plots\\HcxwM\\src\\utils.jl:129\n",
      "┌ Warning: Indices Base.OneTo(1) of attribute `markershape` does not match data indices 1:7.\n",
      "└ @ Plots C:\\Users\\Admin\\.julia\\packages\\Plots\\HcxwM\\src\\utils.jl:129\n",
      "┌ Warning: Indices Base.OneTo(1) of attribute `markercolor` does not match data indices 1:7.\n",
      "└ @ Plots C:\\Users\\Admin\\.julia\\packages\\Plots\\HcxwM\\src\\utils.jl:129\n",
      "┌ Warning: Indices Base.OneTo(1) of attribute `markersize` does not match data indices 1:7.\n",
      "└ @ Plots C:\\Users\\Admin\\.julia\\packages\\Plots\\HcxwM\\src\\utils.jl:129\n",
      "┌ Warning: Indices Base.OneTo(1) of attribute `markershape` does not match data indices 1:7.\n",
      "└ @ Plots C:\\Users\\Admin\\.julia\\packages\\Plots\\HcxwM\\src\\utils.jl:129\n"
     ]
    },
    {
     "name": "stdout",
     "output_type": "stream",
     "text": [
      "Average Cumulative Effect is 8.65608372486421\n",
      "BOE multiplier is 2.6142900025215488\n"
     ]
    },
    {
     "name": "stderr",
     "output_type": "stream",
     "text": [
      "┌ Warning: Indices Base.OneTo(1) of attribute `linewidth` does not match data indices 1:118.\n",
      "└ @ Plots C:\\Users\\Admin\\.julia\\packages\\Plots\\HcxwM\\src\\utils.jl:129\n",
      "┌ Warning: Indices Base.OneTo(1) of attribute `linewidth` does not match data indices 1:118.\n",
      "└ @ Plots C:\\Users\\Admin\\.julia\\packages\\Plots\\HcxwM\\src\\utils.jl:129\n",
      "┌ Warning: Indices Base.OneTo(1) of attribute `linewidth` does not match data indices 1:118.\n",
      "└ @ Plots C:\\Users\\Admin\\.julia\\packages\\Plots\\HcxwM\\src\\utils.jl:129\n",
      "┌ Warning: Indices Base.OneTo(1) of attribute `linewidth` does not match data indices 1:118.\n",
      "└ @ Plots C:\\Users\\Admin\\.julia\\packages\\Plots\\HcxwM\\src\\utils.jl:129\n",
      "┌ Warning: Indices Base.OneTo(1) of attribute `linewidth` does not match data indices 1:105.\n",
      "└ @ Plots C:\\Users\\Admin\\.julia\\packages\\Plots\\HcxwM\\src\\utils.jl:129\n",
      "┌ Warning: Indices Base.OneTo(1) of attribute `linewidth` does not match data indices 1:105.\n",
      "└ @ Plots C:\\Users\\Admin\\.julia\\packages\\Plots\\HcxwM\\src\\utils.jl:129\n",
      "┌ Warning: Indices Base.OneTo(1) of attribute `linewidth` does not match data indices 1:118.\n",
      "└ @ Plots C:\\Users\\Admin\\.julia\\packages\\Plots\\HcxwM\\src\\utils.jl:129\n",
      "┌ Warning: Indices Base.OneTo(1) of attribute `linewidth` does not match data indices 1:117.\n",
      "└ @ Plots C:\\Users\\Admin\\.julia\\packages\\Plots\\HcxwM\\src\\utils.jl:129\n",
      "┌ Warning: Indices Base.OneTo(1) of attribute `linewidth` does not match data indices 1:118.\n",
      "└ @ Plots C:\\Users\\Admin\\.julia\\packages\\Plots\\HcxwM\\src\\utils.jl:129\n",
      "┌ Warning: Indices Base.OneTo(1) of attribute `linewidth` does not match data indices 1:117.\n",
      "└ @ Plots C:\\Users\\Admin\\.julia\\packages\\Plots\\HcxwM\\src\\utils.jl:129\n",
      "┌ Warning: Indices Base.OneTo(1) of attribute `linewidth` does not match data indices 1:118.\n",
      "└ @ Plots C:\\Users\\Admin\\.julia\\packages\\Plots\\HcxwM\\src\\utils.jl:129\n",
      "┌ Warning: Indices Base.OneTo(1) of attribute `linewidth` does not match data indices 1:109.\n",
      "└ @ Plots C:\\Users\\Admin\\.julia\\packages\\Plots\\HcxwM\\src\\utils.jl:129\n",
      "┌ Warning: Indices Base.OneTo(1) of attribute `linewidth` does not match data indices 1:118.\n",
      "└ @ Plots C:\\Users\\Admin\\.julia\\packages\\Plots\\HcxwM\\src\\utils.jl:129\n",
      "┌ Warning: Indices Base.OneTo(1) of attribute `linewidth` does not match data indices 1:109.\n",
      "└ @ Plots C:\\Users\\Admin\\.julia\\packages\\Plots\\HcxwM\\src\\utils.jl:129\n",
      "┌ Warning: Indices Base.OneTo(1) of attribute `linewidth` does not match data indices 1:105.\n",
      "└ @ Plots C:\\Users\\Admin\\.julia\\packages\\Plots\\HcxwM\\src\\utils.jl:129\n",
      "┌ Warning: Indices Base.OneTo(1) of attribute `linewidth` does not match data indices 1:105.\n",
      "└ @ Plots C:\\Users\\Admin\\.julia\\packages\\Plots\\HcxwM\\src\\utils.jl:129\n",
      "┌ Warning: Indices Base.OneTo(1) of attribute `linewidth` does not match data indices 1:105.\n",
      "└ @ Plots C:\\Users\\Admin\\.julia\\packages\\Plots\\HcxwM\\src\\utils.jl:129\n",
      "┌ Warning: Indices Base.OneTo(1) of attribute `linewidth` does not match data indices 1:104.\n",
      "└ @ Plots C:\\Users\\Admin\\.julia\\packages\\Plots\\HcxwM\\src\\utils.jl:129\n",
      "┌ Warning: Indices Base.OneTo(1) of attribute `linewidth` does not match data indices 1:105.\n",
      "└ @ Plots C:\\Users\\Admin\\.julia\\packages\\Plots\\HcxwM\\src\\utils.jl:129\n",
      "┌ Warning: Indices Base.OneTo(1) of attribute `linewidth` does not match data indices 1:104.\n",
      "└ @ Plots C:\\Users\\Admin\\.julia\\packages\\Plots\\HcxwM\\src\\utils.jl:129\n"
     ]
    }
   ],
   "source": [
    "include(\"MasterAnalysis.jl\")"
   ]
  },
  {
   "cell_type": "code",
   "execution_count": null,
   "metadata": {},
   "outputs": [],
   "source": []
  }
 ],
 "metadata": {
  "kernelspec": {
   "display_name": "Julia 1.6.1",
   "language": "julia",
   "name": "julia-1.6"
  },
  "language_info": {
   "file_extension": ".jl",
   "mimetype": "application/julia",
   "name": "julia",
   "version": "1.6.1"
  }
 },
 "nbformat": 4,
 "nbformat_minor": 2
}
