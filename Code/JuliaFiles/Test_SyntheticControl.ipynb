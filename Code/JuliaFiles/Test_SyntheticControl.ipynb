{
 "cells": [
  {
   "cell_type": "code",
   "execution_count": 1,
   "metadata": {},
   "outputs": [
    {
     "data": {
      "text/plain": [
       "GenSynthetics (generic function with 1 method)"
      ]
     },
     "execution_count": 1,
     "metadata": {},
     "output_type": "execute_result"
    }
   ],
   "source": [
    "include(\"GenSynthetics_NLOpt.jl\")"
   ]
  },
  {
   "cell_type": "code",
   "execution_count": 12,
   "metadata": {},
   "outputs": [
    {
     "data": {
      "text/html": [
       "<table class=\"data-frame\"><thead><tr><th></th><th>Country</th><th>year</th><th>L3</th><th>L2</th><th>L1</th><th>Y</th></tr><tr><th></th><th>String</th><th>Int64</th><th>Float64</th><th>Float64</th><th>Float64</th><th>Float64</th></tr></thead><tbody><p>2 rows × 6 columns</p><tr><th>1</th><td>T1</td><td>2020</td><td>2.0</td><td>2.0</td><td>2.0</td><td>2.0</td></tr><tr><th>2</th><td>T2</td><td>2020</td><td>1.0</td><td>2.0</td><td>3.0</td><td>4.0</td></tr></tbody></table>"
      ],
      "text/latex": [
       "\\begin{tabular}{r|cccccc}\n",
       "\t& Country & year & L3 & L2 & L1 & Y\\\\\n",
       "\t\\hline\n",
       "\t& String & Int64 & Float64 & Float64 & Float64 & Float64\\\\\n",
       "\t\\hline\n",
       "\t1 & T1 & 2020 & 2.0 & 2.0 & 2.0 & 2.0 \\\\\n",
       "\t2 & T2 & 2020 & 1.0 & 2.0 & 3.0 & 4.0 \\\\\n",
       "\\end{tabular}\n"
      ],
      "text/plain": [
       "2×6 DataFrame\n",
       "│ Row │ Country │ year  │ L3      │ L2      │ L1      │ Y       │\n",
       "│     │ \u001b[90mString\u001b[39m  │ \u001b[90mInt64\u001b[39m │ \u001b[90mFloat64\u001b[39m │ \u001b[90mFloat64\u001b[39m │ \u001b[90mFloat64\u001b[39m │ \u001b[90mFloat64\u001b[39m │\n",
       "├─────┼─────────┼───────┼─────────┼─────────┼─────────┼─────────┤\n",
       "│ 1   │ T1      │ 2020  │ 2.0     │ 2.0     │ 2.0     │ 2.0     │\n",
       "│ 2   │ T2      │ 2020  │ 1.0     │ 2.0     │ 3.0     │ 4.0     │"
      ]
     },
     "execution_count": 12,
     "metadata": {},
     "output_type": "execute_result"
    }
   ],
   "source": [
    "Treat = DataFrame(Country = [\"T1\"; \"T2\"], year=[2020; 2020],L3 = [2.; 1.], L2 = [2.; 2.], L1 = [2.; 3.], Y = [2.; 4.])"
   ]
  },
  {
   "cell_type": "code",
   "execution_count": 13,
   "metadata": {},
   "outputs": [
    {
     "data": {
      "text/html": [
       "<table class=\"data-frame\"><thead><tr><th></th><th>Country</th><th>year</th><th>L3</th><th>L2</th><th>L1</th><th>Y</th></tr><tr><th></th><th>String</th><th>Int64</th><th>Float64</th><th>Float64</th><th>Float64</th><th>Float64</th></tr></thead><tbody><p>3 rows × 6 columns</p><tr><th>1</th><td>P1</td><td>2020</td><td>3.0</td><td>3.0</td><td>3.0</td><td>3.0</td></tr><tr><th>2</th><td>P2</td><td>2020</td><td>0.0</td><td>0.0</td><td>0.0</td><td>0.0</td></tr><tr><th>3</th><td>P3</td><td>2020</td><td>2.0</td><td>4.0</td><td>6.0</td><td>8.0</td></tr></tbody></table>"
      ],
      "text/latex": [
       "\\begin{tabular}{r|cccccc}\n",
       "\t& Country & year & L3 & L2 & L1 & Y\\\\\n",
       "\t\\hline\n",
       "\t& String & Int64 & Float64 & Float64 & Float64 & Float64\\\\\n",
       "\t\\hline\n",
       "\t1 & P1 & 2020 & 3.0 & 3.0 & 3.0 & 3.0 \\\\\n",
       "\t2 & P2 & 2020 & 0.0 & 0.0 & 0.0 & 0.0 \\\\\n",
       "\t3 & P3 & 2020 & 2.0 & 4.0 & 6.0 & 8.0 \\\\\n",
       "\\end{tabular}\n"
      ],
      "text/plain": [
       "3×6 DataFrame\n",
       "│ Row │ Country │ year  │ L3      │ L2      │ L1      │ Y       │\n",
       "│     │ \u001b[90mString\u001b[39m  │ \u001b[90mInt64\u001b[39m │ \u001b[90mFloat64\u001b[39m │ \u001b[90mFloat64\u001b[39m │ \u001b[90mFloat64\u001b[39m │ \u001b[90mFloat64\u001b[39m │\n",
       "├─────┼─────────┼───────┼─────────┼─────────┼─────────┼─────────┤\n",
       "│ 1   │ P1      │ 2020  │ 3.0     │ 3.0     │ 3.0     │ 3.0     │\n",
       "│ 2   │ P2      │ 2020  │ 0.0     │ 0.0     │ 0.0     │ 0.0     │\n",
       "│ 3   │ P3      │ 2020  │ 2.0     │ 4.0     │ 6.0     │ 8.0     │"
      ]
     },
     "execution_count": 13,
     "metadata": {},
     "output_type": "execute_result"
    }
   ],
   "source": [
    "Pool = DataFrame(Country = [\"P1\"; \"P2\"; \"P3\"], year=[2020; 2020; 2020], L3 = [3.; 0.; 2.], L2 = [3.; 0.;4.], L1 = [3.; 0.; 6.], Y = [3.; 0.; 8.])"
   ]
  },
  {
   "cell_type": "code",
   "execution_count": 17,
   "metadata": {},
   "outputs": [
    {
     "name": "stdout",
     "output_type": "stream",
     "text": [
      "T1 2020 has local donors!\n",
      "T2 2020 has local donors!\n"
     ]
    },
    {
     "data": {
      "text/html": [
       "<table class=\"data-frame\"><thead><tr><th></th><th>Country</th><th>year</th><th>L3</th><th>L2</th><th>L1</th><th>Y</th><th>SqError</th></tr><tr><th></th><th>String</th><th>Int64</th><th>Float64</th><th>Float64</th><th>Float64</th><th>Float64</th><th>Float64</th></tr></thead><tbody><p>2 rows × 7 columns</p><tr><th>1</th><td>Synthetic T1</td><td>2020</td><td>1.99999</td><td>2.0</td><td>2.00002</td><td>2.00003</td><td>3.55918e-10</td></tr><tr><th>2</th><td>Synthetic T2</td><td>2020</td><td>1.00001</td><td>2.0</td><td>3.0</td><td>3.99999</td><td>1.63815e-10</td></tr></tbody></table>"
      ],
      "text/latex": [
       "\\begin{tabular}{r|ccccccc}\n",
       "\t& Country & year & L3 & L2 & L1 & Y & SqError\\\\\n",
       "\t\\hline\n",
       "\t& String & Int64 & Float64 & Float64 & Float64 & Float64 & Float64\\\\\n",
       "\t\\hline\n",
       "\t1 & Synthetic T1 & 2020 & 1.99999 & 2.0 & 2.00002 & 2.00003 & 3.55918e-10 \\\\\n",
       "\t2 & Synthetic T2 & 2020 & 1.00001 & 2.0 & 3.0 & 3.99999 & 1.63815e-10 \\\\\n",
       "\\end{tabular}\n"
      ],
      "text/plain": [
       "2×7 DataFrame. Omitted printing of 1 columns\n",
       "│ Row │ Country      │ year  │ L3      │ L2      │ L1      │ Y       │\n",
       "│     │ \u001b[90mString\u001b[39m       │ \u001b[90mInt64\u001b[39m │ \u001b[90mFloat64\u001b[39m │ \u001b[90mFloat64\u001b[39m │ \u001b[90mFloat64\u001b[39m │ \u001b[90mFloat64\u001b[39m │\n",
       "├─────┼──────────────┼───────┼─────────┼─────────┼─────────┼─────────┤\n",
       "│ 1   │ Synthetic T1 │ 2020  │ 1.99999 │ 2.0     │ 2.00002 │ 2.00003 │\n",
       "│ 2   │ Synthetic T2 │ 2020  │ 1.00001 │ 2.0     │ 3.0     │ 3.99999 │"
      ]
     },
     "execution_count": 17,
     "metadata": {},
     "output_type": "execute_result"
    }
   ],
   "source": [
    "matchon = [:L3, :L2, :L1]\n",
    "predict = [:Y]\n",
    "(TreatMatch, Synthetics, Weights) = GenSynthetics(Treat, Pool, matchon, predict)\n",
    "Synthetics"
   ]
  },
  {
   "cell_type": "code",
   "execution_count": 19,
   "metadata": {},
   "outputs": [
    {
     "data": {
      "text/html": [
       "<table class=\"data-frame\"><thead><tr><th></th><th>Country</th><th>year</th><th>ID</th><th>weight</th><th>weight_1</th></tr><tr><th></th><th>String⍰</th><th>Int64⍰</th><th>Int64⍰</th><th>Float64⍰</th><th>Float64⍰</th></tr></thead><tbody><p>3 rows × 5 columns</p><tr><th>1</th><td>P1</td><td>2020</td><td>1</td><td>0.66666</td><td>6.32848e-6</td></tr><tr><th>2</th><td>P2</td><td>2020</td><td>2</td><td>0.333334</td><td>0.499997</td></tr><tr><th>3</th><td>P3</td><td>2020</td><td>3</td><td>6.22469e-6</td><td>0.499996</td></tr></tbody></table>"
      ],
      "text/latex": [
       "\\begin{tabular}{r|ccccc}\n",
       "\t& Country & year & ID & weight & weight\\_1\\\\\n",
       "\t\\hline\n",
       "\t& String⍰ & Int64⍰ & Int64⍰ & Float64⍰ & Float64⍰\\\\\n",
       "\t\\hline\n",
       "\t1 & P1 & 2020 & 1 & 0.66666 & 6.32848e-6 \\\\\n",
       "\t2 & P2 & 2020 & 2 & 0.333334 & 0.499997 \\\\\n",
       "\t3 & P3 & 2020 & 3 & 6.22469e-6 & 0.499996 \\\\\n",
       "\\end{tabular}\n"
      ],
      "text/plain": [
       "3×5 DataFrame\n",
       "│ Row │ Country │ year   │ ID     │ weight     │ weight_1   │\n",
       "│     │ \u001b[90mString⍰\u001b[39m │ \u001b[90mInt64⍰\u001b[39m │ \u001b[90mInt64⍰\u001b[39m │ \u001b[90mFloat64⍰\u001b[39m   │ \u001b[90mFloat64⍰\u001b[39m   │\n",
       "├─────┼─────────┼────────┼────────┼────────────┼────────────┤\n",
       "│ 1   │ P1      │ 2020   │ 1      │ 0.66666    │ 6.32848e-6 │\n",
       "│ 2   │ P2      │ 2020   │ 2      │ 0.333334   │ 0.499997   │\n",
       "│ 3   │ P3      │ 2020   │ 3      │ 6.22469e-6 │ 0.499996   │"
      ]
     },
     "execution_count": 19,
     "metadata": {},
     "output_type": "execute_result"
    }
   ],
   "source": [
    "Weights"
   ]
  },
  {
   "cell_type": "code",
   "execution_count": null,
   "metadata": {},
   "outputs": [],
   "source": []
  }
 ],
 "metadata": {
  "kernelspec": {
   "display_name": "Julia 1.3.0",
   "language": "julia",
   "name": "julia-1.3"
  },
  "language_info": {
   "file_extension": ".jl",
   "mimetype": "application/julia",
   "name": "julia",
   "version": "1.3.0"
  }
 },
 "nbformat": 4,
 "nbformat_minor": 2
}
